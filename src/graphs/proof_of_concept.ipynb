{
 "cells": [
  {
   "cell_type": "code",
   "id": "initial_id",
   "metadata": {
    "collapsed": true
   },
   "source": [
    "import torch\n",
    "from pytorch_semifield_conv import (\n",
    "    BroadcastSemifield,\n",
    "    GenericConv2D,\n",
    "    QuadraticKernelSpectral2D,\n",
    ")\n",
    "import matplotlib.pyplot as plt\n",
    "import numpy as np\n",
    "from tqdm.auto import trange"
   ],
   "outputs": [],
   "execution_count": null
  },
  {
   "cell_type": "code",
   "id": "3edc7de114933b1b",
   "metadata": {},
   "source": [
    "# Move to project root\n",
    "from pathlib import Path\n",
    "import os\n",
    "\n",
    "if not Path(\"./src/models\").is_dir():\n",
    "    for parent_path in Path.cwd().parents:\n",
    "        if (parent_path / \"src/models\").is_dir():\n",
    "            os.chdir(parent_path)\n",
    "            break\n",
    "    else:\n",
    "        raise FileNotFoundError(\"Can't find project root\")\n",
    "\n",
    "assert Path(\"./src/models\").is_dir()"
   ],
   "outputs": [],
   "execution_count": null
  },
  {
   "cell_type": "code",
   "id": "79c816f51e17551d",
   "metadata": {},
   "source": [
    "resolution = 100\n",
    "kernel_size = 11"
   ],
   "outputs": [],
   "execution_count": null
  },
  {
   "cell_type": "code",
   "id": "829a3f3258b1679b",
   "metadata": {},
   "source": [
    "dilation = BroadcastSemifield.tropical_max().dynamic()"
   ],
   "outputs": [],
   "execution_count": null
  },
  {
   "cell_type": "code",
   "id": "28354fa3e52b0656",
   "metadata": {},
   "source": [
    "# Pick an interesting-looking kernel: it learns for other seeds as well\n",
    "torch.manual_seed(7)\n",
    "target_kernel = QuadraticKernelSpectral2D(\n",
    "    1, 1, kernel_size, {\"var\": \"skewed\", \"theta\": \"uniform\"}\n",
    ").requires_grad_(False)\n",
    "print(*target_kernel.covs.named_parameters(), sep=\"\\n\")"
   ],
   "outputs": [],
   "execution_count": null
  },
  {
   "cell_type": "code",
   "id": "6690b3a53ec05b4c",
   "metadata": {},
   "source": [
    "torch.manual_seed(0)\n",
    "learned_kernel = QuadraticKernelSpectral2D(1, 1, kernel_size)\n",
    "print(*learned_kernel.covs.named_parameters(), sep=\"\\n\")"
   ],
   "outputs": [],
   "execution_count": null
  },
  {
   "cell_type": "code",
   "id": "23331c796fd30c78",
   "metadata": {},
   "source": [
    "torch.manual_seed(0)\n",
    "inp = torch.rand((100, 1, resolution, resolution))\n",
    "target_out = GenericConv2D(kernel=target_kernel, conv=dilation)(inp)"
   ],
   "outputs": [],
   "execution_count": null
  },
  {
   "cell_type": "code",
   "id": "b253d3de78b83f0f",
   "metadata": {},
   "source": [
    "initial_out = GenericConv2D(kernel=learned_kernel, conv=dilation)(inp)"
   ],
   "outputs": [],
   "execution_count": null
  },
  {
   "cell_type": "code",
   "id": "18074bb2c68a16ec",
   "metadata": {},
   "source": [
    "plt.set_cmap(\"Spectral_r\");"
   ],
   "outputs": [],
   "execution_count": null
  },
  {
   "cell_type": "code",
   "id": "bbc13762648c6d12",
   "metadata": {},
   "source": [
    "loss = torch.nn.MSELoss(reduction=\"sum\")"
   ],
   "outputs": [],
   "execution_count": null
  },
  {
   "cell_type": "code",
   "id": "5c485129619098f3",
   "metadata": {},
   "source": [
    "def plot_data(\n",
    "    data: torch.Tensor,\n",
    "    batch: int = 0,\n",
    "    channel: int = 0,\n",
    "    ax: plt.Axes = None,\n",
    "    title: str = \"\",\n",
    "    vmin: float = 0,\n",
    "    vmax: float = 1,\n",
    "    save_to: str = None,\n",
    "):\n",
    "    assert len(data.shape) == 4\n",
    "    data = data[batch, channel].numpy(force=True)\n",
    "    if ax is None:\n",
    "        _, ax = plt.subplots(\n",
    "            layout=\"compressed\", dpi=500 if save_to else None, figsize=(3, 3)\n",
    "        )\n",
    "    ax.imshow(data, vmin=vmin, vmax=vmax)\n",
    "    ax.axis(\"off\")\n",
    "    ax.set_title(title, font=\"Latin Modern Roman\", fontsize=16)\n",
    "    if save_to:\n",
    "        plt.savefig(save_to)\n",
    "\n",
    "\n",
    "plot_data(inp, title=\"Input data\")\n",
    "plot_data(target_kernel(), title=\"Target kernel\", vmin=-1, vmax=0)\n",
    "plot_data(target_out, title=\"Target output\")\n",
    "plot_data(learned_kernel(), title=\"Initial kernel\", vmin=-1, vmax=0)\n",
    "plot_data(initial_out, title=\"Initial output\")\n",
    "print(\n",
    "    \"Initial loss:\",\n",
    "    loss(initial_out, target_out).item(),\n",
    ")"
   ],
   "outputs": [],
   "execution_count": null
  },
  {
   "cell_type": "code",
   "id": "a8b8566d547dd70d",
   "metadata": {},
   "source": [
    "torch.manual_seed(0)\n",
    "learned_kernel = QuadraticKernelSpectral2D(1, 1, kernel_size)\n",
    "optim = torch.optim.Adam(learned_kernel.parameters(), lr=0.05)\n",
    "\n",
    "print(\"TARGET\", *target_kernel.covs.named_parameters(), sep=\"\\n\")\n",
    "print(\"INITIAL\", *learned_kernel.covs.named_parameters(), sep=\"\\n\")\n",
    "\n",
    "plot_data(\n",
    "    target_kernel(),\n",
    "    title=f\"Target kernel\",\n",
    "    vmin=-1,\n",
    "    vmax=0,\n",
    "    save_to=\"./report/figures/poc_target.png\",\n",
    ")\n",
    "plot_data(\n",
    "    learned_kernel(),\n",
    "    title=f\"Initial (skewed, theta=0) kernel\",\n",
    "    vmin=-1,\n",
    "    vmax=0,\n",
    "    save_to=\"./report/figures/poc_init.png\",\n",
    ")\n",
    "\n",
    "for i in trange(50, unit=\"steps\", desc=\"Fitting on random data\"):\n",
    "    if i and not i % 10:\n",
    "        plot_data(\n",
    "            learned_kernel(),\n",
    "            title=f\"Training step {i}\",\n",
    "            vmin=-1,\n",
    "            vmax=0,\n",
    "            save_to=f\"./report/figures/poc_step_{i}.png\",\n",
    "        )\n",
    "    output = GenericConv2D(kernel=learned_kernel, conv=dilation)(inp)\n",
    "    optim.zero_grad()\n",
    "    cur_loss = loss(output, target_out)\n",
    "    cur_loss.backward()\n",
    "    optim.step()\n",
    "\n",
    "plot_data(\n",
    "    learned_kernel(),\n",
    "    title=f\"Learned kernel, after 50 steps\",\n",
    "    vmin=-1,\n",
    "    vmax=0,\n",
    "    save_to=f\"./report/figures/poc_result.png\",\n",
    ")\n",
    "print(\"RESULT\", *learned_kernel.covs.named_parameters(), sep=\"\\n\")"
   ],
   "outputs": [],
   "execution_count": null
  },
  {
   "metadata": {
    "ExecuteTime": {
     "end_time": "2025-05-24T08:04:51.375699Z",
     "start_time": "2025-05-24T08:04:51.372145Z"
    }
   },
   "cell_type": "code",
   "source": [
    "torch.backends.cudnn.benchmark = True\n",
    "print(torch.backends.cudnn.benchmark_limit)"
   ],
   "id": "b8d6c4213219c3fb",
   "outputs": [
    {
     "name": "stdout",
     "output_type": "stream",
     "text": [
      "None\n"
     ]
    }
   ],
   "execution_count": 28
  }
 ],
 "metadata": {
  "kernelspec": {
   "display_name": "Python 3",
   "language": "python",
   "name": "python3"
  },
  "language_info": {
   "codemirror_mode": {
    "name": "ipython",
    "version": 2
   },
   "file_extension": ".py",
   "mimetype": "text/x-python",
   "name": "python",
   "nbconvert_exporter": "python",
   "pygments_lexer": "ipython2",
   "version": "2.7.6"
  }
 },
 "nbformat": 4,
 "nbformat_minor": 5
}
