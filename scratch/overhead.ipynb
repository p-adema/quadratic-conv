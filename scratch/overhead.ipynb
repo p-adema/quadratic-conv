{
 "cells": [
  {
   "cell_type": "code",
   "id": "initial_id",
   "metadata": {
    "collapsed": true,
    "ExecuteTime": {
     "end_time": "2025-05-24T07:09:58.384503Z",
     "start_time": "2025-05-24T07:09:57.436631Z"
    }
   },
   "source": [
    "import torch\n",
    "from numba import cuda\n",
    "import pytorch_numba_extension_jit as pnex"
   ],
   "outputs": [],
   "execution_count": 1
  },
  {
   "metadata": {
    "ExecuteTime": {
     "end_time": "2025-05-24T07:09:58.543034Z",
     "start_time": "2025-05-24T07:09:58.443319Z"
    }
   },
   "cell_type": "code",
   "source": "arr = torch.ones(1_000_000, device=\"cuda\")",
   "id": "ab4b2b7c1175c92d",
   "outputs": [],
   "execution_count": 2
  },
  {
   "metadata": {
    "ExecuteTime": {
     "end_time": "2025-05-24T07:10:07.769838Z",
     "start_time": "2025-05-24T07:09:58.569734Z"
    }
   },
   "cell_type": "code",
   "source": [
    "def time_empty():\n",
    "    pass\n",
    "\n",
    "%timeit time_empty()"
   ],
   "id": "df7460059d8c56bf",
   "outputs": [
    {
     "name": "stdout",
     "output_type": "stream",
     "text": [
      "11.4 ns ± 0.0707 ns per loop (mean ± std. dev. of 7 runs, 100,000,000 loops each)\n"
     ]
    }
   ],
   "execution_count": 3
  },
  {
   "metadata": {
    "ExecuteTime": {
     "end_time": "2025-05-24T07:10:09.426296Z",
     "start_time": "2025-05-24T07:10:07.794296Z"
    }
   },
   "cell_type": "code",
   "source": [
    "def time_sync():\n",
    "    torch.cuda.synchronize()\n",
    "\n",
    "%timeit time_sync()"
   ],
   "id": "17165bb521480530",
   "outputs": [
    {
     "name": "stdout",
     "output_type": "stream",
     "text": [
      "2 μs ± 7.18 ns per loop (mean ± std. dev. of 7 runs, 100,000 loops each)\n"
     ]
    }
   ],
   "execution_count": 4
  },
  {
   "metadata": {
    "ExecuteTime": {
     "end_time": "2025-05-24T07:10:15.180029Z",
     "start_time": "2025-05-24T07:10:09.444862Z"
    }
   },
   "cell_type": "code",
   "source": [
    "def time_torch():\n",
    "    arr.add_(1.0)\n",
    "    torch.cuda.synchronize()\n",
    "\n",
    "time_torch()\n",
    "%timeit time_torch()"
   ],
   "id": "bd74a6514561d320",
   "outputs": [
    {
     "name": "stdout",
     "output_type": "stream",
     "text": [
      "7.06 μs ± 6.56 ns per loop (mean ± std. dev. of 7 runs, 100,000 loops each)\n"
     ]
    }
   ],
   "execution_count": 5
  },
  {
   "metadata": {
    "ExecuteTime": {
     "end_time": "2025-05-24T07:11:31.477690Z",
     "start_time": "2025-05-24T07:11:28.505190Z"
    }
   },
   "cell_type": "code",
   "source": [
    "@cuda.jit(\"void(float32[:])\")\n",
    "def add_numba(a):\n",
    "    x = cuda.grid(1)\n",
    "    if x < a.size:\n",
    "        a[x] += 1\n",
    "\n",
    "n_blocks = (arr.numel() + 127) // 128\n",
    "def time_numba():\n",
    "    add_numba[n_blocks, 128](arr)\n",
    "    torch.cuda.synchronize()\n",
    "\n",
    "time_numba()\n",
    "%timeit time_numba()"
   ],
   "id": "8333960916f4ae8",
   "outputs": [
    {
     "name": "stdout",
     "output_type": "stream",
     "text": [
      "36.3 μs ± 76.4 ns per loop (mean ± std. dev. of 7 runs, 10,000 loops each)\n"
     ]
    }
   ],
   "execution_count": 8
  },
  {
   "metadata": {
    "ExecuteTime": {
     "end_time": "2025-05-24T07:13:01.750930Z",
     "start_time": "2025-05-24T07:12:48.679891Z"
    }
   },
   "cell_type": "code",
   "source": [
    "@pnex.jit(n_threads=arr.numel(), cache_id=\"overhead_measure\")\n",
    "def add_extension(a: pnex.InMut(\"f32\", (None,))):\n",
    "    x = cuda.grid(1)\n",
    "    if x < a.size:\n",
    "        a[x] += 1\n",
    "\n",
    "def time_extension():\n",
    "    add_extension(arr)\n",
    "    torch.cuda.synchronize()\n",
    "\n",
    "time_extension()\n",
    "%timeit time_extension()"
   ],
   "id": "6089435e18ac82da",
   "outputs": [
    {
     "name": "stdout",
     "output_type": "stream",
     "text": [
      "13.1 μs ± 13.7 ns per loop (mean ± std. dev. of 7 runs, 100,000 loops each)\n"
     ]
    }
   ],
   "execution_count": 9
  }
 ],
 "metadata": {
  "kernelspec": {
   "display_name": "Python 3",
   "language": "python",
   "name": "python3"
  },
  "language_info": {
   "codemirror_mode": {
    "name": "ipython",
    "version": 2
   },
   "file_extension": ".py",
   "mimetype": "text/x-python",
   "name": "python",
   "nbconvert_exporter": "python",
   "pygments_lexer": "ipython2",
   "version": "2.7.6"
  }
 },
 "nbformat": 4,
 "nbformat_minor": 5
}
