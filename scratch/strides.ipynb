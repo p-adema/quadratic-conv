{
 "cells": [
  {
   "cell_type": "code",
   "id": "initial_id",
   "metadata": {
    "collapsed": true,
    "ExecuteTime": {
     "end_time": "2025-05-03T07:34:41.707830Z",
     "start_time": "2025-05-03T07:34:40.776149Z"
    }
   },
   "source": [
    "from __future__ import annotations\n",
    "import torch\n",
    "import math"
   ],
   "outputs": [],
   "execution_count": 1
  },
  {
   "cell_type": "code",
   "id": "5597ca2532f5fcf0",
   "metadata": {
    "ExecuteTime": {
     "end_time": "2025-05-03T07:34:43.459461Z",
     "start_time": "2025-05-03T07:34:43.452625Z"
    }
   },
   "source": [
    "# Move to project root\n",
    "from pathlib import Path\n",
    "import os\n",
    "\n",
    "if not Path(\"./src\").is_dir():\n",
    "    for parent_path in Path.cwd().parents:\n",
    "        if (parent_path / \"src\").is_dir():\n",
    "            os.chdir(parent_path)\n",
    "            break\n",
    "    else:\n",
    "        raise FileNotFoundError(\"Can't find project root\")\n",
    "\n",
    "assert Path(\"./src\").is_dir()"
   ],
   "outputs": [],
   "execution_count": 2
  },
  {
   "cell_type": "code",
   "id": "910c103f65b20633",
   "metadata": {
    "ExecuteTime": {
     "end_time": "2025-05-03T07:34:46.123157Z",
     "start_time": "2025-05-03T07:34:44.988204Z"
    }
   },
   "source": [
    "from src import load_data\n",
    "\n",
    "k_mnist = load_data.k_mnist()\n",
    "k_mnist"
   ],
   "outputs": [
    {
     "data": {
      "text/plain": [
       "Dataset(x_train=torch.Size([60000, 1, 28, 28]), x_test=torch.Size([10000, 1, 28, 28]), y_train=torch.Size([60000]), y_test=torch.Size([10000]))"
      ]
     },
     "execution_count": 3,
     "metadata": {},
     "output_type": "execute_result"
    }
   ],
   "execution_count": 3
  },
  {
   "cell_type": "code",
   "id": "38a91cbc7a46bba5",
   "metadata": {
    "ExecuteTime": {
     "end_time": "2025-05-03T07:35:30.088169Z",
     "start_time": "2025-05-03T07:35:30.044682Z"
    }
   },
   "source": [
    "test_i = k_mnist.x_train[:4096].repeat((1, 5, 1, 1)).cuda()\n",
    "test_i.shape"
   ],
   "outputs": [
    {
     "data": {
      "text/plain": [
       "torch.Size([4096, 5, 28, 28])"
      ]
     },
     "execution_count": 6,
     "metadata": {},
     "output_type": "execute_result"
    }
   ],
   "execution_count": 6
  },
  {
   "metadata": {
    "ExecuteTime": {
     "end_time": "2025-05-03T07:35:33.429413Z",
     "start_time": "2025-05-03T07:35:33.423376Z"
    }
   },
   "cell_type": "code",
   "source": [
    "def _as_tup(v: int | tuple[int] | tuple[int, int]):\n",
    "    if isinstance(v, int):\n",
    "        return v, v\n",
    "    if len(v) == 1:\n",
    "        return v[0], v[0]\n",
    "    if len(v) == 2:\n",
    "        return v\n",
    "\n",
    "    raise ValueError(f\"Invalid 2-tuple-like object {v=}\")"
   ],
   "id": "6a58b9ab85512dcb",
   "outputs": [],
   "execution_count": 7
  },
  {
   "metadata": {
    "ExecuteTime": {
     "end_time": "2025-05-03T07:35:36.301376Z",
     "start_time": "2025-05-03T07:35:36.291225Z"
    }
   },
   "cell_type": "code",
   "source": [
    "def unfold_view(imgs: torch.Tensor, kernel_size: int | tuple[int, int],\n",
    "                dilation: int | tuple[int, int] = 1,\n",
    "                padding: int | tuple[int, int] = 0,\n",
    "                stride: int | tuple[int, int] = 1):\n",
    "    if imgs.ndim != 4:\n",
    "        raise ValueError(f\"imgs must be in BCHW, but {imgs.shape=}\")\n",
    "    krs_y, krs_x = _as_tup(kernel_size)\n",
    "    dil_y, dil_x = _as_tup(dilation)\n",
    "    str_y, str_x = _as_tup(stride)\n",
    "    pad_y, pad_x = _as_tup(padding)\n",
    "\n",
    "    if pad_x or pad_y:\n",
    "        msg = (\"unfold_view produces a view, and cannot pad.\"\n",
    "               \" Please perform the padding beforehand.\")\n",
    "        raise ValueError(msg)\n",
    "\n",
    "    out_y = math.floor(\n",
    "        (imgs.shape[2] + 2 * pad_y - dil_y * (krs_y - 1) - 1) / str_y + 1\n",
    "    )\n",
    "    out_x = math.floor(\n",
    "        (imgs.shape[3] + 2 * pad_x - dil_x * (krs_x - 1) - 1) / str_x + 1\n",
    "    )\n",
    "    if out_y <= 0:\n",
    "        raise ValueError(\"Output collapsed in y-dimension\")\n",
    "    if out_x <= 0:\n",
    "        raise ValueError(\"Output collapsed in x-dimension\")\n",
    "\n",
    "    return imgs.as_strided(\n",
    "        (\n",
    "            imgs.shape[0],\n",
    "            imgs.shape[1],\n",
    "            krs_y,\n",
    "            krs_x,\n",
    "            out_y,\n",
    "            out_x,\n",
    "        ),\n",
    "        (\n",
    "            imgs.stride(0),\n",
    "            imgs.stride(1),\n",
    "            imgs.stride(2) * dil_y,\n",
    "            imgs.stride(3) * dil_x,\n",
    "            imgs.stride(2) * str_y,\n",
    "            imgs.stride(3) * str_x,\n",
    "        )\n",
    "    )"
   ],
   "id": "382015c9191f3b71",
   "outputs": [],
   "execution_count": 8
  },
  {
   "metadata": {
    "ExecuteTime": {
     "end_time": "2025-05-03T07:49:19.910010Z",
     "start_time": "2025-05-03T07:49:19.904275Z"
    }
   },
   "cell_type": "code",
   "source": [
    "test_s = unfold_view(test_i, (3, 3))\n",
    "print(test_s.shape)"
   ],
   "id": "6269a0fdecbd796e",
   "outputs": [
    {
     "name": "stdout",
     "output_type": "stream",
     "text": [
      "torch.Size([4096, 5, 3, 3, 26, 26])\n"
     ]
    }
   ],
   "execution_count": 21
  },
  {
   "cell_type": "code",
   "id": "179228b7e06fd526",
   "metadata": {
    "ExecuteTime": {
     "end_time": "2025-05-03T07:36:01.302011Z",
     "start_time": "2025-05-03T07:36:01.278635Z"
    }
   },
   "source": [
    "test_u = torch.nn.functional.unfold(test_i, (3, 3)).view(4096, 5, 3, 3, 26, 26)\n",
    "test_u.shape"
   ],
   "outputs": [
    {
     "data": {
      "text/plain": [
       "torch.Size([4096, 5, 3, 3, 26, 26])"
      ]
     },
     "execution_count": 11,
     "metadata": {},
     "output_type": "execute_result"
    }
   ],
   "execution_count": 11
  },
  {
   "cell_type": "code",
   "id": "b523a383798c1d20",
   "metadata": {
    "ExecuteTime": {
     "end_time": "2025-05-03T07:36:03.294598Z",
     "start_time": "2025-05-03T07:36:03.222070Z"
    }
   },
   "source": "torch.isclose(test_s, test_u).all()",
   "outputs": [
    {
     "data": {
      "text/plain": [
       "tensor(True, device='cuda:0')"
      ]
     },
     "execution_count": 12,
     "metadata": {},
     "output_type": "execute_result"
    }
   ],
   "execution_count": 12
  },
  {
   "metadata": {
    "ExecuteTime": {
     "end_time": "2025-05-03T08:06:31.596516Z",
     "start_time": "2025-05-03T08:06:31.589501Z"
    }
   },
   "cell_type": "code",
   "source": [
    "test_large = unfold_view(test_i, (7, 6), stride=(1, 2))\n",
    "test_large.shape"
   ],
   "id": "6e3888a4a607e7ca",
   "outputs": [
    {
     "data": {
      "text/plain": [
       "torch.Size([4096, 5, 7, 6, 22, 12])"
      ]
     },
     "execution_count": 29,
     "metadata": {},
     "output_type": "execute_result"
    }
   ],
   "execution_count": 29
  },
  {
   "metadata": {
    "ExecuteTime": {
     "end_time": "2025-05-03T08:06:32.261871Z",
     "start_time": "2025-05-03T08:06:32.204278Z"
    }
   },
   "cell_type": "code",
   "source": "torch.allclose(torch.nn.functional.unfold(test_ig, (7, 6), stride=(1, 2)).view(4096, 5, 7, 6, 22, 12), test_large)",
   "id": "ba07ab40fef32ac8",
   "outputs": [
    {
     "data": {
      "text/plain": [
       "True"
      ]
     },
     "execution_count": 30,
     "metadata": {},
     "output_type": "execute_result"
    }
   ],
   "execution_count": 30
  },
  {
   "metadata": {
    "ExecuteTime": {
     "end_time": "2025-05-03T08:07:17.371567Z",
     "start_time": "2025-05-03T08:07:17.364802Z"
    }
   },
   "cell_type": "code",
   "source": [
    "test_strange = unfold_view(test_i, (10, 2), stride=(1, 4), dilation=(2, 3))\n",
    "test_strange.shape"
   ],
   "id": "3ae956d96ad25df9",
   "outputs": [
    {
     "data": {
      "text/plain": [
       "torch.Size([4096, 5, 10, 2, 10, 7])"
      ]
     },
     "execution_count": 31,
     "metadata": {},
     "output_type": "execute_result"
    }
   ],
   "execution_count": 31
  },
  {
   "metadata": {
    "ExecuteTime": {
     "end_time": "2025-05-03T08:08:37.182471Z",
     "start_time": "2025-05-03T08:08:37.135396Z"
    }
   },
   "cell_type": "code",
   "source": [
    "torch.allclose(torch.nn.functional.unfold(test_ig, (10, 2), stride=(1, 4), dilation=(2, 3))\n",
    "               .view(4096, 5, 10, 2, 10, 7), test_strange)\n"
   ],
   "id": "55d6fad6bad47ef7",
   "outputs": [
    {
     "data": {
      "text/plain": [
       "True"
      ]
     },
     "execution_count": 33,
     "metadata": {},
     "output_type": "execute_result"
    }
   ],
   "execution_count": 33
  },
  {
   "metadata": {
    "ExecuteTime": {
     "end_time": "2025-05-03T08:18:24.309020Z",
     "start_time": "2025-05-03T08:18:24.301340Z"
    }
   },
   "cell_type": "code",
   "source": [
    "a = torch.arange(12).reshape(3, 4)\n",
    "torch.amax(a, dim=(0, 1))"
   ],
   "id": "d4d29253207ba51d",
   "outputs": [
    {
     "data": {
      "text/plain": [
       "tensor(11)"
      ]
     },
     "execution_count": 35,
     "metadata": {},
     "output_type": "execute_result"
    }
   ],
   "execution_count": 35
  },
  {
   "metadata": {
    "ExecuteTime": {
     "end_time": "2025-05-03T08:20:57.399017Z",
     "start_time": "2025-05-03T08:20:57.391446Z"
    }
   },
   "cell_type": "code",
   "source": [
    "ag = torch.ones(3, 4, requires_grad=True)\n",
    "torch.max(ag, dim=0).values.sum().backward()\n",
    "ag.grad"
   ],
   "id": "7a4cb811f05fc923",
   "outputs": [
    {
     "data": {
      "text/plain": [
       "tensor([[1., 1., 1., 1.],\n",
       "        [0., 0., 0., 0.],\n",
       "        [0., 0., 0., 0.]])"
      ]
     },
     "execution_count": 44,
     "metadata": {},
     "output_type": "execute_result"
    }
   ],
   "execution_count": 44
  },
  {
   "metadata": {
    "ExecuteTime": {
     "end_time": "2025-05-03T07:36:09.732533Z",
     "start_time": "2025-05-03T07:36:09.673779Z"
    }
   },
   "cell_type": "code",
   "source": [
    "test_ig = test_i.clone().requires_grad_(True)\n",
    "res = torch.nn.functional.unfold(test_ig, (7, 7), stride=2).view(4096, 5, 7, 7, 11, 11)\n",
    "res.sum().backward()\n",
    "ug = test_ig.grad.clone()"
   ],
   "id": "ba542a3fdc2321c3",
   "outputs": [],
   "execution_count": 13
  },
  {
   "metadata": {
    "ExecuteTime": {
     "end_time": "2025-05-03T07:36:14.139405Z",
     "start_time": "2025-05-03T07:36:14.078405Z"
    }
   },
   "cell_type": "code",
   "source": [
    "test_ig = test_i.clone().requires_grad_(True)\n",
    "res = unfold_view(test_ig, (7, 7), stride=2)\n",
    "res.sum().backward()\n",
    "sg = test_ig.grad.clone()"
   ],
   "id": "739cfe142446f7f7",
   "outputs": [],
   "execution_count": 14
  },
  {
   "metadata": {
    "ExecuteTime": {
     "end_time": "2025-05-03T07:36:16.235264Z",
     "start_time": "2025-05-03T07:36:16.227463Z"
    }
   },
   "cell_type": "code",
   "source": "torch.isclose(ug, sg).all()",
   "id": "8e1116c81bf3fad7",
   "outputs": [
    {
     "data": {
      "text/plain": [
       "tensor(True, device='cuda:0')"
      ]
     },
     "execution_count": 15,
     "metadata": {},
     "output_type": "execute_result"
    }
   ],
   "execution_count": 15
  },
  {
   "metadata": {
    "ExecuteTime": {
     "end_time": "2025-05-03T07:40:58.157116Z",
     "start_time": "2025-05-03T07:40:53.530601Z"
    }
   },
   "cell_type": "code",
   "source": [
    "test_ig = test_i.clone().requires_grad_(True)\n",
    "\n",
    "\n",
    "def run_one():\n",
    "    padded = torch.constant_pad_nd(\n",
    "        test_ig, (3, 3, 3, 3), 5\n",
    "    )\n",
    "    time_res = torch.nn.functional.unfold(padded, (7, 7), stride=2).view(4096, 5, 7, 7, 14, 14)\n",
    "    time_res.sum().backward()\n",
    "    torch.cuda.synchronize()\n",
    "\n",
    "\n",
    "run_one()\n",
    "%timeit run_one()"
   ],
   "id": "b89bfc702e49720e",
   "outputs": [
    {
     "name": "stdout",
     "output_type": "stream",
     "text": [
      "56.2 ms ± 5.82 μs per loop (mean ± std. dev. of 7 runs, 10 loops each)\n"
     ]
    }
   ],
   "execution_count": 19
  },
  {
   "metadata": {
    "ExecuteTime": {
     "end_time": "2025-05-03T07:41:02.505831Z",
     "start_time": "2025-05-03T07:40:59.776206Z"
    }
   },
   "cell_type": "code",
   "source": [
    "test_ig = test_i.clone().requires_grad_(True)\n",
    "\n",
    "\n",
    "def run_one():\n",
    "    padded = torch.constant_pad_nd(\n",
    "        test_ig, (3, 3, 3, 3), 5\n",
    "    )\n",
    "    time_res = unfold_view(padded, (7, 7), stride=2)\n",
    "    time_res.sum().backward()\n",
    "    torch.cuda.synchronize()\n",
    "\n",
    "\n",
    "run_one()\n",
    "%timeit run_one()"
   ],
   "id": "bc91f0c26f263710",
   "outputs": [
    {
     "name": "stdout",
     "output_type": "stream",
     "text": [
      "3.35 ms ± 2.05 μs per loop (mean ± std. dev. of 7 runs, 100 loops each)\n"
     ]
    }
   ],
   "execution_count": 20
  }
 ],
 "metadata": {
  "kernelspec": {
   "display_name": "Python 3",
   "language": "python",
   "name": "python3"
  },
  "language_info": {
   "codemirror_mode": {
    "name": "ipython",
    "version": 2
   },
   "file_extension": ".py",
   "mimetype": "text/x-python",
   "name": "python",
   "nbconvert_exporter": "python",
   "pygments_lexer": "ipython2",
   "version": "2.7.6"
  }
 },
 "nbformat": 4,
 "nbformat_minor": 5
}
