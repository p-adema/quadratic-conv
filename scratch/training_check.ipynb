{
 "cells": [
  {
   "cell_type": "code",
   "id": "a71389d1cd8a0147",
   "metadata": {
    "ExecuteTime": {
     "end_time": "2025-04-13T15:50:17.517070Z",
     "start_time": "2025-04-13T15:50:16.450146Z"
    }
   },
   "source": [
    "import math\n",
    "from collections.abc import Iterable\n",
    "from itertools import pairwise, chain\n",
    "from typing import Callable\n",
    "\n",
    "import matplotlib.pyplot as plt\n",
    "import numpy as np\n",
    "import torch\n",
    "import torchvision\n",
    "import polars as pl\n",
    "import seaborn as sns\n",
    "import tqdm.auto as tqdm\n",
    "from torch import nn\n",
    "\n",
    "# %env KERAS_BACKEND=torch\n",
    "#\n",
    "# import keras\n",
    "# from keras import layers\n",
    "# import keras_tuner\n",
    "\n",
    "# torch.set_float32_matmul_precision(\"high\")"
   ],
   "outputs": [],
   "execution_count": 1
  },
  {
   "cell_type": "code",
   "id": "ab78e1a11af147ca",
   "metadata": {
    "ExecuteTime": {
     "end_time": "2025-04-13T15:50:20.222838Z",
     "start_time": "2025-04-13T15:50:20.216022Z"
    }
   },
   "source": [
    "from pathlib import Path\n",
    "import os\n",
    "\n",
    "if not Path(\"./src/kernels\").is_dir():\n",
    "    for parent_path in Path.cwd().parents:\n",
    "        if (parent_path / \"src/kernels\").is_dir():\n",
    "            os.chdir(parent_path)\n",
    "            break\n",
    "    else:\n",
    "        raise FileNotFoundError(\"Can't find project root\")\n",
    "\n",
    "assert Path(\"./src/kernels\").is_dir()"
   ],
   "outputs": [],
   "execution_count": 2
  },
  {
   "cell_type": "code",
   "id": "7b3e5647e40e3955",
   "metadata": {
    "ExecuteTime": {
     "end_time": "2025-04-13T15:50:21.015197Z",
     "start_time": "2025-04-13T15:50:20.708933Z"
    }
   },
   "source": [
    "from src import kernels, convolutions\n",
    "from src.models import simple_lenet\n",
    "from src import load_data"
   ],
   "outputs": [],
   "execution_count": 3
  },
  {
   "cell_type": "code",
   "id": "initial_id",
   "metadata": {
    "collapsed": true,
    "ExecuteTime": {
     "end_time": "2025-04-13T18:15:22.170730Z",
     "start_time": "2025-04-13T18:15:22.144628Z"
    }
   },
   "source": [
    "import importlib\n",
    "\n",
    "# from src.kernels import quadratic as quad_kernels\n",
    "import src.models.simple_lenet\n",
    "import src.load_data\n",
    "import src.models.utils\n",
    "import src.kernels.quadratic\n",
    "import src.convolutions.cuda_select\n",
    "\n",
    "importlib.reload(src.kernels.quadratic)\n",
    "importlib.reload(src.kernels)\n",
    "importlib.reload(src.kernels.utils)\n",
    "importlib.reload(src.convolutions.cuda_select)\n",
    "importlib.reload(src.convolutions.unfold_broadcast)\n",
    "importlib.reload(src.models.utils)\n",
    "importlib.reload(src.models.simple_lenet)\n",
    "importlib.reload(src.load_data)\n",
    "from src.models import simple_lenet\n",
    "from src import load_data\n",
    "\n",
    "# kernels = importlib.reload(kernels)\n",
    "# convolutions = importlib.reload(convolutions)"
   ],
   "outputs": [],
   "execution_count": 226
  },
  {
   "cell_type": "code",
   "id": "80b39890b122bbaf",
   "metadata": {
    "ExecuteTime": {
     "end_time": "2025-04-13T15:50:26.299520Z",
     "start_time": "2025-04-13T15:50:26.201717Z"
    }
   },
   "source": [
    "k_mnist = load_data.k_mnist()\n",
    "k_mnist"
   ],
   "outputs": [
    {
     "data": {
      "text/plain": [
       "Dataset(x_train=(60000, 1, 28, 28), x_test=(10000, 1, 28, 28), y_train=(60000,), y_test=(10000,))"
      ]
     },
     "execution_count": 5,
     "metadata": {},
     "output_type": "execute_result"
    }
   ],
   "execution_count": 5
  },
  {
   "cell_type": "code",
   "execution_count": 178,
   "id": "b220860c71618eff",
   "metadata": {
    "ExecuteTime": {
     "end_time": "2025-04-12T18:15:36.867349Z",
     "start_time": "2025-04-12T18:15:36.860615Z"
    }
   },
   "outputs": [],
   "source": [
    "# def build_model(\n",
    "#         hp: keras_tuner.HyperParameters, debug: bool = False, init: str | float = 3.0\n",
    "# ) -> keras.Model:\n",
    "#     pool_fn_name = hp.Choice(\"pool_fn\", list(simple_lenet.LENET_POOLING_FUNCTIONS))\n",
    "#     pool_fn = simple_lenet.LENET_POOLING_FUNCTIONS[pool_fn_name]\n",
    "#     return (\n",
    "#         simple_lenet.LeNet(\n",
    "#             img_channels=1,\n",
    "#             num_classes=10,\n",
    "#             pool_fn=pool_fn,\n",
    "#             debug=debug,\n",
    "#             init=init,\n",
    "#         )\n",
    "#         .to(\"cuda\")\n",
    "#         .to_keras(k_mnist, extra_name=pool_fn_name)\n",
    "#     )"
   ]
  },
  {
   "cell_type": "code",
   "id": "a80559480dedfbf4",
   "metadata": {
    "ExecuteTime": {
     "end_time": "2025-04-13T15:50:29.698153Z",
     "start_time": "2025-04-13T15:50:29.537387Z"
    }
   },
   "source": [
    "xt, yt = (\n",
    "    torch.as_tensor(k_mnist.x_train, device=\"cuda\"),\n",
    "    torch.as_tensor(k_mnist.y_train, device=\"cuda\"),\n",
    ")"
   ],
   "outputs": [],
   "execution_count": 6
  },
  {
   "cell_type": "code",
   "execution_count": 228,
   "id": "55e42ff6b2ec1d03",
   "metadata": {
    "ExecuteTime": {
     "end_time": "2025-04-13T08:05:48.750220Z",
     "start_time": "2025-04-13T08:05:48.741920Z"
    }
   },
   "outputs": [],
   "source": [
    "# from collections import defaultdict\n",
    "#\n",
    "#\n",
    "# class InspectScales(keras.callbacks.Callback):\n",
    "#     store_targets = {\n",
    "#         kernels.QuadraticKernelIso2D: (\"log_stds\",),\n",
    "#         kernels.utils.LearnedSpectral2D: (\"log_stds\", \"thetas\"),\n",
    "#     }\n",
    "#\n",
    "#     def __init__(self, store: dict[str, list[np.ndarray] | np.ndarray], per_batch: bool = False):\n",
    "#         super().__init__()\n",
    "#         self.mod_counter = 0\n",
    "#         self.store = store\n",
    "#         self.per_batch = per_batch\n",
    "#\n",
    "#     def on_epoch_end(self, epoch, logs=None):\n",
    "#         if not self.per_batch:\n",
    "#             self.mod_counter = 0\n",
    "#             self.recurse_mod(self.model.layers[0].module)\n",
    "#\n",
    "#     def on_train_batch_end(self, batch, logs=None):\n",
    "#         if self.per_batch:\n",
    "#             self.mod_counter = 0\n",
    "#             self.recurse_mod(self.model.layers[0].module)\n",
    "#\n",
    "#     def recurse_mod(self, mod: torch.nn.Module):\n",
    "#         for child in mod.children():\n",
    "#             cls = type(child)\n",
    "#             if cls not in self.store_targets:\n",
    "#                 self.recurse_mod(child)\n",
    "#                 continue\n",
    "#\n",
    "#             num, self.mod_counter = self.mod_counter, self.mod_counter + 1\n",
    "#             targets = self.store_targets[cls]\n",
    "#             for target in targets:\n",
    "#                 val = getattr(child, target).squeeze().numpy(force=True)\n",
    "#                 self.store.setdefault(f\"{num}.{target}\", []).append(val)\n",
    "#\n",
    "#     def on_train_end(self, logs=None):\n",
    "#         for name, vals in self.store.items():\n",
    "#             self.store[name] = np.stack(vals)"
   ]
  },
  {
   "cell_type": "code",
   "execution_count": 266,
   "id": "74065c4379b99cab",
   "metadata": {
    "ExecuteTime": {
     "end_time": "2025-04-13T10:30:50.892977Z",
     "start_time": "2025-04-13T10:30:34.610496Z"
    }
   },
   "outputs": [
    {
     "data": {
      "application/vnd.jupyter.widget-view+json": {
       "model_id": "d726b27ff6d74e179d8d451ee1604f71",
       "version_major": 2,
       "version_minor": 0
      },
      "text/plain": [
       "0epoch [00:00, ?epoch/s]"
      ]
     },
     "metadata": {},
     "output_type": "display_data"
    }
   ],
   "source": [
    "# from tqdm.keras import TqdmCallback\n",
    "#\n",
    "# torch._dynamo.reset()\n",
    "# test_hp = keras_tuner.HyperParameters()\n",
    "# test_hp.Fixed(\"pool_fn\", \"standard-2\")\n",
    "# test_model = build_model(test_hp, init=\"spin\", debug=False)\n",
    "# scales = {}\n",
    "#\n",
    "# # with torch.autograd.detect_anomaly():\n",
    "# hist = test_model.fit(\n",
    "#     xt,\n",
    "#     yt,\n",
    "#     batch_size=32,\n",
    "#     epochs=5,\n",
    "#     callbacks=[\n",
    "#         TqdmCallback(verbose=0),\n",
    "#         # keras.callbacks.EarlyStopping(start_from_epoch=60, patience=10, verbose=True),\n",
    "#         InspectScales(scales, per_batch=False)\n",
    "#     ],\n",
    "#     validation_split=1 / 6,\n",
    "#     validation_batch_size=20_000,\n",
    "# )"
   ]
  },
  {
   "cell_type": "code",
   "execution_count": 265,
   "id": "eacb1948afc71f85",
   "metadata": {
    "ExecuteTime": {
     "end_time": "2025-04-13T08:24:48.706119Z",
     "start_time": "2025-04-13T08:24:48.645716Z"
    }
   },
   "outputs": [
    {
     "data": {
      "text/plain": [
       "<matplotlib.legend.Legend at 0x7e22e19b2c60>"
      ]
     },
     "execution_count": 265,
     "metadata": {},
     "output_type": "execute_result"
    },
    {
     "data": {
      "image/png": "[encoded data removed]",
      "text/plain": [
       "<Figure size 640x480 with 1 Axes>"
      ]
     },
     "metadata": {},
     "output_type": "display_data"
    }
   ],
   "source": [
    "def plot_ci(vals: np.ndarray, ax: plt.Axes = None, label: str = \"\"):\n",
    "    assert len(vals.shape) == 2, \"Cannot plot multiple val types\"\n",
    "    if ax is None:\n",
    "        _, ax = plt.subplots()\n",
    "\n",
    "    q0, q1, q3, q4 = np.quantile(vals, [0, 0.25, 0.75, 1], axis=1)\n",
    "    colour = ax.plot(vals.mean(axis=1), label=label)[0].get_color()\n",
    "    ax.plot(q0, color=colour, linestyle=\"dashed\", alpha=0.4)\n",
    "    ax.plot(q4, color=colour, linestyle=\"dashed\", alpha=0.4)\n",
    "    ax.fill_between(range(len(vals)), q1, q3, color=colour, alpha=0.1)\n",
    "\n",
    "\n",
    "_, test_ax = plt.subplots()\n",
    "plot_ci(scales[\"0.log_stds\"][..., 0], ax=test_ax, label=\"Layer 1\")\n",
    "# plot_ci(scales['0.thetas'], ax=test_ax, label=\"Layer 1\")\n",
    "plot_ci(scales[\"1.log_stds\"][..., 0], ax=test_ax, label=\"Layer 2\")\n",
    "# plot_ci(scales['1.thetas'], ax=test_ax, label=\"Layer 2\")\n",
    "plt.legend()"
   ]
  },
  {
   "cell_type": "code",
   "execution_count": 234,
   "id": "dfa4f03478a497e7",
   "metadata": {
    "ExecuteTime": {
     "end_time": "2025-04-13T08:11:02.549312Z",
     "start_time": "2025-04-13T08:11:02.539153Z"
    }
   },
   "outputs": [
    {
     "data": {
      "text/plain": [
       "array([[5.00124502, 5.01840639, 5.03886414, 5.04413652, 5.07203484,\n",
       "        5.08115625, 5.10532141, 5.11548328, 5.14212465, 5.15606451],\n",
       "       [5.11739457, 5.18777776, 5.24617743, 5.29276001, 5.34578133,\n",
       "        5.38976574, 5.45224094, 5.47871959, 5.52440035, 5.55995977],\n",
       "       [5.18108499, 5.27683342, 5.38017368, 5.46463323, 5.58360875,\n",
       "        5.65384352, 5.74113262, 5.82092738, 5.87248981, 5.92792177],\n",
       "       [5.21381474, 5.32263422, 5.44992685, 5.56090355, 5.69311333,\n",
       "        5.78343487, 5.90698147, 5.99024725, 6.08859396, 6.16753626]])"
      ]
     },
     "execution_count": 234,
     "metadata": {},
     "output_type": "execute_result"
    }
   ],
   "source": [
    "np.quantile(scales[\"0.log_stds\"], [0, 0.25, 0.75, 1], axis=1)"
   ]
  },
  {
   "cell_type": "code",
   "execution_count": 241,
   "id": "5bb4217ed814645b",
   "metadata": {
    "ExecuteTime": {
     "end_time": "2025-04-13T08:13:58.593053Z",
     "start_time": "2025-04-13T08:13:58.586372Z"
    }
   },
   "outputs": [
    {
     "data": {
      "text/plain": [
       "'#1f77b4'"
      ]
     },
     "execution_count": 241,
     "metadata": {},
     "output_type": "execute_result"
    }
   ],
   "source": [
    "d[0].get_color()"
   ]
  },
  {
   "cell_type": "code",
   "execution_count": 27,
   "id": "d373305424954708",
   "metadata": {
    "ExecuteTime": {
     "end_time": "2025-04-12T15:09:57.929065Z",
     "start_time": "2025-04-12T15:09:57.921782Z"
    }
   },
   "outputs": [
    {
     "data": {
      "text/plain": [
       "<keras.src.callbacks.history.History at 0x73150b2f0ec0>"
      ]
     },
     "execution_count": 27,
     "metadata": {},
     "output_type": "execute_result"
    }
   ],
   "source": [
    "hist"
   ]
  },
  {
   "cell_type": "code",
   "execution_count": 188,
   "id": "8230086552e3043b",
   "metadata": {
    "ExecuteTime": {
     "end_time": "2025-04-12T18:17:08.349568Z",
     "start_time": "2025-04-12T18:17:08.328135Z"
    }
   },
   "outputs": [
    {
     "data": {
      "text/plain": [
       "tensor([[[[0.0384, 0.0235, 0.0185, 0.0235, 0.0384],\n",
       "          [0.0246, 0.0096, 0.0046, 0.0096, 0.0246],\n",
       "          [0.0199, 0.0050, 0.0000, 0.0050, 0.0199],\n",
       "          [0.0246, 0.0096, 0.0046, 0.0096, 0.0246],\n",
       "          [0.0384, 0.0235, 0.0185, 0.0235, 0.0384]]],\n",
       "\n",
       "\n",
       "        [[[0.0434, 0.0273, 0.0219, 0.0273, 0.0434],\n",
       "          [0.0270, 0.0109, 0.0055, 0.0109, 0.0270],\n",
       "          [0.0215, 0.0054, 0.0000, 0.0054, 0.0215],\n",
       "          [0.0270, 0.0109, 0.0055, 0.0109, 0.0270],\n",
       "          [0.0434, 0.0273, 0.0219, 0.0273, 0.0434]]],\n",
       "\n",
       "\n",
       "        [[[0.0402, 0.0249, 0.0198, 0.0249, 0.0402],\n",
       "          [0.0254, 0.0101, 0.0050, 0.0101, 0.0254],\n",
       "          [0.0204, 0.0051, 0.0000, 0.0051, 0.0204],\n",
       "          [0.0254, 0.0101, 0.0050, 0.0101, 0.0254],\n",
       "          [0.0402, 0.0249, 0.0198, 0.0249, 0.0402]]],\n",
       "\n",
       "\n",
       "        [[[0.0407, 0.0256, 0.0206, 0.0256, 0.0407],\n",
       "          [0.0253, 0.0102, 0.0051, 0.0102, 0.0253],\n",
       "          [0.0201, 0.0050, 0.0000, 0.0050, 0.0201],\n",
       "          [0.0253, 0.0102, 0.0051, 0.0102, 0.0253],\n",
       "          [0.0407, 0.0256, 0.0206, 0.0256, 0.0407]]],\n",
       "\n",
       "\n",
       "        [[[0.0464, 0.0285, 0.0226, 0.0286, 0.0465],\n",
       "          [0.0295, 0.0116, 0.0056, 0.0116, 0.0295],\n",
       "          [0.0238, 0.0060, 0.0000, 0.0060, 0.0238],\n",
       "          [0.0295, 0.0116, 0.0056, 0.0116, 0.0295],\n",
       "          [0.0465, 0.0286, 0.0226, 0.0285, 0.0464]]],\n",
       "\n",
       "\n",
       "        [[[0.0390, 0.0242, 0.0192, 0.0242, 0.0390],\n",
       "          [0.0246, 0.0098, 0.0048, 0.0098, 0.0246],\n",
       "          [0.0198, 0.0050, 0.0000, 0.0050, 0.0198],\n",
       "          [0.0246, 0.0098, 0.0048, 0.0098, 0.0246],\n",
       "          [0.0390, 0.0242, 0.0192, 0.0242, 0.0390]]],\n",
       "\n",
       "\n",
       "        [[[0.0416, 0.0259, 0.0208, 0.0261, 0.0420],\n",
       "          [0.0261, 0.0104, 0.0052, 0.0105, 0.0263],\n",
       "          [0.0210, 0.0053, 0.0000, 0.0053, 0.0210],\n",
       "          [0.0263, 0.0105, 0.0052, 0.0104, 0.0261],\n",
       "          [0.0420, 0.0261, 0.0208, 0.0259, 0.0416]]],\n",
       "\n",
       "\n",
       "        [[[0.0416, 0.0265, 0.0214, 0.0265, 0.0416],\n",
       "          [0.0255, 0.0104, 0.0054, 0.0104, 0.0255],\n",
       "          [0.0202, 0.0050, 0.0000, 0.0050, 0.0202],\n",
       "          [0.0255, 0.0104, 0.0054, 0.0104, 0.0255],\n",
       "          [0.0416, 0.0265, 0.0214, 0.0265, 0.0416]]],\n",
       "\n",
       "\n",
       "        [[[0.0468, 0.0301, 0.0250, 0.0316, 0.0499],\n",
       "          [0.0288, 0.0117, 0.0063, 0.0125, 0.0303],\n",
       "          [0.0233, 0.0058, 0.0000, 0.0058, 0.0233],\n",
       "          [0.0303, 0.0125, 0.0063, 0.0117, 0.0288],\n",
       "          [0.0499, 0.0316, 0.0250, 0.0301, 0.0468]]],\n",
       "\n",
       "\n",
       "        [[[0.0368, 0.0226, 0.0188, 0.0254, 0.0424],\n",
       "          [0.0241, 0.0092, 0.0047, 0.0106, 0.0269],\n",
       "          [0.0208, 0.0052, 0.0000, 0.0052, 0.0208],\n",
       "          [0.0269, 0.0106, 0.0047, 0.0092, 0.0241],\n",
       "          [0.0424, 0.0254, 0.0188, 0.0226, 0.0368]]],\n",
       "\n",
       "\n",
       "        [[[0.0374, 0.0240, 0.0214, 0.0295, 0.0483],\n",
       "          [0.0241, 0.0093, 0.0053, 0.0121, 0.0295],\n",
       "          [0.0215, 0.0054, 0.0000, 0.0054, 0.0215],\n",
       "          [0.0295, 0.0121, 0.0053, 0.0093, 0.0241],\n",
       "          [0.0483, 0.0295, 0.0214, 0.0240, 0.0374]]],\n",
       "\n",
       "\n",
       "        [[[0.0360, 0.0221, 0.0176, 0.0224, 0.0365],\n",
       "          [0.0229, 0.0090, 0.0044, 0.0091, 0.0232],\n",
       "          [0.0187, 0.0047, 0.0000, 0.0047, 0.0187],\n",
       "          [0.0232, 0.0091, 0.0044, 0.0090, 0.0229],\n",
       "          [0.0365, 0.0224, 0.0176, 0.0221, 0.0360]]],\n",
       "\n",
       "\n",
       "        [[[0.0364, 0.0223, 0.0184, 0.0248, 0.0413],\n",
       "          [0.0238, 0.0091, 0.0046, 0.0103, 0.0263],\n",
       "          [0.0204, 0.0051, 0.0000, 0.0051, 0.0204],\n",
       "          [0.0263, 0.0103, 0.0046, 0.0091, 0.0238],\n",
       "          [0.0413, 0.0248, 0.0184, 0.0223, 0.0364]]],\n",
       "\n",
       "\n",
       "        [[[0.0412, 0.0257, 0.0205, 0.0257, 0.0412],\n",
       "          [0.0258, 0.0103, 0.0051, 0.0103, 0.0258],\n",
       "          [0.0206, 0.0052, 0.0000, 0.0052, 0.0206],\n",
       "          [0.0258, 0.0103, 0.0051, 0.0103, 0.0258],\n",
       "          [0.0412, 0.0257, 0.0205, 0.0257, 0.0412]]],\n",
       "\n",
       "\n",
       "        [[[0.0408, 0.0259, 0.0209, 0.0259, 0.0408],\n",
       "          [0.0251, 0.0102, 0.0052, 0.0102, 0.0251],\n",
       "          [0.0198, 0.0050, 0.0000, 0.0050, 0.0198],\n",
       "          [0.0251, 0.0102, 0.0052, 0.0102, 0.0251],\n",
       "          [0.0408, 0.0259, 0.0209, 0.0259, 0.0408]]],\n",
       "\n",
       "\n",
       "        [[[0.0395, 0.0245, 0.0195, 0.0245, 0.0395],\n",
       "          [0.0248, 0.0099, 0.0049, 0.0099, 0.0248],\n",
       "          [0.0200, 0.0050, 0.0000, 0.0050, 0.0200],\n",
       "          [0.0248, 0.0099, 0.0049, 0.0099, 0.0248],\n",
       "          [0.0395, 0.0245, 0.0195, 0.0245, 0.0395]]],\n",
       "\n",
       "\n",
       "        [[[0.0384, 0.0237, 0.0188, 0.0237, 0.0384],\n",
       "          [0.0243, 0.0096, 0.0047, 0.0096, 0.0243],\n",
       "          [0.0196, 0.0049, 0.0000, 0.0049, 0.0196],\n",
       "          [0.0243, 0.0096, 0.0047, 0.0096, 0.0243],\n",
       "          [0.0384, 0.0237, 0.0188, 0.0237, 0.0384]]],\n",
       "\n",
       "\n",
       "        [[[0.0450, 0.0289, 0.0237, 0.0296, 0.0463],\n",
       "          [0.0275, 0.0113, 0.0059, 0.0116, 0.0282],\n",
       "          [0.0219, 0.0055, 0.0000, 0.0055, 0.0219],\n",
       "          [0.0282, 0.0116, 0.0059, 0.0113, 0.0275],\n",
       "          [0.0463, 0.0296, 0.0237, 0.0289, 0.0450]]],\n",
       "\n",
       "\n",
       "        [[[0.0424, 0.0267, 0.0214, 0.0267, 0.0425],\n",
       "          [0.0264, 0.0106, 0.0053, 0.0106, 0.0264],\n",
       "          [0.0211, 0.0053, 0.0000, 0.0053, 0.0211],\n",
       "          [0.0264, 0.0106, 0.0053, 0.0106, 0.0264],\n",
       "          [0.0425, 0.0267, 0.0214, 0.0267, 0.0424]]],\n",
       "\n",
       "\n",
       "        [[[0.0395, 0.0252, 0.0203, 0.0248, 0.0386],\n",
       "          [0.0241, 0.0099, 0.0051, 0.0097, 0.0236],\n",
       "          [0.0188, 0.0047, 0.0000, 0.0047, 0.0188],\n",
       "          [0.0236, 0.0097, 0.0051, 0.0099, 0.0241],\n",
       "          [0.0386, 0.0248, 0.0203, 0.0252, 0.0395]]]], device='cuda:0',\n",
       "       grad_fn=<ViewBackward0>)"
      ]
     },
     "execution_count": 188,
     "metadata": {},
     "output_type": "execute_result"
    }
   ],
   "source": [
    "test_model.layers[0].module.net[2].kernel()"
   ]
  },
  {
   "cell_type": "code",
   "execution_count": 255,
   "id": "3bdd021a4ec8db95",
   "metadata": {
    "ExecuteTime": {
     "end_time": "2025-04-13T08:23:13.152027Z",
     "start_time": "2025-04-13T08:23:13.119021Z"
    }
   },
   "outputs": [
    {
     "data": {
      "text/plain": [
       "{'accuracy': 0.10000000149011612,\n",
       " 'loss': 2.302596092224121,\n",
       " 'top3': 0.30000001192092896}"
      ]
     },
     "execution_count": 255,
     "metadata": {},
     "output_type": "execute_result"
    }
   ],
   "source": [
    "# test_model.evaluate(\n",
    "#     k_mnist.x_test, k_mnist.y_test, batch_size=10_000, verbose=False, return_dict=True\n",
    "# )"
   ]
  },
  {
   "cell_type": "code",
   "execution_count": 128,
   "id": "ae3ec99b3efeee1b",
   "metadata": {
    "ExecuteTime": {
     "end_time": "2025-04-12T08:58:54.910152Z",
     "start_time": "2025-04-12T08:58:54.896041Z"
    }
   },
   "outputs": [
    {
     "data": {
      "text/plain": [
       "OrderedDict([('pos_grid',\n",
       "              tensor([[-2., -2.],\n",
       "                      [-2., -1.],\n",
       "                      [-2.,  0.],\n",
       "                      [-2.,  1.],\n",
       "                      [-2.,  2.],\n",
       "                      [-1., -2.],\n",
       "                      [-1., -1.],\n",
       "                      [-1.,  0.],\n",
       "                      [-1.,  1.],\n",
       "                      [-1.,  2.],\n",
       "                      [ 0., -2.],\n",
       "                      [ 0., -1.],\n",
       "                      [ 0.,  0.],\n",
       "                      [ 0.,  1.],\n",
       "                      [ 0.,  2.],\n",
       "                      [ 1., -2.],\n",
       "                      [ 1., -1.],\n",
       "                      [ 1.,  0.],\n",
       "                      [ 1.,  1.],\n",
       "                      [ 1.,  2.],\n",
       "                      [ 2., -2.],\n",
       "                      [ 2., -1.],\n",
       "                      [ 2.,  0.],\n",
       "                      [ 2.,  1.],\n",
       "                      [ 2.,  2.]], device='cuda:0')),\n",
       "             ('covs.log_stds',\n",
       "              tensor([[[ 0.5216,  1.1183],\n",
       "                       [ 0.8297, -1.2277],\n",
       "                       [-0.8401, -1.1930],\n",
       "                       ...,\n",
       "                       [ 1.6605, -0.0042],\n",
       "                       [-0.4397,  1.0019],\n",
       "                       [-0.9251, -0.9954]],\n",
       "              \n",
       "                      [[ 0.0712,  0.1388],\n",
       "                       [-0.5180,  0.0417],\n",
       "                       [ 0.3516, -1.0317],\n",
       "                       ...,\n",
       "                       [ 0.4622, -0.3875],\n",
       "                       [ 0.0429,  2.0579],\n",
       "                       [ 0.8985, -0.5256]],\n",
       "              \n",
       "                      [[ 0.0625, -0.3464],\n",
       "                       [ 0.9243, -0.0243],\n",
       "                       [-0.7341, -0.9724],\n",
       "                       ...,\n",
       "                       [ 1.8424,  0.6913],\n",
       "                       [ 1.0648,  0.2092],\n",
       "                       [-0.8306, -1.8615]],\n",
       "              \n",
       "                      ...,\n",
       "              \n",
       "                      [[-0.0927,  0.0779],\n",
       "                       [-0.3690, -0.1785],\n",
       "                       [ 1.4325,  1.2428],\n",
       "                       ...,\n",
       "                       [ 0.0897,  0.9514],\n",
       "                       [ 0.4506,  0.0454],\n",
       "                       [-2.1388, -0.9690]],\n",
       "              \n",
       "                      [[-0.3423, -0.3778],\n",
       "                       [ 0.5136, -0.4429],\n",
       "                       [ 0.3636,  0.9208],\n",
       "                       ...,\n",
       "                       [ 1.9049, -0.1732],\n",
       "                       [ 0.4699,  0.3939],\n",
       "                       [-0.1878, -0.2245]],\n",
       "              \n",
       "                      [[-0.2112, -1.5553],\n",
       "                       [ 1.6772,  1.7891],\n",
       "                       [-0.6449,  0.2328],\n",
       "                       ...,\n",
       "                       [-0.0393,  1.5212],\n",
       "                       [-0.8097,  0.3942],\n",
       "                       [-1.5958,  1.6849]]], device='cuda:0')),\n",
       "             ('covs.thetas',\n",
       "              tensor([[ 0.3543,  0.8034, -1.6726,  ...,  0.6333, -0.0189,  1.3802],\n",
       "                      [ 0.3435,  0.1109, -0.8465,  ...,  1.2607,  0.4762, -0.0388],\n",
       "                      [-0.0515,  1.2733,  0.0569,  ...,  0.2756,  0.3114, -1.1415],\n",
       "                      ...,\n",
       "                      [-0.6288, -0.0775, -0.1073,  ...,  0.2486,  0.3032,  0.2135],\n",
       "                      [ 0.7459, -0.7193, -0.4476,  ..., -0.2315, -2.2807, -0.9287],\n",
       "                      [-0.0894, -0.6017, -1.4687,  ...,  0.9216, -0.8128, -0.5022]],\n",
       "                     device='cuda:0'))])"
      ]
     },
     "execution_count": 128,
     "metadata": {},
     "output_type": "execute_result"
    }
   ],
   "source": [
    "q2_5.state_dict()"
   ]
  },
  {
   "metadata": {
    "ExecuteTime": {
     "end_time": "2025-04-13T17:17:46.357512Z",
     "start_time": "2025-04-13T17:17:46.347502Z"
    }
   },
   "cell_type": "code",
   "source": "kernels.QuadraticKernelIso2D(1, 1, 5, init=3.7)()",
   "id": "c4670fec8d9b991c",
   "outputs": [
    {
     "data": {
      "text/plain": [
       "tensor([[[[-0.5405, -0.3378, -0.2703, -0.3378, -0.5405],\n",
       "          [-0.3378, -0.1351, -0.0676, -0.1351, -0.3378],\n",
       "          [-0.2703, -0.0676, -0.0000, -0.0676, -0.2703],\n",
       "          [-0.3378, -0.1351, -0.0676, -0.1351, -0.3378],\n",
       "          [-0.5405, -0.3378, -0.2703, -0.3378, -0.5405]]]],\n",
       "       grad_fn=<ViewBackward0>)"
      ]
     },
     "execution_count": 205,
     "metadata": {},
     "output_type": "execute_result"
    }
   ],
   "execution_count": 205
  },
  {
   "metadata": {},
   "cell_type": "code",
   "outputs": [],
   "execution_count": null,
   "source": "",
   "id": "32e42a64d793c68f"
  },
  {
   "cell_type": "code",
   "id": "df9072cef414e51c",
   "metadata": {
    "ExecuteTime": {
     "end_time": "2025-04-13T17:17:54.611300Z",
     "start_time": "2025-04-13T17:17:54.592530Z"
    }
   },
   "source": [
    "importlib.reload(src.kernels.utils)\n",
    "importlib.reload(src.kernels.quadratic)\n",
    "importlib.reload(src.kernels)\n",
    "k2 = kernels.QuadraticKernelSpectral2D(1, 1, 5, init=3.7)\n",
    "k3 = kernels.QuadraticKernelCholesky2D(1, 1, 5, init=3.7)\n",
    "k3()"
   ],
   "outputs": [
    {
     "data": {
      "text/plain": [
       "tensor([[[[-0.5405, -0.3378, -0.2703, -0.3378, -0.5405],\n",
       "          [-0.3378, -0.1351, -0.0676, -0.1351, -0.3378],\n",
       "          [-0.2703, -0.0676, -0.0000, -0.0676, -0.2703],\n",
       "          [-0.3378, -0.1351, -0.0676, -0.1351, -0.3378],\n",
       "          [-0.5405, -0.3378, -0.2703, -0.3378, -0.5405]]]],\n",
       "       grad_fn=<MulBackward0>)"
      ]
     },
     "execution_count": 207,
     "metadata": {},
     "output_type": "execute_result"
    }
   ],
   "execution_count": 207
  },
  {
   "metadata": {
    "ExecuteTime": {
     "end_time": "2025-04-13T17:14:00.949235Z",
     "start_time": "2025-04-13T17:14:00.939519Z"
    }
   },
   "cell_type": "code",
   "source": "k2.covs.cov()",
   "id": "3b594e728efff1c7",
   "outputs": [
    {
     "data": {
      "text/plain": [
       "tensor([[[[3.0000, 0.0000],\n",
       "          [0.0000, 3.0000]]]], grad_fn=<LinalgInvExBackward0>)"
      ]
     },
     "execution_count": 186,
     "metadata": {},
     "output_type": "execute_result"
    }
   ],
   "execution_count": 186
  },
  {
   "metadata": {
    "ExecuteTime": {
     "end_time": "2025-04-13T17:16:03.531379Z",
     "start_time": "2025-04-13T17:16:03.521465Z"
    }
   },
   "cell_type": "code",
   "source": "torch.einsum(\"kx,xX,kX->k\", k2.pos_grid, torch.linalg.inv(k2.covs.cov()[0, 0]), k2.pos_grid).reshape(1, 5, 5)",
   "id": "368df434bbd7a5c4",
   "outputs": [
    {
     "data": {
      "text/plain": [
       "tensor([[[2.6667, 1.6667, 1.3333, 1.6667, 2.6667],\n",
       "         [1.6667, 0.6667, 0.3333, 0.6667, 1.6667],\n",
       "         [1.3333, 0.3333, 0.0000, 0.3333, 1.3333],\n",
       "         [1.6667, 0.6667, 0.3333, 0.6667, 1.6667],\n",
       "         [2.6667, 1.6667, 1.3333, 1.6667, 2.6667]]], grad_fn=<ViewBackward0>)"
      ]
     },
     "execution_count": 196,
     "metadata": {},
     "output_type": "execute_result"
    }
   ],
   "execution_count": 196
  },
  {
   "cell_type": "code",
   "id": "43362d65cacb83c9",
   "metadata": {
    "ExecuteTime": {
     "end_time": "2025-04-13T15:50:42.347544Z",
     "start_time": "2025-04-13T15:50:42.342757Z"
    }
   },
   "source": "res = {}",
   "outputs": [],
   "execution_count": 7
  },
  {
   "cell_type": "code",
   "id": "4b52f0d02acfab0b",
   "metadata": {
    "ExecuteTime": {
     "end_time": "2025-04-13T17:55:45.731866Z",
     "start_time": "2025-04-13T17:22:05.405185Z"
    }
   },
   "source": [
    "importlib.reload(src.models.simple_lenet)\n",
    "importlib.reload(src.load_data)\n",
    "importlib.reload(src.kernels.quadratic)\n",
    "importlib.reload(src.kernels)\n",
    "from src.models import simple_lenet\n",
    "from src import load_data\n",
    "\n",
    "# pool_fn = 'iso-5'\n",
    "for pool_fn in tqdm.tqdm(simple_lenet.LENET_POOLING_FUNCTIONS, desc=\"Pooling types\", unit=\"trial\"):\n",
    "    res[pool_fn] = simple_lenet.LeNet.fit_many(k_mnist, pool_fn=pool_fn, init=\"uniform\")"
   ],
   "outputs": [
    {
     "data": {
      "text/plain": [
       "Pooling types:   0%|          | 0/10 [00:00<?, ?trial/s]"
      ],
      "application/vnd.jupyter.widget-view+json": {
       "version_major": 2,
       "version_minor": 0,
       "model_id": "d052c724e65849b0bdd3a0117609c216"
      }
     },
     "metadata": {},
     "output_type": "display_data"
    },
    {
     "data": {
      "text/plain": [
       "standard-2:   0%|          | 0/20 [00:00<?, ?run/s]"
      ],
      "application/vnd.jupyter.widget-view+json": {
       "version_major": 2,
       "version_minor": 0,
       "model_id": "d0e982d2d3214cd6be78f4c5a64bde0a"
      }
     },
     "metadata": {},
     "output_type": "display_data"
    },
    {
     "data": {
      "text/plain": [
       "standard-3:   0%|          | 0/20 [00:00<?, ?run/s]"
      ],
      "application/vnd.jupyter.widget-view+json": {
       "version_major": 2,
       "version_minor": 0,
       "model_id": "e6abda8ed6e94850b5836d7e833767bc"
      }
     },
     "metadata": {},
     "output_type": "display_data"
    },
    {
     "data": {
      "text/plain": [
       "standard-5:   0%|          | 0/20 [00:00<?, ?run/s]"
      ],
      "application/vnd.jupyter.widget-view+json": {
       "version_major": 2,
       "version_minor": 0,
       "model_id": "d3da54a0ca1b4c60ad2b6c7a1b2369f5"
      }
     },
     "metadata": {},
     "output_type": "display_data"
    },
    {
     "data": {
      "text/plain": [
       "standard-7:   0%|          | 0/20 [00:00<?, ?run/s]"
      ],
      "application/vnd.jupyter.widget-view+json": {
       "version_major": 2,
       "version_minor": 0,
       "model_id": "a270e199516c4328b21f81c9bff255d2"
      }
     },
     "metadata": {},
     "output_type": "display_data"
    },
    {
     "data": {
      "text/plain": [
       "iso-3:   0%|          | 0/20 [00:00<?, ?run/s]"
      ],
      "application/vnd.jupyter.widget-view+json": {
       "version_major": 2,
       "version_minor": 0,
       "model_id": "a9a7be93df814bd589078c18f8d9b202"
      }
     },
     "metadata": {},
     "output_type": "display_data"
    },
    {
     "data": {
      "text/plain": [
       "iso-5:   0%|          | 0/20 [00:00<?, ?run/s]"
      ],
      "application/vnd.jupyter.widget-view+json": {
       "version_major": 2,
       "version_minor": 0,
       "model_id": "34d0210a4b71434f8ee9681c44100dad"
      }
     },
     "metadata": {},
     "output_type": "display_data"
    },
    {
     "data": {
      "text/plain": [
       "iso-7:   0%|          | 0/20 [00:00<?, ?run/s]"
      ],
      "application/vnd.jupyter.widget-view+json": {
       "version_major": 2,
       "version_minor": 0,
       "model_id": "ea3a7a62da234728981c886479411cbc"
      }
     },
     "metadata": {},
     "output_type": "display_data"
    },
    {
     "data": {
      "text/plain": [
       "aniso-3:   0%|          | 0/20 [00:00<?, ?run/s]"
      ],
      "application/vnd.jupyter.widget-view+json": {
       "version_major": 2,
       "version_minor": 0,
       "model_id": "e9aa71c2c46741a6bf1acf8b22df953d"
      }
     },
     "metadata": {},
     "output_type": "display_data"
    },
    {
     "data": {
      "text/plain": [
       "aniso-5:   0%|          | 0/20 [00:00<?, ?run/s]"
      ],
      "application/vnd.jupyter.widget-view+json": {
       "version_major": 2,
       "version_minor": 0,
       "model_id": "04dd71d936a2422d930440ce047e73a3"
      }
     },
     "metadata": {},
     "output_type": "display_data"
    },
    {
     "data": {
      "text/plain": [
       "aniso-7:   0%|          | 0/20 [00:00<?, ?run/s]"
      ],
      "application/vnd.jupyter.widget-view+json": {
       "version_major": 2,
       "version_minor": 0,
       "model_id": "a8f86ca2556241f08276fa23809b3267"
      }
     },
     "metadata": {},
     "output_type": "display_data"
    }
   ],
   "execution_count": 209
  },
  {
   "metadata": {
    "ExecuteTime": {
     "end_time": "2025-04-13T18:51:49.518043Z",
     "start_time": "2025-04-13T18:16:59.625454Z"
    }
   },
   "cell_type": "code",
   "source": [
    "for size in tqdm.tqdm((3, 5, 7), desc=\"Aniso sizes\", unit=\"trial\"):\n",
    "    res[f\"aniso-{size}-spin\"] = simple_lenet.LeNet.fit_many(k_mnist, pool_fn=f\"aniso-{size}\", init=\"spin\")\n",
    "    res[f\"aniso-{size}-uiso\"] = simple_lenet.LeNet.fit_many(k_mnist, pool_fn=f\"aniso-{size}\", init=\"uniform-iso\")"
   ],
   "id": "d84053aadeec6c83",
   "outputs": [
    {
     "data": {
      "text/plain": [
       "Aniso sizes:   0%|          | 0/3 [00:00<?, ?trial/s]"
      ],
      "application/vnd.jupyter.widget-view+json": {
       "version_major": 2,
       "version_minor": 0,
       "model_id": "91dbd7ff587f43a8826aa1d3561cea09"
      }
     },
     "metadata": {},
     "output_type": "display_data"
    },
    {
     "data": {
      "text/plain": [
       "aniso-3:   0%|          | 0/20 [00:00<?, ?run/s]"
      ],
      "application/vnd.jupyter.widget-view+json": {
       "version_major": 2,
       "version_minor": 0,
       "model_id": "a5ec56b0e3064a7ab5d31caef569d19c"
      }
     },
     "metadata": {},
     "output_type": "display_data"
    },
    {
     "data": {
      "text/plain": [
       "aniso-3:   0%|          | 0/20 [00:00<?, ?run/s]"
      ],
      "application/vnd.jupyter.widget-view+json": {
       "version_major": 2,
       "version_minor": 0,
       "model_id": "0de0b0eeb8cb450cbcd4270952f3237f"
      }
     },
     "metadata": {},
     "output_type": "display_data"
    },
    {
     "data": {
      "text/plain": [
       "aniso-5:   0%|          | 0/20 [00:00<?, ?run/s]"
      ],
      "application/vnd.jupyter.widget-view+json": {
       "version_major": 2,
       "version_minor": 0,
       "model_id": "01b2491772f84480a437a6d3e0428166"
      }
     },
     "metadata": {},
     "output_type": "display_data"
    },
    {
     "data": {
      "text/plain": [
       "aniso-5:   0%|          | 0/20 [00:00<?, ?run/s]"
      ],
      "application/vnd.jupyter.widget-view+json": {
       "version_major": 2,
       "version_minor": 0,
       "model_id": "46fd92a88a044403915a6c541badbd3f"
      }
     },
     "metadata": {},
     "output_type": "display_data"
    },
    {
     "data": {
      "text/plain": [
       "aniso-7:   0%|          | 0/20 [00:00<?, ?run/s]"
      ],
      "application/vnd.jupyter.widget-view+json": {
       "version_major": 2,
       "version_minor": 0,
       "model_id": "285143ed146f40399fbba2ae1860e630"
      }
     },
     "metadata": {},
     "output_type": "display_data"
    },
    {
     "data": {
      "text/plain": [
       "aniso-7:   0%|          | 0/20 [00:00<?, ?run/s]"
      ],
      "application/vnd.jupyter.widget-view+json": {
       "version_major": 2,
       "version_minor": 0,
       "model_id": "8b731f83b5d24f6988b4749398e299ef"
      }
     },
     "metadata": {},
     "output_type": "display_data"
    }
   ],
   "execution_count": 229
  },
  {
   "metadata": {
    "ExecuteTime": {
     "end_time": "2025-04-13T16:22:19.138660Z",
     "start_time": "2025-04-13T16:22:19.131347Z"
    }
   },
   "cell_type": "code",
   "source": "np.prod([32, 20, 1, 25, 144])",
   "id": "34b997317c94f2b1",
   "outputs": [
    {
     "data": {
      "text/plain": [
       "np.int64(2304000)"
      ]
     },
     "execution_count": 42,
     "metadata": {},
     "output_type": "execute_result"
    }
   ],
   "execution_count": 42
  },
  {
   "metadata": {
    "ExecuteTime": {
     "end_time": "2025-04-13T15:02:30.724743Z",
     "start_time": "2025-04-13T15:02:30.707967Z"
    }
   },
   "cell_type": "code",
   "source": [
    "thierry = {\n",
    "    \"standard\": {\n",
    "        \"accuracy\": [0.9479, 0.9553, 0.9533, 0.9502, 0.9515, 0.9565, 0.9542, 0.9523, 0.9559, 0.9531, 0.9542, 0.9493,\n",
    "                     0.9576,\n",
    "                     0.9538, 0.954, 0.9576, 0.9511, 0.9577, 0.9534, 0.9545],\n",
    "        \"avg_f1\": [0.9480427059346676, 0.955243521346825, 0.9532310508868616, 0.9500373432938061, 0.9516442963137285,\n",
    "                   0.9564962937071735, 0.9542214833862793, 0.9523321417368932, 0.9558427875183473, 0.9532747950097995,\n",
    "                   0.9543660808292007, 0.9492208800212568, 0.9575739495682429, 0.9538378284609481, 0.953943950884279,\n",
    "                   0.9575911856140872, 0.9510849143581043, 0.9577136484072426, 0.9533366066116284, 0.954436550442954],\n",
    "        \"avg_precision\": [0.9488830713394076, 0.9558271464297243, 0.9539802093110161, 0.95082666027619,\n",
    "                          0.9524851056861998,\n",
    "                          0.9570759254110802, 0.9549093282943403, 0.9529150767456667, 0.9565553359162016,\n",
    "                          0.9539470341384829, 0.954918286302562, 0.9496442333541761, 0.9577186369829251,\n",
    "                          0.9543388547817999,\n",
    "                          0.9543400434986434, 0.9579429938754332, 0.9516237503385178, 0.9583492148509896,\n",
    "                          0.9540375935298817, 0.9550695955259301],\n",
    "        \"avg_recall\": [0.9479, 0.9552999999999999, 0.9532999999999999, 0.9502, 0.9515, 0.9564999999999999,\n",
    "                       0.9542000000000002, 0.9522999999999999, 0.9558999999999997, 0.9530999999999998,\n",
    "                       0.9541999999999999,\n",
    "                       0.9493, 0.9575999999999999, 0.9538, 0.954, 0.9575999999999999, 0.9511000000000001, 0.9577,\n",
    "                       0.9533999999999999, 0.9545000000000001],\n",
    "        \"time\": [11.336342573165894, 11.205965518951416, 11.126548290252686, 11.144952774047852, 11.333316802978516,\n",
    "                 11.117565393447876, 11.225554943084717, 11.122453212738037, 11.118192911148071, 11.064157247543335,\n",
    "                 11.218071222305298, 11.085448265075684, 11.308237075805664, 11.059718608856201, 11.14068603515625,\n",
    "                 11.235052108764648, 11.091073274612427, 11.040074825286865, 11.204321384429932, 11.172889471054077]},\n",
    "    \"mp_parabola\": {\n",
    "        \"accuracy\": [0.9508, 0.9529, 0.9522, 0.9484, 0.9369, 0.9619, 0.9558, 0.9568, 0.9308, 0.9521, 0.9447,\n",
    "                     0.9509, 0.9501, 0.9513, 0.9371, 0.9516, 0.9485, 0.9467, 0.9503, 0.9475],\n",
    "        \"avg_f1\": [0.950806360476966, 0.9529633225456344, 0.9521517864935343, 0.9485081018518793,\n",
    "                   0.9371195818519602, 0.9618790190569702, 0.9558654154351375, 0.9568133053103347,\n",
    "                   0.9314778459359815, 0.9523666557831321, 0.9448033435863467, 0.9506727300655873,\n",
    "                   0.9501985886886664, 0.9512553490850604, 0.9370694224148679, 0.9516683046401162,\n",
    "                   0.9485618275051382, 0.9467167628837065, 0.9504908930502335, 0.9477866149194035],\n",
    "        \"avg_precision\": [0.9517560967252298, 0.95358990509561, 0.9528444499199372, 0.9491530559090826,\n",
    "                          0.9397894762680842, 0.9621019098480174, 0.9567228865373307, 0.9571406159189323,\n",
    "                          0.9364384966280743, 0.9536422404348774, 0.946335449315826, 0.9511303107565908,\n",
    "                          0.9513358171642154, 0.9521138882018374, 0.9393618259230054, 0.9525137919765345,\n",
    "                          0.9504892184319234, 0.9472548494306672, 0.9524737893355812, 0.9503791588289413],\n",
    "        \"avg_recall\": [0.9508000000000001, 0.9529, 0.9522, 0.9484, 0.9369, 0.9619, 0.9558, 0.9568000000000001,\n",
    "                       0.9308, 0.9521000000000001, 0.9447000000000001, 0.9508999999999999, 0.9501000000000002,\n",
    "                       0.9513, 0.9371, 0.9516, 0.9485000000000001, 0.9467000000000001, 0.9503, 0.9475],\n",
    "        \"time\": [19.95300531387329, 19.966599464416504, 21.286937713623047, 20.27017569541931,\n",
    "                 20.238272666931152, 21.34596848487854, 22.15380358695984, 20.756579637527466,\n",
    "                 19.923376083374023, 21.297425746917725, 21.22718071937561, 19.8521089553833, 20.369531869888306,\n",
    "                 21.07774591445923, 22.265422582626343, 22.171162843704224, 20.52251696586609,\n",
    "                 22.132704257965088, 22.15888285636902, 22.12217879295349]},\n",
    "    \"std_parabolic\": {\n",
    "        \"accuracy\": [0.954, 0.9601, 0.9616, 0.9552, 0.957, 0.9496, 0.9574, 0.9588, 0.9618, 0.9571, 0.9564, 0.9563,\n",
    "                     0.9595, 0.9601, 0.9548, 0.9582, 0.9519, 0.9507, 0.9564, 0.9603],\n",
    "        \"avg_f1\": [0.9540863566164054, 0.9600246055686295, 0.9615994821729175, 0.9552464207426888, 0.9571109973724019,\n",
    "                   0.9497242909682451, 0.9574604474078996, 0.9588338148280879, 0.961844851372286, 0.9571691282161524,\n",
    "                   0.9565089641626277, 0.9565222935573601, 0.959522075136977, 0.9601979840531273, 0.9549325128981534,\n",
    "                   0.9581116586814071, 0.9519149876179334, 0.9509130607139857, 0.9563618022922269, 0.9602775485761935],\n",
    "        \"avg_precision\": [0.955754648433123, 0.9605257639873204, 0.9620565922288578, 0.956006385355191,\n",
    "                          0.9582834986219535, 0.9512320074534466, 0.9583170721892609, 0.9590811061571592,\n",
    "                          0.9626378524977829, 0.9579883072229535, 0.9575209823830131, 0.9576551077167297,\n",
    "                          0.9599547977300565, 0.9606275879992552, 0.9562698474693023, 0.9584332308666907,\n",
    "                          0.9527944673493695, 0.9520370251785624, 0.9565325135565012, 0.9606329534103916],\n",
    "        \"avg_recall\": [0.954, 0.9601, 0.9616, 0.9551999999999998, 0.9570000000000001, 0.9496, 0.9574,\n",
    "                       0.9587999999999999, 0.9618000000000002, 0.9571000000000002, 0.9564, 0.9563, 0.9594999999999999,\n",
    "                       0.9601, 0.9548, 0.9582, 0.9519000000000002, 0.9507, 0.9564, 0.9603000000000002],\n",
    "        \"time\": [22.197277069091797, 21.563359022140503, 22.047484636306763, 22.181645393371582, 21.075055599212646,\n",
    "                 19.944994688034058, 19.990905284881592, 19.94177007675171, 20.003604888916016, 20.52237844467163,\n",
    "                 20.597529649734497, 21.686691522598267, 20.011598348617554, 19.968311071395874, 20.11429476737976,\n",
    "                 19.996861457824707, 19.970699548721313, 19.993578672409058, 19.95755696296692, 20.15055513381958]},\n",
    "    \"std_parabolic_scale_space\": {\n",
    "        \"accuracy\": [0.9491, 0.9651, 0.9407, 0.9629, 0.9593, 0.9635, 0.9563, 0.9519, 0.9646, 0.9613, 0.96,\n",
    "                     0.9594, 0.948, 0.9584, 0.9588, 0.961, 0.9495, 0.9615, 0.9588, 0.9491],\n",
    "        \"avg_f1\": [0.9489968909694314, 0.9651154649705062, 0.941009801527423, 0.962848110862943,\n",
    "                   0.9593033463513952, 0.963491821916107, 0.9563415476677406, 0.95185967159678,\n",
    "                   0.9646227824406675, 0.9613338072799531, 0.9599392410000946, 0.9593880503285721,\n",
    "                   0.9481734152378125, 0.9584862041616082, 0.9587977977601204, 0.9609145543819766,\n",
    "                   0.9495937934390775, 0.9614744244911814, 0.9587908930335496, 0.9491681795200874],\n",
    "        \"avg_precision\": [0.9501875898751105, 0.9653526230917961, 0.9444916748799569, 0.9629668147230417,\n",
    "                          0.9599769721112482, 0.9637338105276141, 0.9569258185863786, 0.9523858292093876,\n",
    "                          0.9650369888631276, 0.9617665830848632, 0.9605290086892821, 0.9601160153293566,\n",
    "                          0.9494652166686347, 0.9591334657342946, 0.9594222758576538, 0.9611797491260063,\n",
    "                          0.9509023212453362, 0.9616189427870616, 0.9592653560787723, 0.9509167274667817],\n",
    "        \"avg_recall\": [0.9490999999999999, 0.9651, 0.9407, 0.9629, 0.9593, 0.9634999999999998,\n",
    "                       0.9562999999999999, 0.9519, 0.9645999999999999, 0.9612999999999999, 0.96,\n",
    "                       0.9594000000000001, 0.9480000000000001, 0.9583999999999999, 0.9587999999999999, 0.961,\n",
    "                       0.9494999999999999, 0.9615, 0.9588000000000001, 0.9490999999999999],\n",
    "        \"time\": [21.15693473815918, 22.425765991210938, 21.332035541534424, 20.103604078292847,\n",
    "                 20.699523210525513, 21.179635286331177, 20.044978857040405, 20.229622840881348,\n",
    "                 20.441341876983643, 20.54746103286743, 20.05719757080078, 20.084423780441284,\n",
    "                 20.296043634414673, 20.059288263320923, 20.080735683441162, 20.03710913658142,\n",
    "                 20.225708484649658, 20.34082865715027, 20.137271642684937, 22.373881816864014]}\n",
    "}"
   ],
   "id": "942d023d1206e8a3",
   "outputs": [],
   "execution_count": 9
  },
  {
   "metadata": {
    "ExecuteTime": {
     "end_time": "2025-04-13T16:16:55.632537Z",
     "start_time": "2025-04-13T16:16:55.610422Z"
    }
   },
   "cell_type": "code",
   "source": [
    "torch.manual_seed(0)\n",
    "test_model = simple_lenet.LeNet(1, 10, \"iso-5\", init=\"uniform\").cuda()\n",
    "test_model"
   ],
   "id": "fb202f4173e66733",
   "outputs": [
    {
     "data": {
      "text/plain": [
       "LeNet(\n",
       "  (net): Sequential(\n",
       "    (0): Conv2d(1, 20, kernel_size=(5, 5), stride=(1, 1))\n",
       "    (1): ReLU()\n",
       "    (2): GenericConv2D(\n",
       "      padding=2, stride=2, groups=20\n",
       "      (kernel): QuadraticKernelIso2D(1, 20, kernel_size=5)\n",
       "      (conv): SelectConvFixedLazy()\n",
       "    )\n",
       "    (3): Conv2d(20, 50, kernel_size=(5, 5), stride=(1, 1))\n",
       "    (4): ReLU()\n",
       "    (5): GenericConv2D(\n",
       "      padding=2, stride=2, groups=50\n",
       "      (kernel): QuadraticKernelIso2D(1, 50, kernel_size=5)\n",
       "      (conv): SelectConvFixedLazy()\n",
       "    )\n",
       "    (6): Flatten(start_dim=1, end_dim=-1)\n",
       "    (7): Linear(in_features=800, out_features=500, bias=True)\n",
       "    (8): ReLU()\n",
       "    (9): Linear(in_features=500, out_features=10, bias=True)\n",
       "  )\n",
       ")"
      ]
     },
     "execution_count": 32,
     "metadata": {},
     "output_type": "execute_result"
    }
   ],
   "execution_count": 32
  },
  {
   "metadata": {
    "ExecuteTime": {
     "end_time": "2025-04-13T16:17:45.497437Z",
     "start_time": "2025-04-13T16:16:58.477072Z"
    }
   },
   "cell_type": "code",
   "source": [
    "\n",
    "\n",
    "\n",
    "test_model.fit(k_mnist, shuffle=False)"
   ],
   "id": "ce996fc7c16064b6",
   "outputs": [
    {
     "data": {
      "text/plain": [
       "Training:   0%|          | 0/1 [00:00<?, ?epoch/s]"
      ],
      "application/vnd.jupyter.widget-view+json": {
       "version_major": 2,
       "version_minor": 0,
       "model_id": "10431435b2cd42ad83a41865990215cc"
      }
     },
     "metadata": {},
     "output_type": "display_data"
    },
    {
     "name": "stdout",
     "output_type": "stream",
     "text": [
      "tensor([8, 7, 0, 1, 4, 2, 4, 8, 1, 1, 5, 1, 0, 5, 7, 6, 1, 7, 9, 5, 7, 3, 7, 5,\n",
      "        6, 6, 2, 7, 6, 0, 9, 6], device='cuda:0')\n",
      "tensor([[-2.2658, -2.3031, -2.2579, -2.3716, -2.3231, -2.3321, -2.2859, -2.2985,\n",
      "         -2.3104, -2.2825],\n",
      "        [-2.2767, -2.2917, -2.2550, -2.3501, -2.3420, -2.3212, -2.2991, -2.3042,\n",
      "         -2.3065, -2.2831],\n",
      "        [-2.2872, -2.2792, -2.2504, -2.3659, -2.3358, -2.3196, -2.2974, -2.2944,\n",
      "         -2.3124, -2.2883],\n",
      "        [-2.2827, -2.3025, -2.2670, -2.3358, -2.3345, -2.3079, -2.3057, -2.3028,\n",
      "         -2.3016, -2.2875],\n",
      "        [-2.2699, -2.2727, -2.2484, -2.3575, -2.3286, -2.3198, -2.3010, -2.2994,\n",
      "         -2.2991, -2.3344],\n",
      "        [-2.2833, -2.2803, -2.2670, -2.3476, -2.3301, -2.3196, -2.2967, -2.3029,\n",
      "         -2.3042, -2.2967],\n",
      "        [-2.2633, -2.2808, -2.2483, -2.3611, -2.3248, -2.3275, -2.3036, -2.3196,\n",
      "         -2.2997, -2.3022],\n",
      "        [-2.2899, -2.3072, -2.2542, -2.3651, -2.3279, -2.3211, -2.2918, -2.2936,\n",
      "         -2.2963, -2.2828],\n",
      "        [-2.2571, -2.2845, -2.2564, -2.3689, -2.3417, -2.3124, -2.3006, -2.2921,\n",
      "         -2.3046, -2.3130],\n",
      "        [-2.2717, -2.3026, -2.2654, -2.3427, -2.3376, -2.3212, -2.2851, -2.3019,\n",
      "         -2.3043, -2.2962],\n",
      "        [-2.2868, -2.2747, -2.2584, -2.3613, -2.3334, -2.3204, -2.2983, -2.2953,\n",
      "         -2.3269, -2.2749],\n",
      "        [-2.2823, -2.2867, -2.2611, -2.3547, -2.3238, -2.3121, -2.3093, -2.2897,\n",
      "         -2.3054, -2.3037],\n",
      "        [-2.2976, -2.2641, -2.2647, -2.3382, -2.3198, -2.3259, -2.2973, -2.2925,\n",
      "         -2.3285, -2.3001],\n",
      "        [-2.2721, -2.2842, -2.2724, -2.3429, -2.3265, -2.3152, -2.3078, -2.3090,\n",
      "         -2.3303, -2.2687],\n",
      "        [-2.2684, -2.2998, -2.2651, -2.3629, -2.3306, -2.3063, -2.3104, -2.3156,\n",
      "         -2.2893, -2.2814],\n",
      "        [-2.2781, -2.2950, -2.2658, -2.3367, -2.3089, -2.3343, -2.3134, -2.3094,\n",
      "         -2.2880, -2.2986],\n",
      "        [-2.2868, -2.3078, -2.2506, -2.3525, -2.3211, -2.3160, -2.2880, -2.2986,\n",
      "         -2.3047, -2.3028],\n",
      "        [-2.2658, -2.2854, -2.2527, -2.3680, -2.3353, -2.3108, -2.2957, -2.3080,\n",
      "         -2.3229, -2.2865],\n",
      "        [-2.2746, -2.2898, -2.2554, -2.3654, -2.3024, -2.3317, -2.3028, -2.2935,\n",
      "         -2.3222, -2.2924],\n",
      "        [-2.2645, -2.2878, -2.2480, -2.3701, -2.3290, -2.3091, -2.3134, -2.3115,\n",
      "         -2.2952, -2.3023],\n",
      "        [-2.2557, -2.2861, -2.2608, -2.3341, -2.3545, -2.3313, -2.2880, -2.3064,\n",
      "         -2.3078, -2.3056],\n",
      "        [-2.2629, -2.2841, -2.2779, -2.3415, -2.3329, -2.3220, -2.2895, -2.3092,\n",
      "         -2.3251, -2.2839],\n",
      "        [-2.2710, -2.2954, -2.2624, -2.3454, -2.3402, -2.3147, -2.2993, -2.3163,\n",
      "         -2.3173, -2.2676],\n",
      "        [-2.2782, -2.2800, -2.2620, -2.3598, -2.3245, -2.3197, -2.2974, -2.3105,\n",
      "         -2.3235, -2.2743],\n",
      "        [-2.2731, -2.2864, -2.2596, -2.3546, -2.3325, -2.3081, -2.3081, -2.3122,\n",
      "         -2.3118, -2.2831],\n",
      "        [-2.2703, -2.2913, -2.2610, -2.3533, -2.3347, -2.3033, -2.3171, -2.3036,\n",
      "         -2.3036, -2.2910],\n",
      "        [-2.2887, -2.3072, -2.2494, -2.3495, -2.3296, -2.3279, -2.3001, -2.2943,\n",
      "         -2.3168, -2.2665],\n",
      "        [-2.2850, -2.2891, -2.2511, -2.3569, -2.3166, -2.3098, -2.3018, -2.3025,\n",
      "         -2.3042, -2.3120],\n",
      "        [-2.2760, -2.2803, -2.2558, -2.3624, -2.3411, -2.2945, -2.3174, -2.3049,\n",
      "         -2.3091, -2.2887],\n",
      "        [-2.2838, -2.2808, -2.2491, -2.3459, -2.3322, -2.3148, -2.3093, -2.2922,\n",
      "         -2.3289, -2.2926],\n",
      "        [-2.2603, -2.2746, -2.2577, -2.3427, -2.3062, -2.3356, -2.2876, -2.3146,\n",
      "         -2.3147, -2.3364],\n",
      "        [-2.2810, -2.2705, -2.2615, -2.3510, -2.3357, -2.3141, -2.2988, -2.3094,\n",
      "         -2.3123, -2.2951]], device='cuda:0', grad_fn=<LogSoftmaxBackward0>)\n",
      "tensor(2.3054, device='cuda:0', grad_fn=<NllLossBackward0>)\n",
      "tensor([1, 5, 9, 5, 8, 0, 0, 8, 8, 6, 7, 7, 7, 8, 1, 9, 6, 0, 5, 1, 1, 1, 3, 2,\n",
      "        2, 6, 4, 3, 5, 5, 4, 6], device='cuda:0')\n",
      "tensor([[-2.2790, -2.2061, -2.2888, -2.4446, -2.3638, -2.3215, -2.2822, -2.1827,\n",
      "         -2.3595, -2.3239],\n",
      "        [-2.2769, -2.2758, -2.2722, -2.4201, -2.3721, -2.2956, -2.2949, -2.2157,\n",
      "         -2.3329, -2.2844],\n",
      "        [-2.3037, -2.2176, -2.2815, -2.4515, -2.3843, -2.3127, -2.2918, -2.1590,\n",
      "         -2.3347, -2.3183],\n",
      "        [-2.2877, -2.2672, -2.2711, -2.4367, -2.3822, -2.2659, -2.2963, -2.2050,\n",
      "         -2.3465, -2.2869],\n",
      "        [-2.2815, -2.2615, -2.2770, -2.4146, -2.3656, -2.2975, -2.2863, -2.2022,\n",
      "         -2.3494, -2.3062],\n",
      "        [-2.2714, -2.2224, -2.3088, -2.4527, -2.3886, -2.2991, -2.2723, -2.1573,\n",
      "         -2.3423, -2.3423],\n",
      "        [-2.2555, -2.2513, -2.2966, -2.4490, -2.3830, -2.2929, -2.2902, -2.1839,\n",
      "         -2.3484, -2.2994],\n",
      "        [-2.2764, -2.2359, -2.3044, -2.4661, -2.3668, -2.3023, -2.2779, -2.1779,\n",
      "         -2.3366, -2.3079],\n",
      "        [-2.2843, -2.2248, -2.2901, -2.4285, -2.3721, -2.3227, -2.2909, -2.1957,\n",
      "         -2.3190, -2.3175],\n",
      "        [-2.2945, -2.2014, -2.3050, -2.4523, -2.3780, -2.3347, -2.2634, -2.1390,\n",
      "         -2.3356, -2.3580],\n",
      "        [-2.3007, -2.2185, -2.2995, -2.4375, -2.3804, -2.3075, -2.2952, -2.1431,\n",
      "         -2.3548, -2.3188],\n",
      "        [-2.3099, -2.2261, -2.3228, -2.4825, -2.3791, -2.3000, -2.2541, -2.1003,\n",
      "         -2.3346, -2.3633],\n",
      "        [-2.3056, -2.2196, -2.2827, -2.4585, -2.3719, -2.3060, -2.2551, -2.1596,\n",
      "         -2.3431, -2.3554],\n",
      "        [-2.3125, -2.2213, -2.2870, -2.4053, -2.3532, -2.3068, -2.2398, -2.2305,\n",
      "         -2.3513, -2.3346],\n",
      "        [-2.3089, -2.2133, -2.3146, -2.4536, -2.3746, -2.3201, -2.2649, -2.1374,\n",
      "         -2.3294, -2.3432],\n",
      "        [-2.2848, -2.2073, -2.3059, -2.4555, -2.3528, -2.3118, -2.2564, -2.1935,\n",
      "         -2.3474, -2.3366],\n",
      "        [-2.3287, -2.1737, -2.3029, -2.4594, -2.3541, -2.2851, -2.2250, -2.1970,\n",
      "         -2.3828, -2.3525],\n",
      "        [-2.2596, -2.2358, -2.2865, -2.4288, -2.3667, -2.3079, -2.2899, -2.2143,\n",
      "         -2.3515, -2.3033],\n",
      "        [-2.3272, -2.1918, -2.2827, -2.4210, -2.3641, -2.3004, -2.2394, -2.2122,\n",
      "         -2.3617, -2.3499],\n",
      "        [-2.3326, -2.2059, -2.2940, -2.4310, -2.3418, -2.3092, -2.2314, -2.2124,\n",
      "         -2.3538, -2.3363],\n",
      "        [-2.3178, -2.1714, -2.3139, -2.4526, -2.3407, -2.3310, -2.2540, -2.1709,\n",
      "         -2.3692, -2.3384],\n",
      "        [-2.2965, -2.2429, -2.2974, -2.4510, -2.4003, -2.2883, -2.2830, -2.1418,\n",
      "         -2.3449, -2.3117],\n",
      "        [-2.2866, -2.2110, -2.2911, -2.4489, -2.3932, -2.3104, -2.2966, -2.1660,\n",
      "         -2.3369, -2.3144],\n",
      "        [-2.3009, -2.2336, -2.2877, -2.4335, -2.3624, -2.2983, -2.2786, -2.2121,\n",
      "         -2.3151, -2.3210],\n",
      "        [-2.3210, -2.2278, -2.2892, -2.4278, -2.3482, -2.2988, -2.2453, -2.2191,\n",
      "         -2.3313, -2.3351],\n",
      "        [-2.3289, -2.2087, -2.2744, -2.4278, -2.3638, -2.3017, -2.2265, -2.2154,\n",
      "         -2.3583, -2.3443],\n",
      "        [-2.2674, -2.2240, -2.3024, -2.4654, -2.3763, -2.2887, -2.2697, -2.1852,\n",
      "         -2.3394, -2.3354],\n",
      "        [-2.2891, -2.2215, -2.2903, -2.4314, -2.3632, -2.3179, -2.2906, -2.1909,\n",
      "         -2.3291, -2.3224],\n",
      "        [-2.3294, -2.1922, -2.2800, -2.4193, -2.3724, -2.2947, -2.2460, -2.2227,\n",
      "         -2.3568, -2.3351],\n",
      "        [-2.2684, -2.2786, -2.2770, -2.4077, -2.3809, -2.2782, -2.3030, -2.2241,\n",
      "         -2.3404, -2.2814],\n",
      "        [-2.3386, -2.1843, -2.2907, -2.4550, -2.3638, -2.3149, -2.2221, -2.1922,\n",
      "         -2.3379, -2.3593],\n",
      "        [-2.3133, -2.1840, -2.2998, -2.4547, -2.3452, -2.3174, -2.2531, -2.1874,\n",
      "         -2.3434, -2.3574]], device='cuda:0', grad_fn=<LogSoftmaxBackward0>)\n",
      "tensor(2.2763, device='cuda:0', grad_fn=<NllLossBackward0>)\n"
     ]
    },
    {
     "ename": "KeyboardInterrupt",
     "evalue": "Interrupted by user",
     "output_type": "error",
     "traceback": [
      "\u001B[31m---------------------------------------------------------------------------\u001B[39m",
      "\u001B[31mKeyboardInterrupt\u001B[39m                         Traceback (most recent call last)",
      "\u001B[36mCell\u001B[39m\u001B[36m \u001B[39m\u001B[32mIn[33]\u001B[39m\u001B[32m, line 1\u001B[39m\n\u001B[32m----> \u001B[39m\u001B[32m1\u001B[39m \u001B[43mtest_model\u001B[49m\u001B[43m.\u001B[49m\u001B[43mfit\u001B[49m\u001B[43m(\u001B[49m\u001B[43mk_mnist\u001B[49m\u001B[43m,\u001B[49m\u001B[43m \u001B[49m\u001B[43mshuffle\u001B[49m\u001B[43m=\u001B[49m\u001B[38;5;28;43;01mFalse\u001B[39;49;00m\u001B[43m)\u001B[49m\n",
      "\u001B[36mFile \u001B[39m\u001B[32m~/Thesis/src/models/simple_lenet.py:110\u001B[39m, in \u001B[36mLeNet.fit\u001B[39m\u001B[34m(self, data, epochs, batch_size, lr, epoch_callback, shuffle_rng, verbose, shuffle)\u001B[39m\n\u001B[32m    108\u001B[39m \u001B[38;5;28;01melse\u001B[39;00m:\n\u001B[32m    109\u001B[39m     idxs = torch.arange(imgs.shape[\u001B[32m0\u001B[39m])\n\u001B[32m--> \u001B[39m\u001B[32m110\u001B[39m \u001B[38;5;28;43mself\u001B[39;49m\u001B[43m.\u001B[49m\u001B[43m_epoch\u001B[49m\u001B[43m(\u001B[49m\u001B[43mimgs\u001B[49m\u001B[43m[\u001B[49m\u001B[43midxs\u001B[49m\u001B[43m]\u001B[49m\u001B[43m,\u001B[49m\u001B[43m \u001B[49m\u001B[43mlabels\u001B[49m\u001B[43m[\u001B[49m\u001B[43midxs\u001B[49m\u001B[43m]\u001B[49m\u001B[43m,\u001B[49m\u001B[43m \u001B[49m\u001B[43mopt\u001B[49m\u001B[43m,\u001B[49m\u001B[43m \u001B[49m\u001B[43mbatch_size\u001B[49m\u001B[43m)\u001B[49m\n\u001B[32m    111\u001B[39m \u001B[38;5;28;01mif\u001B[39;00m epoch_callback \u001B[38;5;129;01mis\u001B[39;00m \u001B[38;5;129;01mnot\u001B[39;00m \u001B[38;5;28;01mNone\u001B[39;00m:\n\u001B[32m    112\u001B[39m     epoch_callback(\u001B[38;5;28mself\u001B[39m)\n",
      "\u001B[36mFile \u001B[39m\u001B[32m~/Thesis/src/models/simple_lenet.py:81\u001B[39m, in \u001B[36mLeNet._epoch\u001B[39m\u001B[34m(self, imgs, labels, opt, batch_size)\u001B[39m\n\u001B[32m     79\u001B[39m loss.backward()\n\u001B[32m     80\u001B[39m opt.step()\n\u001B[32m---> \u001B[39m\u001B[32m81\u001B[39m \u001B[38;5;28;43minput\u001B[39;49m\u001B[43m(\u001B[49m\u001B[43m)\u001B[49m\n",
      "\u001B[36mFile \u001B[39m\u001B[32m~/Thesis/.venv/lib/python3.12/site-packages/ipykernel/kernelbase.py:1282\u001B[39m, in \u001B[36mKernel.raw_input\u001B[39m\u001B[34m(self, prompt)\u001B[39m\n\u001B[32m   1280\u001B[39m     msg = \u001B[33m\"\u001B[39m\u001B[33mraw_input was called, but this frontend does not support input requests.\u001B[39m\u001B[33m\"\u001B[39m\n\u001B[32m   1281\u001B[39m     \u001B[38;5;28;01mraise\u001B[39;00m StdinNotImplementedError(msg)\n\u001B[32m-> \u001B[39m\u001B[32m1282\u001B[39m \u001B[38;5;28;01mreturn\u001B[39;00m \u001B[38;5;28;43mself\u001B[39;49m\u001B[43m.\u001B[49m\u001B[43m_input_request\u001B[49m\u001B[43m(\u001B[49m\n\u001B[32m   1283\u001B[39m \u001B[43m    \u001B[49m\u001B[38;5;28;43mstr\u001B[39;49m\u001B[43m(\u001B[49m\u001B[43mprompt\u001B[49m\u001B[43m)\u001B[49m\u001B[43m,\u001B[49m\n\u001B[32m   1284\u001B[39m \u001B[43m    \u001B[49m\u001B[38;5;28;43mself\u001B[39;49m\u001B[43m.\u001B[49m\u001B[43m_parent_ident\u001B[49m\u001B[43m[\u001B[49m\u001B[33;43m\"\u001B[39;49m\u001B[33;43mshell\u001B[39;49m\u001B[33;43m\"\u001B[39;49m\u001B[43m]\u001B[49m\u001B[43m,\u001B[49m\n\u001B[32m   1285\u001B[39m \u001B[43m    \u001B[49m\u001B[38;5;28;43mself\u001B[39;49m\u001B[43m.\u001B[49m\u001B[43mget_parent\u001B[49m\u001B[43m(\u001B[49m\u001B[33;43m\"\u001B[39;49m\u001B[33;43mshell\u001B[39;49m\u001B[33;43m\"\u001B[39;49m\u001B[43m)\u001B[49m\u001B[43m,\u001B[49m\n\u001B[32m   1286\u001B[39m \u001B[43m    \u001B[49m\u001B[43mpassword\u001B[49m\u001B[43m=\u001B[49m\u001B[38;5;28;43;01mFalse\u001B[39;49;00m\u001B[43m,\u001B[49m\n\u001B[32m   1287\u001B[39m \u001B[43m\u001B[49m\u001B[43m)\u001B[49m\n",
      "\u001B[36mFile \u001B[39m\u001B[32m~/Thesis/.venv/lib/python3.12/site-packages/ipykernel/kernelbase.py:1325\u001B[39m, in \u001B[36mKernel._input_request\u001B[39m\u001B[34m(self, prompt, ident, parent, password)\u001B[39m\n\u001B[32m   1322\u001B[39m \u001B[38;5;28;01mexcept\u001B[39;00m \u001B[38;5;167;01mKeyboardInterrupt\u001B[39;00m:\n\u001B[32m   1323\u001B[39m     \u001B[38;5;66;03m# re-raise KeyboardInterrupt, to truncate traceback\u001B[39;00m\n\u001B[32m   1324\u001B[39m     msg = \u001B[33m\"\u001B[39m\u001B[33mInterrupted by user\u001B[39m\u001B[33m\"\u001B[39m\n\u001B[32m-> \u001B[39m\u001B[32m1325\u001B[39m     \u001B[38;5;28;01mraise\u001B[39;00m \u001B[38;5;167;01mKeyboardInterrupt\u001B[39;00m(msg) \u001B[38;5;28;01mfrom\u001B[39;00m\u001B[38;5;250m \u001B[39m\u001B[38;5;28;01mNone\u001B[39;00m\n\u001B[32m   1326\u001B[39m \u001B[38;5;28;01mexcept\u001B[39;00m \u001B[38;5;167;01mException\u001B[39;00m:\n\u001B[32m   1327\u001B[39m     \u001B[38;5;28mself\u001B[39m.log.warning(\u001B[33m\"\u001B[39m\u001B[33mInvalid Message:\u001B[39m\u001B[33m\"\u001B[39m, exc_info=\u001B[38;5;28;01mTrue\u001B[39;00m)\n",
      "\u001B[31mKeyboardInterrupt\u001B[39m: Interrupted by user"
     ]
    }
   ],
   "execution_count": 33
  },
  {
   "metadata": {
    "ExecuteTime": {
     "end_time": "2025-04-13T15:24:30.806368Z",
     "start_time": "2025-04-13T15:24:30.788312Z"
    }
   },
   "cell_type": "code",
   "source": "k_mnist.x_train.min()",
   "id": "dba062a6dc9b76c2",
   "outputs": [
    {
     "data": {
      "text/plain": [
       "np.float32(0.0)"
      ]
     },
     "execution_count": 26,
     "metadata": {},
     "output_type": "execute_result"
    }
   ],
   "execution_count": 26
  },
  {
   "metadata": {
    "ExecuteTime": {
     "end_time": "2025-04-13T15:34:43.445616Z",
     "start_time": "2025-04-13T15:34:43.424613Z"
    }
   },
   "cell_type": "code",
   "source": [
    "xs, ys = torch.as_tensor(k_mnist.x_train, device='cuda'), torch.as_tensor(k_mnist.y_train, device='cuda')\n",
    "xs.shape"
   ],
   "id": "56c97f1be4aef120",
   "outputs": [
    {
     "data": {
      "text/plain": [
       "torch.Size([60000, 1, 28, 28])"
      ]
     },
     "execution_count": 48,
     "metadata": {},
     "output_type": "execute_result"
    }
   ],
   "execution_count": 48
  },
  {
   "metadata": {
    "ExecuteTime": {
     "end_time": "2025-04-13T15:24:36.468229Z",
     "start_time": "2025-04-13T15:24:36.459473Z"
    }
   },
   "cell_type": "code",
   "source": "ys[:32]",
   "id": "1a61e518fba57712",
   "outputs": [
    {
     "data": {
      "text/plain": [
       "tensor([8, 7, 0, 1, 4, 2, 4, 8, 1, 1, 5, 1, 0, 5, 7, 6, 1, 7, 9, 5, 7, 3, 7, 5,\n",
       "        6, 6, 2, 7, 6, 0, 9, 6], device='cuda:0')"
      ]
     },
     "execution_count": 27,
     "metadata": {},
     "output_type": "execute_result"
    }
   ],
   "execution_count": 27
  },
  {
   "metadata": {
    "ExecuteTime": {
     "end_time": "2025-04-13T15:27:18.351651Z",
     "start_time": "2025-04-13T15:27:18.344462Z"
    }
   },
   "cell_type": "code",
   "source": "test_model[5]",
   "id": "b6495a6dc0b2500",
   "outputs": [
    {
     "data": {
      "text/plain": [
       "LeNet(\n",
       "  (net): Sequential(\n",
       "    (0): Conv2d(1, 20, kernel_size=(5, 5), stride=(1, 1))\n",
       "    (1): ReLU()\n",
       "    (2): GenericConv2D(\n",
       "      padding=2, stride=2, groups=20\n",
       "      (kernel): QuadraticKernelIso2D(1, 20, kernel_size=5)\n",
       "      (conv): SelectConvFixed()\n",
       "    )\n",
       "    (3): Conv2d(20, 50, kernel_size=(5, 5), stride=(1, 1))\n",
       "    (4): ReLU()\n",
       "    (5): GenericConv2D(\n",
       "      padding=2, stride=2, groups=50\n",
       "      (kernel): QuadraticKernelIso2D(1, 50, kernel_size=5)\n",
       "      (conv): SelectConvFixed()\n",
       "    )\n",
       "    (6): Flatten(start_dim=1, end_dim=-1)\n",
       "    (7): Linear(in_features=800, out_features=500, bias=True)\n",
       "    (8): ReLU()\n",
       "    (9): Linear(in_features=500, out_features=10, bias=True)\n",
       "  )\n",
       ")"
      ]
     },
     "execution_count": 36,
     "metadata": {},
     "output_type": "execute_result"
    }
   ],
   "execution_count": 36
  },
  {
   "metadata": {
    "ExecuteTime": {
     "end_time": "2025-04-13T15:44:20.282391Z",
     "start_time": "2025-04-13T15:44:20.273446Z"
    }
   },
   "cell_type": "code",
   "source": "xs[:32].mean()",
   "id": "38822d0874573985",
   "outputs": [
    {
     "data": {
      "text/plain": [
       "tensor(0.1871, device='cuda:0')"
      ]
     },
     "execution_count": 73,
     "metadata": {},
     "output_type": "execute_result"
    }
   ],
   "execution_count": 73
  },
  {
   "metadata": {
    "ExecuteTime": {
     "end_time": "2025-04-13T15:45:06.281246Z",
     "start_time": "2025-04-13T15:45:06.269295Z"
    }
   },
   "cell_type": "code",
   "source": "test_model.net[5].kernel.log_std",
   "id": "1d63b88d123bca6b",
   "outputs": [
    {
     "data": {
      "text/plain": [
       "Parameter containing:\n",
       "tensor([[3.4661],\n",
       "        [0.8653],\n",
       "        [2.2865],\n",
       "        [0.7337],\n",
       "        [0.2420],\n",
       "        [0.9981],\n",
       "        [1.4310],\n",
       "        [0.6544],\n",
       "        [0.4962],\n",
       "        [1.6048],\n",
       "        [2.3351],\n",
       "        [1.4733],\n",
       "        [2.3547],\n",
       "        [1.1349],\n",
       "        [0.1880],\n",
       "        [1.5911],\n",
       "        [0.3009],\n",
       "        [3.2277],\n",
       "        [0.3727],\n",
       "        [3.8233],\n",
       "        [0.6095],\n",
       "        [2.7970],\n",
       "        [3.1033],\n",
       "        [0.5686],\n",
       "        [2.0875],\n",
       "        [3.9230],\n",
       "        [3.9734],\n",
       "        [0.2107],\n",
       "        [2.3873],\n",
       "        [3.3629],\n",
       "        [1.1797],\n",
       "        [2.9512],\n",
       "        [1.1813],\n",
       "        [3.5371],\n",
       "        [3.2330],\n",
       "        [1.1541],\n",
       "        [3.8338],\n",
       "        [2.3911],\n",
       "        [1.7559],\n",
       "        [3.1527],\n",
       "        [2.5125],\n",
       "        [1.5615],\n",
       "        [1.2809],\n",
       "        [3.6072],\n",
       "        [0.9513],\n",
       "        [0.4876],\n",
       "        [1.4580],\n",
       "        [0.9094],\n",
       "        [2.6009],\n",
       "        [2.1229]], device='cuda:0', requires_grad=True)"
      ]
     },
     "execution_count": 78,
     "metadata": {},
     "output_type": "execute_result"
    }
   ],
   "execution_count": 78
  },
  {
   "metadata": {
    "ExecuteTime": {
     "end_time": "2025-04-13T15:41:30.289514Z",
     "start_time": "2025-04-13T15:41:30.278923Z"
    }
   },
   "cell_type": "code",
   "source": "test_model.net[5].kernel()[3]",
   "id": "68b03a795d86123e",
   "outputs": [
    {
     "data": {
      "text/plain": [
       "tensor([[[-2.7260, -1.7037, -1.3630, -1.7037, -2.7260],\n",
       "         [-1.7037, -0.6815, -0.3407, -0.6815, -1.7037],\n",
       "         [-1.3630, -0.3407, -0.0000, -0.3407, -1.3630],\n",
       "         [-1.7037, -0.6815, -0.3407, -0.6815, -1.7037],\n",
       "         [-2.7260, -1.7037, -1.3630, -1.7037, -2.7260]]], device='cuda:0',\n",
       "       grad_fn=<SelectBackward0>)"
      ]
     },
     "execution_count": 62,
     "metadata": {},
     "output_type": "execute_result"
    }
   ],
   "execution_count": 62
  },
  {
   "metadata": {
    "ExecuteTime": {
     "end_time": "2025-04-13T15:44:28.436769Z",
     "start_time": "2025-04-13T15:44:28.042711Z"
    }
   },
   "cell_type": "code",
   "source": [
    "res = test_model(xs[:32])\n",
    "torch.log_softmax(res, dim=1).numpy(force=True)[:4, :4]"
   ],
   "id": "9ab5aa97d2321f4c",
   "outputs": [
    {
     "data": {
      "text/plain": [
       "array([[-2.2657673, -2.3030846, -2.2578933, -2.3716404],\n",
       "       [-2.2766986, -2.2917407, -2.2549603, -2.3501327],\n",
       "       [-2.2871745, -2.279163 , -2.250412 , -2.3658538],\n",
       "       [-2.282691 , -2.3025365, -2.267029 , -2.3357558]], dtype=float32)"
      ]
     },
     "execution_count": 75,
     "metadata": {},
     "output_type": "execute_result"
    }
   ],
   "execution_count": 75
  },
  {
   "metadata": {
    "ExecuteTime": {
     "end_time": "2025-04-13T15:44:47.249938Z",
     "start_time": "2025-04-13T15:44:47.239712Z"
    }
   },
   "cell_type": "code",
   "source": "nn.functional.cross_entropy(res, ys[:32])",
   "id": "ceb46834909f7a41",
   "outputs": [
    {
     "data": {
      "text/plain": [
       "tensor(2.3054, device='cuda:0', grad_fn=<NllLossBackward0>)"
      ]
     },
     "execution_count": 76,
     "metadata": {},
     "output_type": "execute_result"
    }
   ],
   "execution_count": 76
  },
  {
   "metadata": {
    "ExecuteTime": {
     "end_time": "2025-04-13T15:44:52.688751Z",
     "start_time": "2025-04-13T15:44:52.677198Z"
    }
   },
   "cell_type": "code",
   "source": "nn.functional.cross_entropy(res, ys[:32]).backward()",
   "id": "b680136177ee0471",
   "outputs": [],
   "execution_count": 77
  },
  {
   "metadata": {
    "ExecuteTime": {
     "end_time": "2025-04-13T15:45:12.306588Z",
     "start_time": "2025-04-13T15:45:12.296299Z"
    }
   },
   "cell_type": "code",
   "source": "print(test_model.net[5].kernel.log_std.grad)",
   "id": "cbddd0589d0e7631",
   "outputs": [
    {
     "name": "stdout",
     "output_type": "stream",
     "text": [
      "tensor([[-1.7862e-05],\n",
      "        [-0.0000e+00],\n",
      "        [-1.0996e-04],\n",
      "        [-0.0000e+00],\n",
      "        [-0.0000e+00],\n",
      "        [-0.0000e+00],\n",
      "        [ 1.4334e-04],\n",
      "        [-0.0000e+00],\n",
      "        [-0.0000e+00],\n",
      "        [-3.2585e-04],\n",
      "        [ 7.1240e-05],\n",
      "        [-2.0357e-04],\n",
      "        [-8.8747e-05],\n",
      "        [-0.0000e+00],\n",
      "        [-0.0000e+00],\n",
      "        [-0.0000e+00],\n",
      "        [-0.0000e+00],\n",
      "        [ 1.0804e-04],\n",
      "        [-0.0000e+00],\n",
      "        [-3.4535e-06],\n",
      "        [-0.0000e+00],\n",
      "        [ 5.1163e-05],\n",
      "        [-1.3233e-04],\n",
      "        [-0.0000e+00],\n",
      "        [ 8.4136e-06],\n",
      "        [ 4.0697e-05],\n",
      "        [-8.6115e-05],\n",
      "        [-0.0000e+00],\n",
      "        [ 2.2269e-05],\n",
      "        [-3.6293e-05],\n",
      "        [-3.6878e-05],\n",
      "        [ 1.8233e-05],\n",
      "        [ 1.8816e-04],\n",
      "        [ 8.9970e-05],\n",
      "        [ 8.5652e-06],\n",
      "        [-0.0000e+00],\n",
      "        [ 4.3328e-06],\n",
      "        [ 9.6210e-06],\n",
      "        [-1.7318e-05],\n",
      "        [-9.3818e-05],\n",
      "        [-7.2809e-05],\n",
      "        [-0.0000e+00],\n",
      "        [-0.0000e+00],\n",
      "        [-4.3282e-05],\n",
      "        [ 2.9440e-05],\n",
      "        [-0.0000e+00],\n",
      "        [-2.3205e-04],\n",
      "        [-0.0000e+00],\n",
      "        [-1.0776e-04],\n",
      "        [-1.6178e-04]], device='cuda:0')\n"
     ]
    }
   ],
   "execution_count": 79
  },
  {
   "metadata": {
    "ExecuteTime": {
     "end_time": "2025-04-13T14:45:44.548998Z",
     "start_time": "2025-04-13T14:45:44.543896Z"
    }
   },
   "cell_type": "code",
   "source": "",
   "id": "ad5cfe79ac1f1db5",
   "outputs": [],
   "execution_count": 474
  },
  {
   "metadata": {
    "ExecuteTime": {
     "end_time": "2025-04-13T14:47:12.905222Z",
     "start_time": "2025-04-13T14:47:12.847210Z"
    }
   },
   "cell_type": "code",
   "source": "plt.plot([result['accuracy'] for result in res[pool_fn]])",
   "id": "28ee991956e4c297",
   "outputs": [
    {
     "data": {
      "text/plain": [
       "[<matplotlib.lines.Line2D at 0x7e20e02e46e0>]"
      ]
     },
     "execution_count": 479,
     "metadata": {},
     "output_type": "execute_result"
    },
    {
     "data": {
      "text/plain": [
       "<Figure size 640x480 with 1 Axes>"
      ],
      "image/png": "[encoded data removed]"
     },
     "metadata": {},
     "output_type": "display_data"
    }
   ],
   "execution_count": 479
  },
  {
   "metadata": {
    "ExecuteTime": {
     "end_time": "2025-04-13T18:53:06.657349Z",
     "start_time": "2025-04-13T18:53:06.651807Z"
    }
   },
   "cell_type": "code",
   "source": "res_sort = {k: res[k] for k in sorted(res)}",
   "id": "753a599e1ada619d",
   "outputs": [],
   "execution_count": 230
  },
  {
   "metadata": {
    "ExecuteTime": {
     "end_time": "2025-04-13T18:56:35.546460Z",
     "start_time": "2025-04-13T18:56:35.515018Z"
    }
   },
   "cell_type": "code",
   "source": "pl.DataFrame(res_sort).write_parquet(\"data/res1.pq\")",
   "id": "ee4fcf690597a04d",
   "outputs": [],
   "execution_count": 237
  },
  {
   "cell_type": "code",
   "id": "399fe1b35c930573",
   "metadata": {
    "ExecuteTime": {
     "end_time": "2025-04-13T18:53:50.479539Z",
     "start_time": "2025-04-13T18:53:50.350042Z"
    }
   },
   "source": [
    "df = pl.DataFrame(res_sort).select(pl.all().struct.field(\"accuracy\").name.keep())\n",
    "# sns.barplot({'a':[0.9471, 0.9617, 0.9567, 0.9646, 0.9506, 0.9596, 0.9531, 0.9553, 0.9578, 0.9642, 0.9532, 0.9458, 0.9513, 0.953, 0.9582, 0.9526, 0.9578, 0.9631, 0.96, 0.9557]}, errorbar=(\"pi\", 90))\n",
    "plt.figure(figsize=(15, 5))\n",
    "sns.barplot(df.to_pandas(), errorbar=(\"pi\", 90))\n",
    "plt.xticks(rotation=-45)\n",
    "plt.ylim(0.940, 0.965)"
   ],
   "outputs": [
    {
     "data": {
      "text/plain": [
       "(0.94, 0.965)"
      ]
     },
     "execution_count": 234,
     "metadata": {},
     "output_type": "execute_result"
    },
    {
     "data": {
      "text/plain": [
       "<Figure size 1500x500 with 1 Axes>"
      ],
      "image/png": "[encoded data removed]"
     },
     "metadata": {},
     "output_type": "display_data"
    }
   ],
   "execution_count": 234
  },
  {
   "metadata": {
    "ExecuteTime": {
     "end_time": "2025-04-13T14:00:46.911306Z",
     "start_time": "2025-04-13T14:00:46.904621Z"
    }
   },
   "cell_type": "code",
   "source": "math.log(0.0955)",
   "id": "86b3770c25f3ecaa",
   "outputs": [
    {
     "data": {
      "text/plain": [
       "-2.3486290314954523"
      ]
     },
     "execution_count": 418,
     "metadata": {},
     "output_type": "execute_result"
    }
   ],
   "execution_count": 418
  },
  {
   "cell_type": "code",
   "id": "4dc5f8809ae3e4f5",
   "metadata": {
    "ExecuteTime": {
     "end_time": "2025-04-13T14:48:15.989246Z",
     "start_time": "2025-04-13T14:48:15.979587Z"
    }
   },
   "source": [
    "k = kernels.QuadraticKernelIso2D(1, 1, 5, 1.9850)\n",
    "k().squeeze().numpy(force=True)"
   ],
   "outputs": [
    {
     "data": {
      "text/plain": [
       "array([[-1.0075567 , -0.6297229 , -0.50377834, -0.6297229 , -1.0075567 ],\n",
       "       [-0.6297229 , -0.25188917, -0.12594458, -0.25188917, -0.6297229 ],\n",
       "       [-0.50377834, -0.12594458, -0.        , -0.12594458, -0.50377834],\n",
       "       [-0.6297229 , -0.25188917, -0.12594458, -0.25188917, -0.6297229 ],\n",
       "       [-1.0075567 , -0.6297229 , -0.50377834, -0.6297229 , -1.0075567 ]],\n",
       "      dtype=float32)"
      ]
     },
     "execution_count": 481,
     "metadata": {},
     "output_type": "execute_result"
    }
   ],
   "execution_count": 481
  },
  {
   "metadata": {
    "ExecuteTime": {
     "end_time": "2025-04-13T14:48:17.885448Z",
     "start_time": "2025-04-13T14:48:17.829110Z"
    }
   },
   "cell_type": "code",
   "source": [
    "a = torch.zeros((1, 1, 10, 10), device=\"cuda\")\n",
    "a[..., 4, 5:] = 1\n",
    "a.requires_grad_(True)\n",
    "plt.matshow(a.squeeze().numpy(force=True))"
   ],
   "id": "f65be67b5d8f5d1f",
   "outputs": [
    {
     "data": {
      "text/plain": [
       "<matplotlib.image.AxesImage at 0x7e20e03c8110>"
      ]
     },
     "execution_count": 482,
     "metadata": {},
     "output_type": "execute_result"
    },
    {
     "data": {
      "text/plain": [
       "<Figure size 480x480 with 1 Axes>"
      ],
      "image/png": "[encoded data removed]"
     },
     "metadata": {},
     "output_type": "display_data"
    }
   ],
   "execution_count": 482
  },
  {
   "metadata": {
    "ExecuteTime": {
     "end_time": "2025-04-13T14:48:19.389385Z",
     "start_time": "2025-04-13T14:48:19.382771Z"
    }
   },
   "cell_type": "code",
   "source": [
    "c = convolutions.GenericConv2D(\n",
    "    kernel=k,\n",
    "    # conv=convolutions.LinearConv2D(),\n",
    "    conv=convolutions.BroadcastSemifield.tropical_max().module(),\n",
    "    # conv=convolutions.TropicalConv2D(is_max=True),\n",
    "    stride=2, padding=2\n",
    ").to('cuda')"
   ],
   "id": "a263d8b24011690b",
   "outputs": [],
   "execution_count": 483
  },
  {
   "metadata": {
    "ExecuteTime": {
     "end_time": "2025-04-13T14:48:20.674797Z",
     "start_time": "2025-04-13T14:48:20.664163Z"
    }
   },
   "cell_type": "code",
   "source": [
    "r = c(a)\n",
    "print(r.shape)\n",
    "r"
   ],
   "id": "a87bdb12cab76a22",
   "outputs": [
    {
     "name": "stdout",
     "output_type": "stream",
     "text": [
      "torch.Size([1, 1, 5, 5])\n"
     ]
    },
    {
     "data": {
      "text/plain": [
       "tensor([[[[0.0000, 0.0000, 0.0000, 0.0000, 0.0000],\n",
       "          [0.0000, 0.0000, 0.3703, 0.4962, 0.4962],\n",
       "          [0.0000, 0.0000, 0.8741, 1.0000, 1.0000],\n",
       "          [0.0000, 0.0000, 0.3703, 0.4962, 0.4962],\n",
       "          [0.0000, 0.0000, 0.0000, 0.0000, 0.0000]]]], device='cuda:0',\n",
       "       grad_fn=<ViewBackward0>)"
      ]
     },
     "execution_count": 484,
     "metadata": {},
     "output_type": "execute_result"
    }
   ],
   "execution_count": 484
  },
  {
   "metadata": {
    "ExecuteTime": {
     "end_time": "2025-04-13T14:48:22.448204Z",
     "start_time": "2025-04-13T14:48:22.441573Z"
    }
   },
   "cell_type": "code",
   "source": "r.sum().backward()",
   "id": "42a7c4e84886eae0",
   "outputs": [],
   "execution_count": 485
  },
  {
   "metadata": {
    "ExecuteTime": {
     "end_time": "2025-04-13T14:48:23.204653Z",
     "start_time": "2025-04-13T14:48:23.155648Z"
    }
   },
   "cell_type": "code",
   "source": "plt.matshow(a.grad.squeeze().numpy(force=True))",
   "id": "97f39bad552c876d",
   "outputs": [
    {
     "data": {
      "text/plain": [
       "<matplotlib.image.AxesImage at 0x7e20db8a3260>"
      ]
     },
     "execution_count": 486,
     "metadata": {},
     "output_type": "execute_result"
    },
    {
     "data": {
      "text/plain": [
       "<Figure size 480x480 with 1 Axes>"
      ],
      "image/png": "[encoded data removed]"
     },
     "metadata": {},
     "output_type": "display_data"
    }
   ],
   "execution_count": 486
  },
  {
   "metadata": {
    "ExecuteTime": {
     "end_time": "2025-04-13T14:49:01.762513Z",
     "start_time": "2025-04-13T14:49:01.754717Z"
    }
   },
   "cell_type": "code",
   "source": "k.log_std.grad.numpy(force=True)",
   "id": "57fa53bf161bbfd5",
   "outputs": [
    {
     "data": {
      "text/plain": [
       "array([[1.7131002]], dtype=float32)"
      ]
     },
     "execution_count": 491,
     "metadata": {},
     "output_type": "execute_result"
    }
   ],
   "execution_count": 491
  },
  {
   "metadata": {
    "ExecuteTime": {
     "end_time": "2025-04-13T15:23:15.228838Z",
     "start_time": "2025-04-13T15:23:15.219145Z"
    }
   },
   "cell_type": "code",
   "source": [
    "torch.manual_seed(0)\n",
    "test_model = simple_lenet.LeNet(1, 10, \"iso-5\")"
   ],
   "id": "2d71cd6cba5ff564",
   "outputs": [],
   "execution_count": 22
  },
  {
   "metadata": {
    "ExecuteTime": {
     "end_time": "2025-04-13T15:23:21.254947Z",
     "start_time": "2025-04-13T15:23:21.249865Z"
    }
   },
   "cell_type": "code",
   "source": [
    "bx\n",
    "res = test_model"
   ],
   "id": "e7fb2dc1e5f9dc75",
   "outputs": [
    {
     "data": {
      "text/plain": [
       "LeNet(\n",
       "  (net): Sequential(\n",
       "    (0): Conv2d(1, 20, kernel_size=(5, 5), stride=(1, 1))\n",
       "    (1): ReLU()\n",
       "    (2): GenericConv2D(\n",
       "      padding=2, stride=2, groups=20\n",
       "      (kernel): QuadraticKernelIso2D(1, 20, kernel_size=5)\n",
       "      (conv): SelectConvFixedLazy()\n",
       "    )\n",
       "    (3): Conv2d(20, 50, kernel_size=(5, 5), stride=(1, 1))\n",
       "    (4): ReLU()\n",
       "    (5): GenericConv2D(\n",
       "      padding=2, stride=2, groups=50\n",
       "      (kernel): QuadraticKernelIso2D(1, 50, kernel_size=5)\n",
       "      (conv): SelectConvFixedLazy()\n",
       "    )\n",
       "    (6): Flatten(start_dim=1, end_dim=-1)\n",
       "    (7): LazyLinear(in_features=0, out_features=500, bias=True)\n",
       "    (8): ReLU()\n",
       "    (9): Linear(in_features=500, out_features=10, bias=True)\n",
       "  )\n",
       ")"
      ]
     },
     "execution_count": 23,
     "metadata": {},
     "output_type": "execute_result"
    }
   ],
   "execution_count": 23
  },
  {
   "metadata": {
    "ExecuteTime": {
     "end_time": "2025-04-13T13:19:32.375961Z",
     "start_time": "2025-04-13T13:19:32.365453Z"
    }
   },
   "cell_type": "code",
   "source": [
    "pg = kernels.QuadraticKernelIso2D(1, 1, 11, 2.6).pos_grid.squeeze()\n",
    "pg.numpy(force=True)"
   ],
   "id": "565a3739e92c253b",
   "outputs": [
    {
     "data": {
      "text/plain": [
       "array([[-5., -5., -5., -5., -5., -5., -5., -5., -5., -5., -5., -4., -4.,\n",
       "        -4., -4., -4., -4., -4., -4., -4., -4., -4., -3., -3., -3., -3.,\n",
       "        -3., -3., -3., -3., -3., -3., -3., -2., -2., -2., -2., -2., -2.,\n",
       "        -2., -2., -2., -2., -2., -1., -1., -1., -1., -1., -1., -1., -1.,\n",
       "        -1., -1., -1.,  0.,  0.,  0.,  0.,  0.,  0.,  0.,  0.,  0.,  0.,\n",
       "         0.,  1.,  1.,  1.,  1.,  1.,  1.,  1.,  1.,  1.,  1.,  1.,  2.,\n",
       "         2.,  2.,  2.,  2.,  2.,  2.,  2.,  2.,  2.,  2.,  3.,  3.,  3.,\n",
       "         3.,  3.,  3.,  3.,  3.,  3.,  3.,  3.,  4.,  4.,  4.,  4.,  4.,\n",
       "         4.,  4.,  4.,  4.,  4.,  4.,  5.,  5.,  5.,  5.,  5.,  5.,  5.,\n",
       "         5.,  5.,  5.,  5.],\n",
       "       [-5., -4., -3., -2., -1.,  0.,  1.,  2.,  3.,  4.,  5., -5., -4.,\n",
       "        -3., -2., -1.,  0.,  1.,  2.,  3.,  4.,  5., -5., -4., -3., -2.,\n",
       "        -1.,  0.,  1.,  2.,  3.,  4.,  5., -5., -4., -3., -2., -1.,  0.,\n",
       "         1.,  2.,  3.,  4.,  5., -5., -4., -3., -2., -1.,  0.,  1.,  2.,\n",
       "         3.,  4.,  5., -5., -4., -3., -2., -1.,  0.,  1.,  2.,  3.,  4.,\n",
       "         5., -5., -4., -3., -2., -1.,  0.,  1.,  2.,  3.,  4.,  5., -5.,\n",
       "        -4., -3., -2., -1.,  0.,  1.,  2.,  3.,  4.,  5., -5., -4., -3.,\n",
       "        -2., -1.,  0.,  1.,  2.,  3.,  4.,  5., -5., -4., -3., -2., -1.,\n",
       "         0.,  1.,  2.,  3.,  4.,  5., -5., -4., -3., -2., -1.,  0.,  1.,\n",
       "         2.,  3.,  4.,  5.]], dtype=float32)"
      ]
     },
     "execution_count": 382,
     "metadata": {},
     "output_type": "execute_result"
    }
   ],
   "execution_count": 382
  },
  {
   "metadata": {
    "ExecuteTime": {
     "end_time": "2025-04-13T13:18:58.548416Z",
     "start_time": "2025-04-13T13:18:58.538012Z"
    }
   },
   "cell_type": "code",
   "source": [
    "b = torch.linspace(\n",
    "    -11 // 2 + 1, 11 // 2, 11, dtype=torch.float32\n",
    ")\n",
    "z_c = b.view(-1, 1).pow(2) + b.view(1, -1).pow(2)\n",
    "z_c.numpy()"
   ],
   "id": "d62837d5515d07b7",
   "outputs": [
    {
     "data": {
      "text/plain": [
       "array([[50., 41., 34., 29., 26., 25., 26., 29., 34., 41., 50.],\n",
       "       [41., 32., 25., 20., 17., 16., 17., 20., 25., 32., 41.],\n",
       "       [34., 25., 18., 13., 10.,  9., 10., 13., 18., 25., 34.],\n",
       "       [29., 20., 13.,  8.,  5.,  4.,  5.,  8., 13., 20., 29.],\n",
       "       [26., 17., 10.,  5.,  2.,  1.,  2.,  5., 10., 17., 26.],\n",
       "       [25., 16.,  9.,  4.,  1.,  0.,  1.,  4.,  9., 16., 25.],\n",
       "       [26., 17., 10.,  5.,  2.,  1.,  2.,  5., 10., 17., 26.],\n",
       "       [29., 20., 13.,  8.,  5.,  4.,  5.,  8., 13., 20., 29.],\n",
       "       [34., 25., 18., 13., 10.,  9., 10., 13., 18., 25., 34.],\n",
       "       [41., 32., 25., 20., 17., 16., 17., 20., 25., 32., 41.],\n",
       "       [50., 41., 34., 29., 26., 25., 26., 29., 34., 41., 50.]],\n",
       "      dtype=float32)"
      ]
     },
     "execution_count": 380,
     "metadata": {},
     "output_type": "execute_result"
    }
   ],
   "execution_count": 380
  },
  {
   "metadata": {
    "ExecuteTime": {
     "end_time": "2025-04-13T14:01:17.127468Z",
     "start_time": "2025-04-13T14:01:17.117753Z"
    }
   },
   "cell_type": "code",
   "source": "-pg.pow(2).sum(0).reshape(11, 11) / (4 * math.log(0.0955))",
   "id": "ff2cc7b7f290a67f",
   "outputs": [
    {
     "data": {
      "text/plain": [
       "tensor([[5.3223, 4.3642, 3.6191, 3.0869, 2.7676, 2.6611, 2.7676, 3.0869, 3.6191,\n",
       "         4.3642, 5.3223],\n",
       "        [4.3642, 3.4062, 2.6611, 2.1289, 1.8096, 1.7031, 1.8096, 2.1289, 2.6611,\n",
       "         3.4062, 4.3642],\n",
       "        [3.6191, 2.6611, 1.9160, 1.3838, 1.0645, 0.9580, 1.0645, 1.3838, 1.9160,\n",
       "         2.6611, 3.6191],\n",
       "        [3.0869, 2.1289, 1.3838, 0.8516, 0.5322, 0.4258, 0.5322, 0.8516, 1.3838,\n",
       "         2.1289, 3.0869],\n",
       "        [2.7676, 1.8096, 1.0645, 0.5322, 0.2129, 0.1064, 0.2129, 0.5322, 1.0645,\n",
       "         1.8096, 2.7676],\n",
       "        [2.6611, 1.7031, 0.9580, 0.4258, 0.1064, 0.0000, 0.1064, 0.4258, 0.9580,\n",
       "         1.7031, 2.6611],\n",
       "        [2.7676, 1.8096, 1.0645, 0.5322, 0.2129, 0.1064, 0.2129, 0.5322, 1.0645,\n",
       "         1.8096, 2.7676],\n",
       "        [3.0869, 2.1289, 1.3838, 0.8516, 0.5322, 0.4258, 0.5322, 0.8516, 1.3838,\n",
       "         2.1289, 3.0869],\n",
       "        [3.6191, 2.6611, 1.9160, 1.3838, 1.0645, 0.9580, 1.0645, 1.3838, 1.9160,\n",
       "         2.6611, 3.6191],\n",
       "        [4.3642, 3.4062, 2.6611, 2.1289, 1.8096, 1.7031, 1.8096, 2.1289, 2.6611,\n",
       "         3.4062, 4.3642],\n",
       "        [5.3223, 4.3642, 3.6191, 3.0869, 2.7676, 2.6611, 2.7676, 3.0869, 3.6191,\n",
       "         4.3642, 5.3223]])"
      ]
     },
     "execution_count": 419,
     "metadata": {},
     "output_type": "execute_result"
    }
   ],
   "execution_count": 419
  }
 ],
 "metadata": {
  "kernelspec": {
   "display_name": "Python 3",
   "language": "python",
   "name": "python3"
  },
  "language_info": {
   "codemirror_mode": {
    "name": "ipython",
    "version": 2
   },
   "file_extension": ".py",
   "mimetype": "text/x-python",
   "name": "python",
   "nbconvert_exporter": "python",
   "pygments_lexer": "ipython2",
   "version": "2.7.6"
  }
 },
 "nbformat": 4,
 "nbformat_minor": 5
}
