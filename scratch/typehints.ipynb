{
 "cells": [
  {
   "cell_type": "code",
   "id": "initial_id",
   "metadata": {
    "collapsed": true,
    "ExecuteTime": {
     "end_time": "2025-05-08T14:35:39.264614Z",
     "start_time": "2025-05-08T14:35:39.261593Z"
    }
   },
   "source": [
    "from __future__ import annotations\n",
    "import inspect"
   ],
   "outputs": [],
   "execution_count": 5
  },
  {
   "metadata": {
    "ExecuteTime": {
     "end_time": "2025-05-08T14:35:40.958205Z",
     "start_time": "2025-05-08T14:35:40.758156Z"
    }
   },
   "cell_type": "code",
   "source": [
    "def bar():\n",
    "    class In:\n",
    "        def __new__(cls, *args):\n",
    "            return {\"ret\": args}\n",
    "\n",
    "    ree = 999\n",
    "    print(In, type(In))\n",
    "\n",
    "    def foo(\n",
    "            x: In(\"f32\", (\"waa\", 2, ree)),\n",
    "            y: int,\n",
    "    ):\n",
    "        pass\n",
    "\n",
    "    return foo\n",
    "\n",
    "\n",
    "fun = bar()\n",
    "print(inspect.getclosurevars(fun))\n",
    "print(inspect.get_annotations(fun, eval_str=True))\n",
    "print(list(inspect.signature(fun).parameters))"
   ],
   "id": "314cdb9643ec49db",
   "outputs": [
    {
     "name": "stdout",
     "output_type": "stream",
     "text": [
      "<class '__main__.bar.<locals>.In'> <class 'type'>\n",
      "ClosureVars(nonlocals={}, globals={}, builtins={}, unbound=set())\n"
     ]
    },
    {
     "ename": "NameError",
     "evalue": "name 'ree' is not defined",
     "output_type": "error",
     "traceback": [
      "\u001B[31m---------------------------------------------------------------------------\u001B[39m",
      "\u001B[31mNameError\u001B[39m                                 Traceback (most recent call last)",
      "\u001B[36mCell\u001B[39m\u001B[36m \u001B[39m\u001B[32mIn[6]\u001B[39m\u001B[32m, line 20\u001B[39m\n\u001B[32m     18\u001B[39m fun = bar()\n\u001B[32m     19\u001B[39m \u001B[38;5;28mprint\u001B[39m(inspect.getclosurevars(fun))\n\u001B[32m---> \u001B[39m\u001B[32m20\u001B[39m \u001B[38;5;28mprint\u001B[39m(\u001B[43minspect\u001B[49m\u001B[43m.\u001B[49m\u001B[43mget_annotations\u001B[49m\u001B[43m(\u001B[49m\u001B[43mfun\u001B[49m\u001B[43m,\u001B[49m\u001B[43m \u001B[49m\u001B[43meval_str\u001B[49m\u001B[43m=\u001B[49m\u001B[38;5;28;43;01mTrue\u001B[39;49;00m\u001B[43m)\u001B[49m)\n\u001B[32m     21\u001B[39m \u001B[38;5;28mprint\u001B[39m(\u001B[38;5;28mlist\u001B[39m(inspect.signature(fun).parameters))\n",
      "\u001B[36mFile \u001B[39m\u001B[32m/opt/homebrew/Cellar/python@3.12/3.12.9/Frameworks/Python.framework/Versions/3.12/lib/python3.12/inspect.py:292\u001B[39m, in \u001B[36mget_annotations\u001B[39m\u001B[34m(obj, globals, locals, eval_str)\u001B[39m\n\u001B[32m    288\u001B[39m \u001B[38;5;28;01mif\u001B[39;00m type_params := \u001B[38;5;28mgetattr\u001B[39m(obj, \u001B[33m\"\u001B[39m\u001B[33m__type_params__\u001B[39m\u001B[33m\"\u001B[39m, ()):\n\u001B[32m    289\u001B[39m     \u001B[38;5;28mlocals\u001B[39m = {param.\u001B[34m__name__\u001B[39m: param \u001B[38;5;28;01mfor\u001B[39;00m param \u001B[38;5;129;01min\u001B[39;00m type_params} | \u001B[38;5;28mlocals\u001B[39m\n\u001B[32m    291\u001B[39m return_value = {key:\n\u001B[32m--> \u001B[39m\u001B[32m292\u001B[39m     value \u001B[38;5;28;01mif\u001B[39;00m \u001B[38;5;129;01mnot\u001B[39;00m \u001B[38;5;28misinstance\u001B[39m(value, \u001B[38;5;28mstr\u001B[39m) \u001B[38;5;28;01melse\u001B[39;00m \u001B[38;5;28;43meval\u001B[39;49m\u001B[43m(\u001B[49m\u001B[43mvalue\u001B[49m\u001B[43m,\u001B[49m\u001B[43m \u001B[49m\u001B[38;5;28;43mglobals\u001B[39;49m\u001B[43m,\u001B[49m\u001B[43m \u001B[49m\u001B[38;5;28;43mlocals\u001B[39;49m\u001B[43m)\u001B[49m\n\u001B[32m    293\u001B[39m     \u001B[38;5;28;01mfor\u001B[39;00m key, value \u001B[38;5;129;01min\u001B[39;00m ann.items() }\n\u001B[32m    294\u001B[39m \u001B[38;5;28;01mreturn\u001B[39;00m return_value\n",
      "\u001B[36mFile \u001B[39m\u001B[32m<string>:1\u001B[39m\n",
      "\u001B[31mNameError\u001B[39m: name 'ree' is not defined"
     ]
    }
   ],
   "execution_count": 6
  },
  {
   "metadata": {
    "ExecuteTime": {
     "end_time": "2025-05-08T14:39:53.503621Z",
     "start_time": "2025-05-08T14:39:53.483809Z"
    }
   },
   "cell_type": "code",
   "source": [
    "def foo1(fn):\n",
    "    print(inspect.signature(fn))\n",
    "    print()\n",
    "    print(inspect.get_annotations(fn, eval_str=True, locals=inspect.stack()[1].frame.f_locals,\n",
    "                                  globals=inspect.stack()[1].frame.f_globals))\n",
    "    return fn\n",
    "\n",
    "\n",
    "def foo2():\n",
    "    a = 3\n",
    "\n",
    "    @foo1\n",
    "    def bar(\n",
    "            x: a\n",
    "    ):\n",
    "        pass\n",
    "\n",
    "\n",
    "foo2()"
   ],
   "id": "7cdbe940c1056b1c",
   "outputs": [
    {
     "name": "stdout",
     "output_type": "stream",
     "text": [
      "(x: 'a')\n",
      "\n",
      "{'x': 3}\n"
     ]
    }
   ],
   "execution_count": 13
  }
 ],
 "metadata": {
  "kernelspec": {
   "display_name": "Python 3",
   "language": "python",
   "name": "python3"
  },
  "language_info": {
   "codemirror_mode": {
    "name": "ipython",
    "version": 2
   },
   "file_extension": ".py",
   "mimetype": "text/x-python",
   "name": "python",
   "nbconvert_exporter": "python",
   "pygments_lexer": "ipython2",
   "version": "2.7.6"
  }
 },
 "nbformat": 4,
 "nbformat_minor": 5
}
