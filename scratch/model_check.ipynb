{
 "cells": [
  {
   "cell_type": "code",
   "id": "a71389d1cd8a0147",
   "metadata": {
    "ExecuteTime": {
     "end_time": "2025-05-09T08:25:29.823658Z",
     "start_time": "2025-05-09T08:25:29.306989Z"
    }
   },
   "source": [
    "!uv sync --quiet\n",
    "%env TORCH_LOGS=recompiles\n",
    "\n",
    "import torch\n",
    "from torch import nn\n",
    "\n",
    "import src.models.trainer\n",
    "\n",
    "torch.set_float32_matmul_precision('high')"
   ],
   "outputs": [
    {
     "name": "stdout",
     "output_type": "stream",
     "text": [
      "env: TORCH_LOGS=recompiles\n"
     ]
    }
   ],
   "execution_count": 24
  },
  {
   "cell_type": "code",
   "id": "ab78e1a11af147ca",
   "metadata": {
    "ExecuteTime": {
     "end_time": "2025-05-09T08:25:29.849939Z",
     "start_time": "2025-05-09T08:25:29.842453Z"
    }
   },
   "source": [
    "from pathlib import Path\n",
    "import os\n",
    "\n",
    "if not Path(\"./src/models\").is_dir():\n",
    "    for parent_path in Path.cwd().parents:\n",
    "        if (parent_path / \"src/models\").is_dir():\n",
    "            os.chdir(parent_path)\n",
    "            break\n",
    "    else:\n",
    "        raise FileNotFoundError(\"Can't find project root\")\n",
    "\n",
    "assert Path(\"./src/models\").is_dir()"
   ],
   "outputs": [],
   "execution_count": 25
  },
  {
   "cell_type": "code",
   "id": "7b3e5647e40e3955",
   "metadata": {
    "ExecuteTime": {
     "end_time": "2025-05-09T08:25:29.903924Z",
     "start_time": "2025-05-09T08:25:29.902588Z"
    }
   },
   "source": "from src import load_data",
   "outputs": [],
   "execution_count": 26
  },
  {
   "cell_type": "code",
   "id": "initial_id",
   "metadata": {
    "collapsed": true,
    "ExecuteTime": {
     "end_time": "2025-05-09T08:25:29.993274Z",
     "start_time": "2025-05-09T08:25:29.988389Z"
    }
   },
   "source": [
    "import importlib\n",
    "\n",
    "# from src.kernels import quadratic as quad_kernels\n",
    "import src.load_data\n",
    "\n",
    "# importlib.reload(src.models.simple_lenet)\n",
    "# importlib.reload(src.load_data)\n",
    "from src.models import simple_lenet\n",
    "from src import load_data\n",
    "# kernels = importlib.reload(kernels)\n",
    "# convolutions = importlib.reload(convolutions)"
   ],
   "outputs": [],
   "execution_count": 27
  },
  {
   "metadata": {
    "ExecuteTime": {
     "end_time": "2025-05-09T08:25:31.655802Z",
     "start_time": "2025-05-09T08:25:31.490183Z"
    }
   },
   "cell_type": "code",
   "source": [
    "k_mnist = load_data.k_mnist()\n",
    "test_inp = k_mnist.x_train[:1024].cuda()\n",
    "\n",
    "k_mnist"
   ],
   "id": "80b39890b122bbaf",
   "outputs": [
    {
     "data": {
      "text/plain": [
       "Dataset(x_train=torch.Size([60000, 1, 28, 28]), x_test=torch.Size([10000, 1, 28, 28]), y_train=torch.Size([60000]), y_test=torch.Size([10000]))"
      ]
     },
     "execution_count": 28,
     "metadata": {},
     "output_type": "execute_result"
    }
   ],
   "execution_count": 28
  },
  {
   "metadata": {
    "ExecuteTime": {
     "end_time": "2025-05-09T05:49:41.601158Z",
     "start_time": "2025-05-09T05:49:41.481940Z"
    }
   },
   "cell_type": "code",
   "source": [
    "from src.models.utils import make_pooling_function\n",
    "import matplotlib.pyplot as plt\n",
    "\n",
    "closer = make_pooling_function(\"aniso\", 5, padding=2, is_closing=True, stride=1)(1,\n",
    "                                                                                 {\"var\": \"skewed\",\n",
    "                                                                                  \"theta\": \"spin\"}).cuda()\n",
    "\n",
    "fig, (ax_before, ax_after) = plt.subplots(ncols=2, layout=\"compressed\")\n",
    "ax_after: plt.Axes\n",
    "ax_before.imshow(k_mnist.x_train[0, 0].numpy(force=True), vmin=0, vmax=1)\n",
    "close_res: torch.Tensor = closer(k_mnist.x_train[:1024].cuda()).cpu()\n",
    "print(f\"{k_mnist.x_train[:1024].shape} == {close_res.shape}\")\n",
    "assert (k_mnist.x_train[:1024] < close_res + 0.00001).all(), \"Not closing?\"\n",
    "ax_after.imshow(close_res[0, 0].numpy(force=True), vmin=0, vmax=1)"
   ],
   "id": "819b17c3cea8e03f",
   "outputs": [
    {
     "name": "stdout",
     "output_type": "stream",
     "text": [
      "torch.Size([1024, 1, 28, 28]) == torch.Size([1024, 1, 28, 28])\n"
     ]
    },
    {
     "data": {
      "text/plain": [
       "<matplotlib.image.AxesImage at 0x7c24c6c8e9f0>"
      ]
     },
     "execution_count": 20,
     "metadata": {},
     "output_type": "execute_result"
    },
    {
     "data": {
      "text/plain": [
       "<Figure size 640x480 with 2 Axes>"
      ],
      "image/png": "[encoded data removed]"
     },
     "metadata": {},
     "output_type": "display_data"
    }
   ],
   "execution_count": 20
  },
  {
   "metadata": {
    "ExecuteTime": {
     "end_time": "2025-05-09T08:57:05.583356Z",
     "start_time": "2025-05-09T08:57:05.574684Z"
    }
   },
   "cell_type": "code",
   "source": "torch.arange(9).reshape(3, 3).repeat_interleave(2, dim=0).repeat_interleave(2, dim=1)",
   "id": "551fb44b7d557a58",
   "outputs": [
    {
     "data": {
      "text/plain": [
       "tensor([[0, 0, 1, 1, 2, 2],\n",
       "        [0, 0, 1, 1, 2, 2],\n",
       "        [3, 3, 4, 4, 5, 5],\n",
       "        [3, 3, 4, 4, 5, 5],\n",
       "        [6, 6, 7, 7, 8, 8],\n",
       "        [6, 6, 7, 7, 8, 8]])"
      ]
     },
     "execution_count": 49,
     "metadata": {},
     "output_type": "execute_result"
    }
   ],
   "execution_count": 49
  },
  {
   "metadata": {
    "ExecuteTime": {
     "end_time": "2025-05-09T08:29:18.931885Z",
     "start_time": "2025-05-09T08:29:18.922441Z"
    }
   },
   "cell_type": "code",
   "source": "torch.max_pool2d(torch.arange(36).reshape(1, 1, 6, 6), kernel_size=2, stride=2, padding=1, ceil_mode=False)",
   "id": "c8abb6f2bace1272",
   "outputs": [
    {
     "data": {
      "text/plain": [
       "tensor([[[[ 0,  2,  4,  5],\n",
       "          [12, 14, 16, 17],\n",
       "          [24, 26, 28, 29],\n",
       "          [30, 32, 34, 35]]]])"
      ]
     },
     "execution_count": 46,
     "metadata": {},
     "output_type": "execute_result"
    }
   ],
   "execution_count": 46
  },
  {
   "metadata": {
    "ExecuteTime": {
     "end_time": "2025-05-09T05:56:21.534496Z",
     "start_time": "2025-05-09T05:55:37.943190Z"
    }
   },
   "cell_type": "code",
   "source": [
    "test_compile_mode = \"default\"\n",
    "test_disable = False\n",
    "test_model_std = torch.compile(simple_lenet.LeNet(img_channels=1, num_classes=10, pool_fn=\"standard-7\").to('cuda'),\n",
    "                               mode=test_compile_mode, disable=test_disable)\n",
    "test_model_iso = torch.compile(simple_lenet.LeNet(img_channels=1, num_classes=10, pool_fn=\"iso-7\").to('cuda'),\n",
    "                               mode=test_compile_mode, disable=test_disable)\n",
    "test_model_aniso = torch.compile(simple_lenet.LeNet(img_channels=1, num_classes=10, pool_fn=\"aniso-7\").to('cuda'),\n",
    "                                 mode=test_compile_mode, disable=test_disable)\n",
    "\n",
    "\n",
    "def run_one(f):\n",
    "    f(test_inp)[:, 7].sum().backward()\n",
    "    torch.cuda.synchronize()\n",
    "\n",
    "\n",
    "print(\"A\")\n",
    "run_one(test_model_std)\n",
    "print(\"B\")\n",
    "run_one(test_model_iso)\n",
    "print(\"C\")\n",
    "run_one(test_model_aniso)\n",
    "\n",
    "print(\"Std\")\n",
    "%timeit run_one(test_model_std)\n",
    "print(\"Iso\")\n",
    "%timeit run_one(test_model_iso)\n",
    "print(\"Aniso\")\n",
    "%timeit run_one(test_model_aniso)"
   ],
   "id": "418a1a2b11bc9a9d",
   "outputs": [
    {
     "name": "stderr",
     "output_type": "stream",
     "text": [
      "V0509 07:55:37.966000 118997 torch/_dynamo/guards.py:2997] [0/4] [__recompiles] Recompiling function forward in /home/peter/Thesis/src/models/simple_lenet.py:57\n",
      "V0509 07:55:37.966000 118997 torch/_dynamo/guards.py:2997] [0/4] [__recompiles]     triggered by the following guard failure(s):\n",
      "V0509 07:55:37.966000 118997 torch/_dynamo/guards.py:2997] [0/4] [__recompiles]     - 0/3: ___check_type_id(self._modules['net']._modules['2'], 97017644535120)\n",
      "V0509 07:55:37.966000 118997 torch/_dynamo/guards.py:2997] [0/4] [__recompiles]     - 0/2: ___check_type_id(self._modules['net']._modules['2'], 97017644535120)\n",
      "V0509 07:55:37.966000 118997 torch/_dynamo/guards.py:2997] [0/4] [__recompiles]     - 0/1: self._modules['net']._modules['2'].padding == 1        \n",
      "V0509 07:55:37.966000 118997 torch/_dynamo/guards.py:2997] [0/4] [__recompiles]     - 0/0: self._modules['net']._modules['2'].padding == 1        \n"
     ]
    },
    {
     "name": "stdout",
     "output_type": "stream",
     "text": [
      "A\n"
     ]
    },
    {
     "name": "stderr",
     "output_type": "stream",
     "text": [
      "V0509 07:55:42.484000 118997 torch/_dynamo/guards.py:2997] [0/5] [__recompiles] Recompiling function forward in /home/peter/Thesis/src/models/simple_lenet.py:57\n",
      "V0509 07:55:42.484000 118997 torch/_dynamo/guards.py:2997] [0/5] [__recompiles]     triggered by the following guard failure(s):\n",
      "V0509 07:55:42.484000 118997 torch/_dynamo/guards.py:2997] [0/5] [__recompiles]     - 0/4: ___check_type_id(self._modules['net']._modules['2'], 97017594296768)\n",
      "V0509 07:55:42.484000 118997 torch/_dynamo/guards.py:2997] [0/5] [__recompiles]     - 0/3: ___check_type_id(self._modules['net']._modules['2']._modules['kernel'], 97017655174928)\n",
      "V0509 07:55:42.484000 118997 torch/_dynamo/guards.py:2997] [0/5] [__recompiles]     - 0/2: ___check_type_id(self._modules['net']._modules['2']._modules['conv'], 97017655045392)\n",
      "V0509 07:55:42.484000 118997 torch/_dynamo/guards.py:2997] [0/5] [__recompiles]     - 0/1: ___check_type_id(self._modules['net']._modules['2'], 97017594296768)\n",
      "V0509 07:55:42.484000 118997 torch/_dynamo/guards.py:2997] [0/5] [__recompiles]     - 0/0: ___check_type_id(self._modules['net']._modules['2'], 97017594296768)\n"
     ]
    },
    {
     "name": "stdout",
     "output_type": "stream",
     "text": [
      "B\n"
     ]
    },
    {
     "name": "stderr",
     "output_type": "stream",
     "text": [
      "V0509 07:55:43.383000 118997 torch/_dynamo/guards.py:2997] [0/6] [__recompiles] Recompiling function forward in /home/peter/Thesis/src/models/simple_lenet.py:57\n",
      "V0509 07:55:43.383000 118997 torch/_dynamo/guards.py:2997] [0/6] [__recompiles]     triggered by the following guard failure(s):\n",
      "V0509 07:55:43.383000 118997 torch/_dynamo/guards.py:2997] [0/6] [__recompiles]     - 0/5: ___check_type_id(self._modules['net']._modules['2']._modules['conv'], 97017655045392)\n",
      "V0509 07:55:43.383000 118997 torch/_dynamo/guards.py:2997] [0/6] [__recompiles]     - 0/4: ___check_type_id(self._modules['net']._modules['2'], 97017594296768)\n",
      "V0509 07:55:43.383000 118997 torch/_dynamo/guards.py:2997] [0/6] [__recompiles]     - 0/3: tensor 'self._modules['net']._modules['2']._modules['kernel']._buffers['pos_grid']' size mismatch at index 0. expected 9, actual 49\n",
      "V0509 07:55:43.383000 118997 torch/_dynamo/guards.py:2997] [0/6] [__recompiles]     - 0/2: ___check_type_id(self._modules['net']._modules['2']._modules['conv'], 97017655045392)\n",
      "V0509 07:55:43.383000 118997 torch/_dynamo/guards.py:2997] [0/6] [__recompiles]     - 0/1: ___check_type_id(self._modules['net']._modules['2'], 97017594296768)\n",
      "V0509 07:55:43.383000 118997 torch/_dynamo/guards.py:2997] [0/6] [__recompiles]     - 0/0: ___check_type_id(self._modules['net']._modules['2'], 97017594296768)\n"
     ]
    },
    {
     "name": "stdout",
     "output_type": "stream",
     "text": [
      "C\n",
      "Std\n",
      "1.11 ms ± 1.02 μs per loop (mean ± std. dev. of 7 runs, 1,000 loops each)\n",
      "Iso\n",
      "1.69 ms ± 11.7 μs per loop (mean ± std. dev. of 7 runs, 1,000 loops each)\n",
      "Aniso\n",
      "1.8 ms ± 1.16 μs per loop (mean ± std. dev. of 7 runs, 1,000 loops each)\n"
     ]
    }
   ],
   "execution_count": 23
  },
  {
   "metadata": {
    "ExecuteTime": {
     "end_time": "2025-04-28T16:25:37.941749Z",
     "start_time": "2025-04-28T16:25:31.248538Z"
    }
   },
   "cell_type": "code",
   "source": [
    "# torch._dynamo.reset()\n",
    "# with torch.autograd.detect_anomaly():\n",
    "print(simple_lenet.LeNet.fit_many(k_mnist, batch_size=1024, torch_compile_mode=\"default\", count=3, epochs=30,\n",
    "                                  lr=0.004,\n",
    "                                  progress_bar=False, pool_fn=\"standard-7\", debug=False).scores)"
   ],
   "id": "37ce7db882e36cc9",
   "outputs": [
    {
     "name": "stdout",
     "output_type": "stream",
     "text": [
      "shape: (3, 7)\n",
      "┌──────────┬──────────┬──────────┬──────────┬─────────────┬───────────────┬──────────┐\n",
      "│ acc      ┆ min_f1   ┆ max_f1   ┆ macro_f1 ┆ train_times ┆ compile_times ┆ times    │\n",
      "│ ---      ┆ ---      ┆ ---      ┆ ---      ┆ ---         ┆ ---           ┆ ---      │\n",
      "│ f64      ┆ f64      ┆ f64      ┆ f64      ┆ f64         ┆ f64           ┆ f64      │\n",
      "╞══════════╪══════════╪══════════╪══════════╪═════════════╪═══════════════╪══════════╡\n",
      "│ 0.93457  ┆ 0.909091 ┆ 0.951193 ┆ 0.934396 ┆ 2.183828    ┆ 0.112041      ┆ 2.295869 │\n",
      "│ 0.919379 ┆ 0.892662 ┆ 0.952279 ┆ 0.919278 ┆ 2.176775    ┆ 0.001004      ┆ 2.177779 │\n",
      "│ 0.917643 ┆ 0.888764 ┆ 0.936654 ┆ 0.917453 ┆ 2.177672    ┆ 0.000961      ┆ 2.178633 │\n",
      "└──────────┴──────────┴──────────┴──────────┴─────────────┴───────────────┴──────────┘\n"
     ]
    }
   ],
   "execution_count": 17
  },
  {
   "metadata": {
    "ExecuteTime": {
     "end_time": "2025-04-28T14:40:25.240107Z",
     "start_time": "2025-04-28T14:40:25.236500Z"
    }
   },
   "cell_type": "code",
   "source": "",
   "id": "5e1a955f122237ca",
   "outputs": [],
   "execution_count": null
  },
  {
   "metadata": {
    "ExecuteTime": {
     "end_time": "2025-04-28T15:30:02.097224Z",
     "start_time": "2025-04-28T15:30:02.088685Z"
    }
   },
   "cell_type": "code",
   "source": [
    "from pytorch_semifield_conv import cuda_select\n",
    "from pytorch_semifield_conv.utils import ConvMeta\n",
    "\n",
    "cuda_select.SelectSemifield._compile.__wrapped__.cache_info()"
   ],
   "id": "b4e60a1635952b86",
   "outputs": [
    {
     "data": {
      "text/plain": [
       "CacheInfo(hits=8, misses=2, maxsize=128, currsize=2)"
      ]
     },
     "execution_count": 7,
     "metadata": {},
     "output_type": "execute_result"
    }
   ],
   "execution_count": 7
  },
  {
   "metadata": {
    "ExecuteTime": {
     "end_time": "2025-04-28T15:17:20.043742Z",
     "start_time": "2025-04-28T15:17:20.025181Z"
    }
   },
   "cell_type": "code",
   "source": [
    "ex_k = torch.zeros((3, 1, 3, 3)).cuda()\n",
    "ex_k[:, :, :, 0] = -float(\"inf\")\n",
    "ex_k[:, :, :, 2] = -0.2\n",
    "ex_img = test_inp.repeat((1, 3, 1, 1)).cuda()\n",
    "ex_meta = ConvMeta.infer(tuple(ex_img.shape), tuple(ex_k.shape), stride=2, padding=1, groups=3)\n",
    "d = cuda_select.SelectSemifield.tropical_max()._compile(ex_meta)\n",
    "print(id(d))\n",
    "d"
   ],
   "id": "71a1613c58d8cd89",
   "outputs": [
    {
     "name": "stdout",
     "output_type": "stream",
     "text": [
      "124105429861536\n"
     ]
    },
    {
     "data": {
      "text/plain": [
       "<CustomOpDef(ptex_jit::op_forwards_select__tropical_max_meta_3_28_28_1_3_1_3_3_3_14_14_2_1_1_3_0_1_3fdb10e53e154afcaf96ca710ad92d0d)>"
      ]
     },
     "execution_count": 13,
     "metadata": {},
     "output_type": "execute_result"
    }
   ],
   "execution_count": 13
  },
  {
   "metadata": {
    "ExecuteTime": {
     "end_time": "2025-04-28T15:17:22.205181Z",
     "start_time": "2025-04-28T15:17:22.174289Z"
    }
   },
   "cell_type": "code",
   "source": "torch.library.opcheck(d, (ex_img, ex_k))",
   "id": "88aebc78625e5d9c",
   "outputs": [
    {
     "data": {
      "text/plain": [
       "{'test_schema': 'SUCCESS',\n",
       " 'test_autograd_registration': 'SUCCESS',\n",
       " 'test_faketensor': 'SUCCESS',\n",
       " 'test_aot_dispatch_dynamic': 'SUCCESS'}"
      ]
     },
     "execution_count": 14,
     "metadata": {},
     "output_type": "execute_result"
    }
   ],
   "execution_count": 14
  },
  {
   "metadata": {
    "ExecuteTime": {
     "end_time": "2025-04-28T15:17:23.292161Z",
     "start_time": "2025-04-28T15:17:23.198269Z"
    }
   },
   "cell_type": "code",
   "source": [
    "import matplotlib.pyplot as plt\n",
    "\n",
    "res = d(ex_img, ex_k)[0].numpy(force=True)\n",
    "plt.imshow(ex_img[0, 0].numpy(force=True))\n",
    "plt.show()\n",
    "plt.imshow(res[0, 0])"
   ],
   "id": "5c11c28436735cca",
   "outputs": [
    {
     "data": {
      "text/plain": [
       "<Figure size 640x480 with 1 Axes>"
      ],
      "image/png": "[encoded data removed]"
     },
     "metadata": {},
     "output_type": "display_data"
    },
    {
     "data": {
      "text/plain": [
       "<matplotlib.image.AxesImage at 0x70df9cf64a70>"
      ]
     },
     "execution_count": 15,
     "metadata": {},
     "output_type": "execute_result"
    },
    {
     "data": {
      "text/plain": [
       "<Figure size 640x480 with 1 Axes>"
      ],
      "image/png": "[encoded data removed]"
     },
     "metadata": {},
     "output_type": "display_data"
    }
   ],
   "execution_count": 15
  },
  {
   "metadata": {
    "ExecuteTime": {
     "end_time": "2025-04-28T15:17:26.975649Z",
     "start_time": "2025-04-28T15:17:26.884811Z"
    }
   },
   "cell_type": "code",
   "source": [
    "d_comp = torch.compile(d, mode=\"default\")\n",
    "print(ex_img.shape)\n",
    "res = d_comp(ex_img, ex_k)[0].numpy(force=True)\n",
    "plt.imshow(res[0, 0])\n",
    "plt.show()\n",
    "res = d_comp(ex_img, ex_k)[0].numpy(force=True)\n",
    "plt.imshow(res[0, 0])"
   ],
   "id": "87d6f9198e7869f6",
   "outputs": [
    {
     "name": "stdout",
     "output_type": "stream",
     "text": [
      "torch.Size([1024, 3, 28, 28])\n"
     ]
    },
    {
     "data": {
      "text/plain": [
       "<Figure size 640x480 with 1 Axes>"
      ],
      "image/png": "[encoded data removed]"
     },
     "metadata": {},
     "output_type": "display_data"
    },
    {
     "data": {
      "text/plain": [
       "<matplotlib.image.AxesImage at 0x70df9c95a810>"
      ]
     },
     "execution_count": 16,
     "metadata": {},
     "output_type": "execute_result"
    },
    {
     "data": {
      "text/plain": [
       "<Figure size 640x480 with 1 Axes>"
      ],
      "image/png": "[encoded data removed]"
     },
     "metadata": {},
     "output_type": "display_data"
    }
   ],
   "execution_count": 16
  },
  {
   "metadata": {
    "ExecuteTime": {
     "end_time": "2025-04-28T15:19:42.521940Z",
     "start_time": "2025-04-28T15:19:42.465564Z"
    }
   },
   "cell_type": "code",
   "source": [
    "ex_img_g = ex_img.clone().requires_grad_(True).cuda()\n",
    "ex_kern_g = ex_k.clone().requires_grad_(True).cuda()\n",
    "print(ex_img_g.shape)\n",
    "res = d(ex_img_g, ex_kern_g)[0]\n",
    "print(\"A\")\n",
    "res.sum().backward()\n",
    "print(\"B\")\n",
    "plt.imshow(ex_img_g.grad[0, 0].numpy(force=True))\n",
    "print(ex_img_g.grad[0, 0].numpy(force=True).flat[:20])"
   ],
   "id": "5e753159fc7e9444",
   "outputs": [
    {
     "name": "stdout",
     "output_type": "stream",
     "text": [
      "None\n",
      "torch.Size([1024, 3, 28, 28])\n",
      "A\n",
      "B\n",
      "[1.0000000e+01 9.9999999e-09 1.0000000e+01 9.9999999e-09 1.0000000e+01\n",
      " 9.9999999e-09 1.0000000e+01 9.9999999e-09 1.0000000e+01 9.9999999e-09\n",
      " 9.9999999e-09 4.6374507e-06 1.0000010e+01 1.0000010e+01 4.8727447e-06\n",
      " 4.9215689e-08 1.0000000e+01 9.9999999e-09 1.0000000e+01 9.9999999e-09]\n"
     ]
    },
    {
     "data": {
      "text/plain": [
       "<Figure size 640x480 with 1 Axes>"
      ],
      "image/png": "[encoded data removed]"
     },
     "metadata": {},
     "output_type": "display_data"
    }
   ],
   "execution_count": 39
  },
  {
   "metadata": {
    "ExecuteTime": {
     "end_time": "2025-04-28T13:05:33.563153Z",
     "start_time": "2025-04-28T13:05:33.554767Z"
    }
   },
   "cell_type": "code",
   "source": [
    "from typing import NamedTuple\n",
    "\n",
    "\n",
    "class A(NamedTuple):\n",
    "    foo: int\n",
    "    bar: str\n",
    "\n",
    "    def __hash__(self):\n",
    "        return hash(self.bar)\n",
    "\n",
    "    def __eq__(self, other):\n",
    "        return self.bar == other.bar\n",
    "\n",
    "\n",
    "d = {}\n",
    "d[A(1, \"ree\")] = 3\n",
    "print(d)\n",
    "d[A(2, \"ree\")] = 5\n",
    "print(d)\n",
    "d[A(2, \"roo\")] = 5\n",
    "print(d)"
   ],
   "id": "c2ce33bfad332eb9",
   "outputs": [
    {
     "name": "stdout",
     "output_type": "stream",
     "text": [
      "{A(foo=1, bar='ree'): 3}\n",
      "{A(foo=1, bar='ree'): 5}\n",
      "{A(foo=1, bar='ree'): 5, A(foo=2, bar='roo'): 5}\n"
     ]
    }
   ],
   "execution_count": 30
  },
  {
   "metadata": {
    "ExecuteTime": {
     "end_time": "2025-04-28T12:19:46.821720Z",
     "start_time": "2025-04-28T12:19:46.091284Z"
    }
   },
   "cell_type": "code",
   "source": [
    "torch.manual_seed(0)\n",
    "torch._dynamo.reset()\n",
    "m = simple_lenet.LeNet(img_channels=1, num_classes=10, pool_fn=\"aniso-3\").to('cuda')\n",
    "print(m(test_inp).numpy(force=True).flat[:20])\n",
    "m.compile(mode='default', disable=False)\n",
    "print(m(test_inp).numpy(force=True).flat[:20])\n",
    "print(m(test_inp).numpy(force=True).flat[:20])\n",
    "print(m(test_inp).numpy(force=True).flat[:20])"
   ],
   "id": "3c70d5e280337ad",
   "outputs": [
    {
     "name": "stdout",
     "output_type": "stream",
     "text": [
      "[ 0.00412754  0.00508913  0.0272331  -0.05368788 -0.00182536 -0.01768386\n",
      " -0.00480335 -0.03042536 -0.06981151  0.02945597  0.01315594  0.04164931\n",
      "  0.05988334 -0.05391221  0.00048202 -0.05293098  0.00986339 -0.04104674\n",
      " -0.04843831 -0.00269065]\n",
      "[ 0.00412754  0.00508913  0.0272331  -0.05368788 -0.00182536 -0.01768386\n",
      " -0.00480335 -0.03042536 -0.06981151  0.02945597  0.01315594  0.04164931\n",
      "  0.05988334 -0.05391221  0.00048202 -0.05293098  0.00986339 -0.04104674\n",
      " -0.04843831 -0.00269065]\n",
      "[ 0.00412754  0.00508913  0.0272331  -0.05368788 -0.00182536 -0.01768386\n",
      " -0.00480335 -0.03042536 -0.06981151  0.02945597  0.01315594  0.04164931\n",
      "  0.05988334 -0.05391221  0.00048202 -0.05293098  0.00986339 -0.04104674\n",
      " -0.04843831 -0.00269065]\n",
      "[ 0.00412754  0.00508913  0.0272331  -0.05368788 -0.00182536 -0.01768386\n",
      " -0.00480335 -0.03042536 -0.06981151  0.02945597  0.01315594  0.04164931\n",
      "  0.05988334 -0.05391221  0.00048202 -0.05293098  0.00986339 -0.04104674\n",
      " -0.04843831 -0.00269065]\n"
     ]
    }
   ],
   "execution_count": 20
  },
  {
   "metadata": {
    "ExecuteTime": {
     "end_time": "2025-04-28T15:35:45.760715Z",
     "start_time": "2025-04-28T15:35:36.018Z"
    }
   },
   "cell_type": "code",
   "source": [
    "test_compile_mode = \"max-autotune\"\n",
    "test_k_i = torch.compile(kernels.QuadraticKernelIso2D(1, 50, 3).cuda(), mode=test_compile_mode, disable=True)\n",
    "test_k_c = torch.compile(kernels.QuadraticKernelCholesky2D(1, 50, 3).cuda(), mode=test_compile_mode)\n",
    "test_k_s = torch.compile(kernels.QuadraticKernelSpectral2D(1, 50, 3).cuda(), mode=test_compile_mode)\n",
    "\n",
    "\n",
    "def run_one(f):\n",
    "    torch.compiler.cudagraph_mark_step_begin()\n",
    "    f()\n",
    "    torch.cuda.synchronize()\n",
    "\n",
    "\n",
    "run_one(test_k_i)\n",
    "run_one(test_k_c)\n",
    "run_one(test_k_s)\n",
    "\n",
    "\n",
    "\n",
    "\n",
    "%timeit run_one(test_k_i)\n",
    "%timeit run_one(test_k_c)\n",
    "%timeit run_one(test_k_s)"
   ],
   "id": "cfb7af1b8a81e99c",
   "outputs": [
    {
     "name": "stdout",
     "output_type": "stream",
     "text": [
      "27.7 μs ± 58.8 ns per loop (mean ± std. dev. of 7 runs, 10,000 loops each)\n",
      "42.3 μs ± 68 ns per loop (mean ± std. dev. of 7 runs, 10,000 loops each)\n",
      "42.7 μs ± 57.3 ns per loop (mean ± std. dev. of 7 runs, 10,000 loops each)\n"
     ]
    }
   ],
   "execution_count": 9
  },
  {
   "metadata": {
    "ExecuteTime": {
     "end_time": "2025-04-28T11:58:31.935340Z",
     "start_time": "2025-04-28T11:58:31.922632Z"
    }
   },
   "cell_type": "code",
   "source": [
    "torch.manual_seed(0)\n",
    "kernels.QuadraticKernelCholesky2D(1, 50, 3).cuda()().numpy(force=True).flat[:10]"
   ],
   "id": "7422cc5c0da839a8",
   "outputs": [
    {
     "data": {
      "text/plain": [
       "array([-0.12564707, -0.2249025 , -0.6018327 , -0.1388374 , -0.        ,\n",
       "       -0.1388374 , -0.6018327 , -0.2249025 , -0.12564707, -0.10085675],\n",
       "      dtype=float32)"
      ]
     },
     "execution_count": 8,
     "metadata": {},
     "output_type": "execute_result"
    }
   ],
   "execution_count": 8
  },
  {
   "metadata": {
    "ExecuteTime": {
     "end_time": "2025-04-28T12:19:30.370554Z",
     "start_time": "2025-04-28T12:19:30.010196Z"
    }
   },
   "cell_type": "code",
   "source": [
    "torch.manual_seed(0)\n",
    "test_k = torch.compile(kernels.QuadraticKernelCholesky2D(1, 50, 3).cuda(), mode=\"max-autotune\")\n",
    "print(test_k().numpy(force=True).flat[:10])\n",
    "print(test_k().numpy(force=True).flat[:10])\n",
    "print(test_k().numpy(force=True).flat[:10])"
   ],
   "id": "3f72b28b206572c",
   "outputs": [
    {
     "name": "stdout",
     "output_type": "stream",
     "text": [
      "[-0.12564707 -0.2249025  -0.6018327  -0.1388374  -0.         -0.1388374\n",
      " -0.6018327  -0.2249025  -0.12564707 -0.10085675]\n",
      "[-0.12564707 -0.2249025  -0.6018327  -0.1388374  -0.         -0.1388374\n",
      " -0.6018327  -0.2249025  -0.12564707 -0.10085675]\n",
      "[-0.12564707 -0.2249025  -0.6018327  -0.1388374  -0.         -0.1388374\n",
      " -0.6018327  -0.2249025  -0.12564707 -0.10085675]\n"
     ]
    }
   ],
   "execution_count": 19
  },
  {
   "metadata": {
    "ExecuteTime": {
     "end_time": "2025-04-12T12:26:46.091396Z",
     "start_time": "2025-04-12T12:26:40.719071Z"
    }
   },
   "cell_type": "code",
   "source": [
    "# %timeit test_model(test_run_pinned.cuda())\n",
    "%timeit test_model(test_run_cuda)"
   ],
   "id": "b26116e93a635baa",
   "outputs": [
    {
     "name": "stdout",
     "output_type": "stream",
     "text": [
      "663 μs ± 43.7 ns per loop (mean ± std. dev. of 7 runs, 1,000 loops each)\n"
     ]
    }
   ],
   "execution_count": 47
  },
  {
   "metadata": {},
   "cell_type": "markdown",
   "source": [
    "941 μs ± 132 ns per loop (mean ± std. dev. of 7 runs, 1,000 loops each)\n",
    "\n",
    "671 μs ± 76.2 ns per loop (mean ± std. dev. of 7 runs, 1,000 loops each)"
   ],
   "id": "961122c04e347a86"
  },
  {
   "metadata": {
    "ExecuteTime": {
     "end_time": "2025-04-12T07:33:00.005252Z",
     "start_time": "2025-04-12T07:32:42.267685Z"
    }
   },
   "cell_type": "code",
   "source": [
    "%timeit kmodel(k_mnist.x_train[:256])\n",
    "%timeit kmodel(test_run_pinned)"
   ],
   "id": "a6e05dacf47cf4d4",
   "outputs": [
    {
     "name": "stdout",
     "output_type": "stream",
     "text": [
      "1.14 ms ± 550 ns per loop (mean ± std. dev. of 7 runs, 1,000 loops each)\n",
      "1.04 ms ± 179 ns per loop (mean ± std. dev. of 7 runs, 1,000 loops each)\n"
     ]
    }
   ],
   "execution_count": 14
  },
  {
   "metadata": {
    "ExecuteTime": {
     "end_time": "2025-04-12T07:36:07.016678Z",
     "start_time": "2025-04-12T07:36:06.069478Z"
    }
   },
   "cell_type": "code",
   "source": "%time kmodel.fit(k_mnist.x_train, k_mnist.y_train, batch_size=256, verbose=False)",
   "id": "580330ba0ef0841c",
   "outputs": [
    {
     "name": "stdout",
     "output_type": "stream",
     "text": [
      "CPU times: user 1.34 s, sys: 20.7 ms, total: 1.36 s\n",
      "Wall time: 943 ms\n"
     ]
    },
    {
     "data": {
      "text/plain": [
       "<keras.src.callbacks.history.History at 0x766dfc2280e0>"
      ]
     },
     "execution_count": 17,
     "metadata": {},
     "output_type": "execute_result"
    }
   ],
   "execution_count": 17
  },
  {
   "metadata": {
    "ExecuteTime": {
     "end_time": "2025-04-12T12:27:06.657262Z",
     "start_time": "2025-04-12T12:27:06.639224Z"
    }
   },
   "cell_type": "code",
   "source": [
    "xtrp = torch.as_tensor(k_mnist.x_train, device='cuda')\n",
    "ytrp = torch.as_tensor(k_mnist.y_train, device='cuda')"
   ],
   "id": "24d92b5b855d5769",
   "outputs": [],
   "execution_count": 49
  },
  {
   "metadata": {
    "ExecuteTime": {
     "end_time": "2025-04-12T12:32:47.561994Z",
     "start_time": "2025-04-12T12:32:43.367681Z"
    }
   },
   "cell_type": "code",
   "source": "%time hist = kmodel.fit(xtrp, ytrp, verbose=False, batch_size=256, epochs=5)",
   "id": "f77755c95a6d6321",
   "outputs": [
    {
     "name": "stdout",
     "output_type": "stream",
     "text": [
      "CPU times: user 5.54 s, sys: 109 ms, total: 5.65 s\n",
      "Wall time: 4.19 s\n"
     ]
    }
   ],
   "execution_count": 60
  },
  {
   "metadata": {
    "ExecuteTime": {
     "end_time": "2025-04-12T12:32:38.330763Z",
     "start_time": "2025-04-12T12:32:32.413695Z"
    }
   },
   "cell_type": "code",
   "source": [
    "def minitrain(epochs: int = 5):\n",
    "    o = torch.optim.Adam(test_model.parameters())\n",
    "    for _ in range(epochs):\n",
    "        for xb, yb in k_mnist.train_loader(batch_size=256):\n",
    "            o.zero_grad()\n",
    "            res = test_model(xb.cuda())\n",
    "            nn.functional.cross_entropy(res, yb.cuda()).backward()\n",
    "            o.step()\n",
    "\n",
    "%time minitrain()"
   ],
   "id": "3f1b9f2c970877d5",
   "outputs": [
    {
     "name": "stdout",
     "output_type": "stream",
     "text": [
      "CPU times: user 2min 15s, sys: 40.5 ms, total: 2min 15s\n",
      "Wall time: 5.91 s\n"
     ]
    }
   ],
   "execution_count": 59
  },
  {
   "metadata": {
    "ExecuteTime": {
     "end_time": "2025-04-12T08:48:35.199400Z",
     "start_time": "2025-04-12T08:48:35.186304Z"
    }
   },
   "cell_type": "code",
   "source": [
    "\n",
    "import src.kernels\n",
    "\n",
    "importlib.reload(src.kernels.utils)\n",
    "importlib.reload(src.kernels.quadratic)\n",
    "importlib.reload(src.kernels)"
   ],
   "id": "57bcf78af5581305",
   "outputs": [
    {
     "data": {
      "text/plain": [
       "<module 'src.kernels' from '/home/peter/Thesis/src/kernels/__init__.py'>"
      ]
     },
     "execution_count": 107,
     "metadata": {},
     "output_type": "execute_result"
    }
   ],
   "execution_count": 107
  },
  {
   "metadata": {
    "ExecuteTime": {
     "end_time": "2025-04-12T08:53:10.437394Z",
     "start_time": "2025-04-12T08:53:10.424873Z"
    }
   },
   "cell_type": "code",
   "source": [
    "\n",
    "from src.kernels.learned_pos_def import LearnedSpectral2D, LearnedCholesky2D\n",
    "from src.kernels import QuadraticKernelCholesky2D, QuadraticKernelSpectral2D\n",
    "\n",
    "k1 = LearnedCholesky2D(50, 60, init=\"normal\")\n",
    "k2 = LearnedSpectral2D(50, 60, init=\"normal\")\n",
    "print(k1, k2)\n",
    "q1_3 = QuadraticKernelCholesky2D(50, 60, 3, init=\"normal\")\n",
    "q1_5 = QuadraticKernelCholesky2D(50, 60, 5, init=\"normal\")\n",
    "q1_10 = QuadraticKernelCholesky2D(50, 60, 10, init=\"normal\")\n",
    "q2_3 = QuadraticKernelSpectral2D(50, 60, 3, init=\"normal\")\n",
    "q2_5 = QuadraticKernelSpectral2D(50, 60, 5, init=\"normal\")\n",
    "q2_10 = QuadraticKernelSpectral2D(50, 60, 10, init=\"normal\")\n",
    "print(q1_3, q2_3, q1_5, q2_5)"
   ],
   "id": "9b2dd8c6982332e5",
   "outputs": [
    {
     "name": "stdout",
     "output_type": "stream",
     "text": [
      "LearnedCholesky2D(50, 60) LearnedSpectral2D(50, 60)\n",
      "QuadraticKernelCholesky2D(\n",
      "  50, 60, kernel_size=3\n",
      "  (covs): LearnedCholesky2D(50, 60)\n",
      ") QuadraticKernelSpectral2D(\n",
      "  50, 60, kernel_size=3\n",
      "  (covs): LearnedSpectral2D(50, 60)\n",
      ") QuadraticKernelCholesky2D(\n",
      "  50, 60, kernel_size=5\n",
      "  (covs): LearnedCholesky2D(50, 60)\n",
      ") QuadraticKernelSpectral2D(\n",
      "  50, 60, kernel_size=5\n",
      "  (covs): LearnedSpectral2D(50, 60)\n",
      ")\n"
     ]
    }
   ],
   "execution_count": 120
  },
  {
   "metadata": {
    "ExecuteTime": {
     "end_time": "2025-04-12T08:48:36.188284Z",
     "start_time": "2025-04-12T08:48:36.179762Z"
    }
   },
   "cell_type": "code",
   "source": [
    "print(k1.cholesky().shape)\n",
    "print(k2.inverse_cov().shape)"
   ],
   "id": "f7f1143decafaec7",
   "outputs": [
    {
     "name": "stdout",
     "output_type": "stream",
     "text": [
      "torch.Size([60, 50, 2, 2])\n",
      "torch.Size([60, 50, 2, 2])\n"
     ]
    }
   ],
   "execution_count": 109
  },
  {
   "metadata": {
    "ExecuteTime": {
     "end_time": "2025-04-12T08:48:40.163485Z",
     "start_time": "2025-04-12T08:48:40.154767Z"
    }
   },
   "cell_type": "code",
   "source": [
    "print(q1_3().shape)\n",
    "print(q2_3().shape)\n",
    "print(q1_5().shape)\n",
    "print(q2_5().shape)"
   ],
   "id": "2f1c46309a740eba",
   "outputs": [
    {
     "name": "stdout",
     "output_type": "stream",
     "text": [
      "torch.Size([60, 50, 3, 3])\n",
      "torch.Size([60, 50, 3, 3])\n",
      "torch.Size([60, 50, 5, 5])\n",
      "torch.Size([60, 50, 5, 5])\n"
     ]
    }
   ],
   "execution_count": 110
  },
  {
   "metadata": {
    "ExecuteTime": {
     "end_time": "2025-04-12T08:53:28.897776Z",
     "start_time": "2025-04-12T08:53:25.817865Z"
    }
   },
   "cell_type": "code",
   "source": [
    "q1_3.compile(fullgraph=True)\n",
    "q2_3.compile(fullgraph=True)\n",
    "q1_5.compile(fullgraph=True)\n",
    "q2_5.compile(fullgraph=True)\n",
    "q1_10.compile(fullgraph=True)\n",
    "q2_10.compile(fullgraph=True)\n",
    "print(q1_3().shape)\n",
    "print(q2_3().shape)\n",
    "print(q1_5().shape)\n",
    "print(q2_5().shape)\n",
    "print(q1_10().shape)\n",
    "print(q2_10().shape)"
   ],
   "id": "3de90c081f33bf34",
   "outputs": [
    {
     "name": "stdout",
     "output_type": "stream",
     "text": [
      "torch.Size([60, 50, 3, 3])\n",
      "torch.Size([60, 50, 3, 3])\n",
      "torch.Size([60, 50, 5, 5])\n",
      "torch.Size([60, 50, 5, 5])\n",
      "torch.Size([60, 50, 10, 10])\n",
      "torch.Size([60, 50, 10, 10])\n"
     ]
    },
    {
     "name": "stderr",
     "output_type": "stream",
     "text": [
      "/home/peter/Thesis/.venv/lib/python3.12/site-packages/torch/_inductor/lowering.py:1720: FutureWarning: `torch._prims_common.check` is deprecated and will be removed in the future. Please use `torch._check*` functions instead.\n",
      "  check(\n"
     ]
    }
   ],
   "execution_count": 121
  },
  {
   "metadata": {
    "ExecuteTime": {
     "end_time": "2025-04-12T08:53:38.456465Z",
     "start_time": "2025-04-12T08:53:38.445601Z"
    }
   },
   "cell_type": "code",
   "source": [
    "print(q1_3().shape)\n",
    "print(q2_3().shape)\n",
    "print(q1_5().shape)\n",
    "print(q2_5().shape)\n",
    "print(q1_10().shape)\n",
    "print(q2_10().shape)"
   ],
   "id": "66dd210101851dad",
   "outputs": [
    {
     "name": "stdout",
     "output_type": "stream",
     "text": [
      "torch.Size([60, 50, 3, 3])\n",
      "torch.Size([60, 50, 3, 3])\n",
      "torch.Size([60, 50, 5, 5])\n",
      "torch.Size([60, 50, 5, 5])\n",
      "torch.Size([60, 50, 10, 10])\n",
      "torch.Size([60, 50, 10, 10])\n"
     ]
    }
   ],
   "execution_count": 122
  },
  {
   "metadata": {
    "ExecuteTime": {
     "end_time": "2025-04-12T08:54:46.760927Z",
     "start_time": "2025-04-12T08:53:49.247389Z"
    }
   },
   "cell_type": "code",
   "source": [
    "q1_3.cpu(), q2_3.cpu(), q1_5.cpu(), q2_5.cpu(), q1_10.cpu(), q2_10.cpu()\n",
    "%timeit q1_3()\n",
    "%timeit q2_3()\n",
    "%timeit q1_5()\n",
    "%timeit q2_5()\n",
    "%timeit q1_10()\n",
    "%timeit q2_10()"
   ],
   "id": "2286c20b762d5080",
   "outputs": [
    {
     "name": "stdout",
     "output_type": "stream",
     "text": [
      "826 μs ± 2.56 μs per loop (mean ± std. dev. of 7 runs, 1,000 loops each)\n",
      "117 μs ± 280 ns per loop (mean ± std. dev. of 7 runs, 10,000 loops each)\n",
      "607 μs ± 350 ns per loop (mean ± std. dev. of 7 runs, 1,000 loops each)\n",
      "175 μs ± 256 ns per loop (mean ± std. dev. of 7 runs, 10,000 loops each)\n",
      "1.05 ms ± 315 ns per loop (mean ± std. dev. of 7 runs, 1,000 loops each)\n",
      "168 μs ± 240 ns per loop (mean ± std. dev. of 7 runs, 10,000 loops each)\n"
     ]
    }
   ],
   "execution_count": 123
  },
  {
   "metadata": {
    "ExecuteTime": {
     "end_time": "2025-04-12T08:56:15.949017Z",
     "start_time": "2025-04-12T08:55:40.620678Z"
    }
   },
   "cell_type": "code",
   "source": [
    "q1_3.cuda(), q2_3.cuda(), q1_5.cuda(), q2_5.cuda(), q1_10.cuda(), q2_10.cuda()\n",
    "%timeit q1_3()\n",
    "%timeit q2_3()\n",
    "%timeit q1_5()\n",
    "%timeit q2_5()\n",
    "%timeit q1_10()\n",
    "%timeit q2_10()"
   ],
   "id": "a49448d877fc23a0",
   "outputs": [
    {
     "name": "stdout",
     "output_type": "stream",
     "text": [
      "70.1 μs ± 64.3 ns per loop (mean ± std. dev. of 7 runs, 10,000 loops each)\n",
      "74.8 μs ± 168 ns per loop (mean ± std. dev. of 7 runs, 10,000 loops each)\n",
      "70.3 μs ± 71.1 ns per loop (mean ± std. dev. of 7 runs, 10,000 loops each)\n",
      "74.9 μs ± 143 ns per loop (mean ± std. dev. of 7 runs, 10,000 loops each)\n",
      "69.6 μs ± 75.9 ns per loop (mean ± std. dev. of 7 runs, 10,000 loops each)\n",
      "75.5 μs ± 71.4 ns per loop (mean ± std. dev. of 7 runs, 10,000 loops each)\n"
     ]
    }
   ],
   "execution_count": 126
  },
  {
   "metadata": {
    "ExecuteTime": {
     "end_time": "2025-04-12T08:58:54.910152Z",
     "start_time": "2025-04-12T08:58:54.896041Z"
    }
   },
   "cell_type": "code",
   "source": "q2_5.state_dict()",
   "id": "ae3ec99b3efeee1b",
   "outputs": [
    {
     "data": {
      "text/plain": [
       "OrderedDict([('pos_grid',\n",
       "              tensor([[-2., -2.],\n",
       "                      [-2., -1.],\n",
       "                      [-2.,  0.],\n",
       "                      [-2.,  1.],\n",
       "                      [-2.,  2.],\n",
       "                      [-1., -2.],\n",
       "                      [-1., -1.],\n",
       "                      [-1.,  0.],\n",
       "                      [-1.,  1.],\n",
       "                      [-1.,  2.],\n",
       "                      [ 0., -2.],\n",
       "                      [ 0., -1.],\n",
       "                      [ 0.,  0.],\n",
       "                      [ 0.,  1.],\n",
       "                      [ 0.,  2.],\n",
       "                      [ 1., -2.],\n",
       "                      [ 1., -1.],\n",
       "                      [ 1.,  0.],\n",
       "                      [ 1.,  1.],\n",
       "                      [ 1.,  2.],\n",
       "                      [ 2., -2.],\n",
       "                      [ 2., -1.],\n",
       "                      [ 2.,  0.],\n",
       "                      [ 2.,  1.],\n",
       "                      [ 2.,  2.]], device='cuda:0')),\n",
       "             ('covs.log_stds',\n",
       "              tensor([[[ 0.5216,  1.1183],\n",
       "                       [ 0.8297, -1.2277],\n",
       "                       [-0.8401, -1.1930],\n",
       "                       ...,\n",
       "                       [ 1.6605, -0.0042],\n",
       "                       [-0.4397,  1.0019],\n",
       "                       [-0.9251, -0.9954]],\n",
       "              \n",
       "                      [[ 0.0712,  0.1388],\n",
       "                       [-0.5180,  0.0417],\n",
       "                       [ 0.3516, -1.0317],\n",
       "                       ...,\n",
       "                       [ 0.4622, -0.3875],\n",
       "                       [ 0.0429,  2.0579],\n",
       "                       [ 0.8985, -0.5256]],\n",
       "              \n",
       "                      [[ 0.0625, -0.3464],\n",
       "                       [ 0.9243, -0.0243],\n",
       "                       [-0.7341, -0.9724],\n",
       "                       ...,\n",
       "                       [ 1.8424,  0.6913],\n",
       "                       [ 1.0648,  0.2092],\n",
       "                       [-0.8306, -1.8615]],\n",
       "              \n",
       "                      ...,\n",
       "              \n",
       "                      [[-0.0927,  0.0779],\n",
       "                       [-0.3690, -0.1785],\n",
       "                       [ 1.4325,  1.2428],\n",
       "                       ...,\n",
       "                       [ 0.0897,  0.9514],\n",
       "                       [ 0.4506,  0.0454],\n",
       "                       [-2.1388, -0.9690]],\n",
       "              \n",
       "                      [[-0.3423, -0.3778],\n",
       "                       [ 0.5136, -0.4429],\n",
       "                       [ 0.3636,  0.9208],\n",
       "                       ...,\n",
       "                       [ 1.9049, -0.1732],\n",
       "                       [ 0.4699,  0.3939],\n",
       "                       [-0.1878, -0.2245]],\n",
       "              \n",
       "                      [[-0.2112, -1.5553],\n",
       "                       [ 1.6772,  1.7891],\n",
       "                       [-0.6449,  0.2328],\n",
       "                       ...,\n",
       "                       [-0.0393,  1.5212],\n",
       "                       [-0.8097,  0.3942],\n",
       "                       [-1.5958,  1.6849]]], device='cuda:0')),\n",
       "             ('covs.thetas',\n",
       "              tensor([[ 0.3543,  0.8034, -1.6726,  ...,  0.6333, -0.0189,  1.3802],\n",
       "                      [ 0.3435,  0.1109, -0.8465,  ...,  1.2607,  0.4762, -0.0388],\n",
       "                      [-0.0515,  1.2733,  0.0569,  ...,  0.2756,  0.3114, -1.1415],\n",
       "                      ...,\n",
       "                      [-0.6288, -0.0775, -0.1073,  ...,  0.2486,  0.3032,  0.2135],\n",
       "                      [ 0.7459, -0.7193, -0.4476,  ..., -0.2315, -2.2807, -0.9287],\n",
       "                      [-0.0894, -0.6017, -1.4687,  ...,  0.9216, -0.8128, -0.5022]],\n",
       "                     device='cuda:0'))])"
      ]
     },
     "execution_count": 128,
     "metadata": {},
     "output_type": "execute_result"
    }
   ],
   "execution_count": 128
  }
 ],
 "metadata": {
  "kernelspec": {
   "display_name": "Python 3",
   "language": "python",
   "name": "python3"
  },
  "language_info": {
   "codemirror_mode": {
    "name": "ipython",
    "version": 2
   },
   "file_extension": ".py",
   "mimetype": "text/x-python",
   "name": "python",
   "nbconvert_exporter": "python",
   "pygments_lexer": "ipython2",
   "version": "2.7.6"
  }
 },
 "nbformat": 4,
 "nbformat_minor": 5
}
