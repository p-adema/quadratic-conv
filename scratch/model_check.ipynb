{
 "cells": [
  {
   "cell_type": "code",
   "id": "a71389d1cd8a0147",
   "metadata": {
    "ExecuteTime": {
     "end_time": "2025-04-12T12:06:54.840182Z",
     "start_time": "2025-04-12T12:06:54.832325Z"
    }
   },
   "source": [
    "from collections.abc import Iterable\n",
    "from itertools import pairwise, chain\n",
    "from typing import Callable\n",
    "\n",
    "import matplotlib.pyplot as plt\n",
    "import torch\n",
    "import torchvision\n",
    "import tqdm.auto as tqdm\n",
    "from torch import nn\n",
    "\n",
    "%env KERAS_BACKEND=torch\n",
    "\n",
    "import keras\n",
    "from keras import layers\n",
    "import keras_tuner\n",
    "\n",
    "torch.set_float32_matmul_precision('high')"
   ],
   "outputs": [
    {
     "name": "stdout",
     "output_type": "stream",
     "text": [
      "env: KERAS_BACKEND=torch\n"
     ]
    }
   ],
   "execution_count": 2
  },
  {
   "cell_type": "code",
   "id": "ab78e1a11af147ca",
   "metadata": {
    "ExecuteTime": {
     "end_time": "2025-04-12T12:06:56.607863Z",
     "start_time": "2025-04-12T12:06:56.601187Z"
    }
   },
   "source": [
    "from pathlib import Path\n",
    "import os\n",
    "\n",
    "if not Path(\"./src/kernels\").is_dir():\n",
    "    for parent_path in Path.cwd().parents:\n",
    "        if (parent_path / \"src/kernels\").is_dir():\n",
    "            os.chdir(parent_path)\n",
    "            break\n",
    "    else:\n",
    "        raise FileNotFoundError(\"Can't find project root\")\n",
    "\n",
    "assert Path(\"./src/kernels\").is_dir()"
   ],
   "outputs": [],
   "execution_count": 3
  },
  {
   "cell_type": "code",
   "id": "7b3e5647e40e3955",
   "metadata": {
    "ExecuteTime": {
     "end_time": "2025-04-12T12:06:57.731264Z",
     "start_time": "2025-04-12T12:06:57.617963Z"
    }
   },
   "source": [
    "from src import kernels, convolutions\n",
    "from src.models import simple_lenet\n",
    "from src import load_data"
   ],
   "outputs": [],
   "execution_count": 4
  },
  {
   "cell_type": "code",
   "id": "initial_id",
   "metadata": {
    "collapsed": true,
    "ExecuteTime": {
     "end_time": "2025-04-12T12:26:27.869394Z",
     "start_time": "2025-04-12T12:26:27.856623Z"
    }
   },
   "source": [
    "import importlib\n",
    "\n",
    "# from src.kernels import quadratic as quad_kernels\n",
    "import src.models.simple_lenet\n",
    "import src.load_data\n",
    "\n",
    "importlib.reload(src.models.simple_lenet)\n",
    "importlib.reload(src.load_data)\n",
    "from src.models import simple_lenet\n",
    "from src import load_data\n",
    "# kernels = importlib.reload(kernels)\n",
    "# convolutions = importlib.reload(convolutions)"
   ],
   "outputs": [],
   "execution_count": 40
  },
  {
   "metadata": {
    "ExecuteTime": {
     "end_time": "2025-04-12T12:23:35.374689Z",
     "start_time": "2025-04-12T12:23:35.287971Z"
    }
   },
   "cell_type": "code",
   "source": [
    "k_mnist = load_data.k_mnist()\n",
    "k_mnist"
   ],
   "id": "80b39890b122bbaf",
   "outputs": [
    {
     "name": "stdout",
     "output_type": "stream",
     "text": [
      "normalisation: tensor([[[48.8993]]]) tensor([[[88.8274]]])\n"
     ]
    },
    {
     "data": {
      "text/plain": [
       "Dataset(x_train=(60000, 1, 28, 28), x_test=(10000, 1, 28, 28), y_train=(60000,), y_test=(10000,))"
      ]
     },
     "execution_count": 24,
     "metadata": {},
     "output_type": "execute_result"
    }
   ],
   "execution_count": 24
  },
  {
   "metadata": {
    "ExecuteTime": {
     "end_time": "2025-04-12T12:26:29.297256Z",
     "start_time": "2025-04-12T12:26:29.279748Z"
    }
   },
   "cell_type": "code",
   "source": [
    "test_model = simple_lenet.LeNet(img_channels=1, num_classes=10,\n",
    "                                pool_fn=simple_lenet.LENET_POOLING_FUNCTIONS[\"aniso\"]).to('cuda')\n",
    "test_model"
   ],
   "id": "34673468666dd6a2",
   "outputs": [
    {
     "data": {
      "text/plain": [
       "LeNet(\n",
       "  (net): Sequential(\n",
       "    (0): Conv2d(1, 20, kernel_size=(5, 5), stride=(1, 1))\n",
       "    (1): ReLU()\n",
       "    (2): GenericConv2D(\n",
       "      (kernel): QuadraticKernelCholesky2D(\n",
       "        20, 20, kernel_size=3\n",
       "        (covs): LearnedCholesky2D(20, 20)\n",
       "      )\n",
       "      (conv): SelectConvFixedLazy()\n",
       "    )\n",
       "    (3): Conv2d(20, 50, kernel_size=(5, 5), stride=(1, 1))\n",
       "    (4): ReLU()\n",
       "    (5): GenericConv2D(\n",
       "      (kernel): QuadraticKernelCholesky2D(\n",
       "        50, 50, kernel_size=3\n",
       "        (covs): LearnedCholesky2D(50, 50)\n",
       "      )\n",
       "      (conv): SelectConvFixedLazy()\n",
       "    )\n",
       "    (6): Flatten(start_dim=1, end_dim=-1)\n",
       "    (7): LazyLinear(in_features=0, out_features=500, bias=True)\n",
       "    (8): ReLU()\n",
       "    (9): Linear(in_features=500, out_features=10, bias=True)\n",
       "  )\n",
       ")"
      ]
     },
     "execution_count": 41,
     "metadata": {},
     "output_type": "execute_result"
    }
   ],
   "execution_count": 41
  },
  {
   "metadata": {
    "ExecuteTime": {
     "end_time": "2025-04-12T12:26:29.760871Z",
     "start_time": "2025-04-12T12:26:29.753855Z"
    }
   },
   "cell_type": "code",
   "source": "type(k_mnist.x_train[:256])",
   "id": "5a64c3bc55634117",
   "outputs": [
    {
     "data": {
      "text/plain": [
       "numpy.ndarray"
      ]
     },
     "execution_count": 42,
     "metadata": {},
     "output_type": "execute_result"
    }
   ],
   "execution_count": 42
  },
  {
   "metadata": {
    "ExecuteTime": {
     "end_time": "2025-04-12T12:26:31.530095Z",
     "start_time": "2025-04-12T12:26:30.221027Z"
    }
   },
   "cell_type": "code",
   "source": [
    "kmodel = test_model.to_keras(k_mnist)\n",
    "kmodel"
   ],
   "id": "2437629dd8354494",
   "outputs": [
    {
     "data": {
      "text/plain": [
       "<Sequential name=sequential_4, built=True>"
      ]
     },
     "execution_count": 43,
     "metadata": {},
     "output_type": "execute_result"
    }
   ],
   "execution_count": 43
  },
  {
   "metadata": {
    "ExecuteTime": {
     "end_time": "2025-04-12T12:26:33.155558Z",
     "start_time": "2025-04-12T12:26:33.135426Z"
    }
   },
   "cell_type": "code",
   "source": "kmodel.summary()",
   "id": "7d3a62cdf1c0b32a",
   "outputs": [
    {
     "data": {
      "text/plain": [
       "\u001B[1mModel: \"sequential_4\"\u001B[0m\n"
      ],
      "text/html": [
       "<pre style=\"white-space:pre;overflow-x:auto;line-height:normal;font-family:Menlo,'DejaVu Sans Mono',consolas,'Courier New',monospace\"><span style=\"font-weight: bold\">Model: \"sequential_4\"</span>\n",
       "</pre>\n"
      ]
     },
     "metadata": {},
     "output_type": "display_data"
    },
    {
     "data": {
      "text/plain": [
       "┏━━━━━━━━━━━━━━━━━━━━━━━━━━━━━━━━━┳━━━━━━━━━━━━━━━━━━━━━━━━┳━━━━━━━━━━━━━━━┓\n",
       "┃\u001B[1m \u001B[0m\u001B[1mLayer (type)                   \u001B[0m\u001B[1m \u001B[0m┃\u001B[1m \u001B[0m\u001B[1mOutput Shape          \u001B[0m\u001B[1m \u001B[0m┃\u001B[1m \u001B[0m\u001B[1m      Param #\u001B[0m\u001B[1m \u001B[0m┃\n",
       "┡━━━━━━━━━━━━━━━━━━━━━━━━━━━━━━━━━╇━━━━━━━━━━━━━━━━━━━━━━━━╇━━━━━━━━━━━━━━━┩\n",
       "│ LeNet (\u001B[38;5;33mTorchModuleWrapper\u001B[0m)      │ (\u001B[38;5;34m256\u001B[0m, \u001B[38;5;34m10\u001B[0m)              │       \u001B[38;5;34m439,780\u001B[0m │\n",
       "└─────────────────────────────────┴────────────────────────┴───────────────┘\n"
      ],
      "text/html": [
       "<pre style=\"white-space:pre;overflow-x:auto;line-height:normal;font-family:Menlo,'DejaVu Sans Mono',consolas,'Courier New',monospace\">┏━━━━━━━━━━━━━━━━━━━━━━━━━━━━━━━━━┳━━━━━━━━━━━━━━━━━━━━━━━━┳━━━━━━━━━━━━━━━┓\n",
       "┃<span style=\"font-weight: bold\"> Layer (type)                    </span>┃<span style=\"font-weight: bold\"> Output Shape           </span>┃<span style=\"font-weight: bold\">       Param # </span>┃\n",
       "┡━━━━━━━━━━━━━━━━━━━━━━━━━━━━━━━━━╇━━━━━━━━━━━━━━━━━━━━━━━━╇━━━━━━━━━━━━━━━┩\n",
       "│ LeNet (<span style=\"color: #0087ff; text-decoration-color: #0087ff\">TorchModuleWrapper</span>)      │ (<span style=\"color: #00af00; text-decoration-color: #00af00\">256</span>, <span style=\"color: #00af00; text-decoration-color: #00af00\">10</span>)              │       <span style=\"color: #00af00; text-decoration-color: #00af00\">439,780</span> │\n",
       "└─────────────────────────────────┴────────────────────────┴───────────────┘\n",
       "</pre>\n"
      ]
     },
     "metadata": {},
     "output_type": "display_data"
    },
    {
     "data": {
      "text/plain": [
       "\u001B[1m Total params: \u001B[0m\u001B[38;5;34m439,780\u001B[0m (1.68 MB)\n"
      ],
      "text/html": [
       "<pre style=\"white-space:pre;overflow-x:auto;line-height:normal;font-family:Menlo,'DejaVu Sans Mono',consolas,'Courier New',monospace\"><span style=\"font-weight: bold\"> Total params: </span><span style=\"color: #00af00; text-decoration-color: #00af00\">439,780</span> (1.68 MB)\n",
       "</pre>\n"
      ]
     },
     "metadata": {},
     "output_type": "display_data"
    },
    {
     "data": {
      "text/plain": [
       "\u001B[1m Trainable params: \u001B[0m\u001B[38;5;34m439,780\u001B[0m (1.68 MB)\n"
      ],
      "text/html": [
       "<pre style=\"white-space:pre;overflow-x:auto;line-height:normal;font-family:Menlo,'DejaVu Sans Mono',consolas,'Courier New',monospace\"><span style=\"font-weight: bold\"> Trainable params: </span><span style=\"color: #00af00; text-decoration-color: #00af00\">439,780</span> (1.68 MB)\n",
       "</pre>\n"
      ]
     },
     "metadata": {},
     "output_type": "display_data"
    },
    {
     "data": {
      "text/plain": [
       "\u001B[1m Non-trainable params: \u001B[0m\u001B[38;5;34m0\u001B[0m (0.00 B)\n"
      ],
      "text/html": [
       "<pre style=\"white-space:pre;overflow-x:auto;line-height:normal;font-family:Menlo,'DejaVu Sans Mono',consolas,'Courier New',monospace\"><span style=\"font-weight: bold\"> Non-trainable params: </span><span style=\"color: #00af00; text-decoration-color: #00af00\">0</span> (0.00 B)\n",
       "</pre>\n"
      ]
     },
     "metadata": {},
     "output_type": "display_data"
    }
   ],
   "execution_count": 44
  },
  {
   "metadata": {
    "ExecuteTime": {
     "end_time": "2025-04-12T12:26:36.068922Z",
     "start_time": "2025-04-12T12:26:36.061329Z"
    }
   },
   "cell_type": "code",
   "source": [
    "test_run_pinned = torch.as_tensor(k_mnist.x_train[:256]).pin_memory()\n",
    "test_run_cuda = torch.as_tensor(k_mnist.x_train[:256]).cuda()"
   ],
   "id": "8497de9a52e0140c",
   "outputs": [],
   "execution_count": 45
  },
  {
   "metadata": {
    "ExecuteTime": {
     "end_time": "2025-04-12T12:26:53.586097Z",
     "start_time": "2025-04-12T12:26:47.169798Z"
    }
   },
   "cell_type": "code",
   "source": [
    "# %timeit kmodel(test_run_pinned.cuda())\n",
    "%timeit kmodel(test_run_cuda)"
   ],
   "id": "418a1a2b11bc9a9d",
   "outputs": [
    {
     "name": "stdout",
     "output_type": "stream",
     "text": [
      "789 μs ± 908 ns per loop (mean ± std. dev. of 7 runs, 1,000 loops each)\n"
     ]
    }
   ],
   "execution_count": 48
  },
  {
   "metadata": {},
   "cell_type": "markdown",
   "source": [
    "1.13 ms ± 24.9 μs per loop (mean ± std. dev. of 7 runs, 1 loop each)\n",
    "\n",
    "806 μs ± 491 ns per loop (mean ± std. dev. of 7 runs, 1,000 loops each)"
   ],
   "id": "e3048c8ce3df49ce"
  },
  {
   "metadata": {
    "ExecuteTime": {
     "end_time": "2025-04-12T12:26:46.091396Z",
     "start_time": "2025-04-12T12:26:40.719071Z"
    }
   },
   "cell_type": "code",
   "source": [
    "# %timeit test_model(test_run_pinned.cuda())\n",
    "%timeit test_model(test_run_cuda)"
   ],
   "id": "b26116e93a635baa",
   "outputs": [
    {
     "name": "stdout",
     "output_type": "stream",
     "text": [
      "663 μs ± 43.7 ns per loop (mean ± std. dev. of 7 runs, 1,000 loops each)\n"
     ]
    }
   ],
   "execution_count": 47
  },
  {
   "metadata": {},
   "cell_type": "markdown",
   "source": [
    "941 μs ± 132 ns per loop (mean ± std. dev. of 7 runs, 1,000 loops each)\n",
    "\n",
    "671 μs ± 76.2 ns per loop (mean ± std. dev. of 7 runs, 1,000 loops each)"
   ],
   "id": "961122c04e347a86"
  },
  {
   "metadata": {
    "ExecuteTime": {
     "end_time": "2025-04-12T07:33:00.005252Z",
     "start_time": "2025-04-12T07:32:42.267685Z"
    }
   },
   "cell_type": "code",
   "source": [
    "%timeit kmodel(k_mnist.x_train[:256])\n",
    "%timeit kmodel(test_run_pinned)"
   ],
   "id": "a6e05dacf47cf4d4",
   "outputs": [
    {
     "name": "stdout",
     "output_type": "stream",
     "text": [
      "1.14 ms ± 550 ns per loop (mean ± std. dev. of 7 runs, 1,000 loops each)\n",
      "1.04 ms ± 179 ns per loop (mean ± std. dev. of 7 runs, 1,000 loops each)\n"
     ]
    }
   ],
   "execution_count": 14
  },
  {
   "metadata": {
    "ExecuteTime": {
     "end_time": "2025-04-12T07:36:07.016678Z",
     "start_time": "2025-04-12T07:36:06.069478Z"
    }
   },
   "cell_type": "code",
   "source": "%time kmodel.fit(k_mnist.x_train, k_mnist.y_train, batch_size=256, verbose=False)",
   "id": "580330ba0ef0841c",
   "outputs": [
    {
     "name": "stdout",
     "output_type": "stream",
     "text": [
      "CPU times: user 1.34 s, sys: 20.7 ms, total: 1.36 s\n",
      "Wall time: 943 ms\n"
     ]
    },
    {
     "data": {
      "text/plain": [
       "<keras.src.callbacks.history.History at 0x766dfc2280e0>"
      ]
     },
     "execution_count": 17,
     "metadata": {},
     "output_type": "execute_result"
    }
   ],
   "execution_count": 17
  },
  {
   "metadata": {
    "ExecuteTime": {
     "end_time": "2025-04-12T12:27:06.657262Z",
     "start_time": "2025-04-12T12:27:06.639224Z"
    }
   },
   "cell_type": "code",
   "source": [
    "xtrp = torch.as_tensor(k_mnist.x_train, device='cuda')\n",
    "ytrp = torch.as_tensor(k_mnist.y_train, device='cuda')"
   ],
   "id": "24d92b5b855d5769",
   "outputs": [],
   "execution_count": 49
  },
  {
   "metadata": {
    "ExecuteTime": {
     "end_time": "2025-04-12T12:32:47.561994Z",
     "start_time": "2025-04-12T12:32:43.367681Z"
    }
   },
   "cell_type": "code",
   "source": "%time hist = kmodel.fit(xtrp, ytrp, verbose=False, batch_size=256, epochs=5)",
   "id": "f77755c95a6d6321",
   "outputs": [
    {
     "name": "stdout",
     "output_type": "stream",
     "text": [
      "CPU times: user 5.54 s, sys: 109 ms, total: 5.65 s\n",
      "Wall time: 4.19 s\n"
     ]
    }
   ],
   "execution_count": 60
  },
  {
   "metadata": {
    "ExecuteTime": {
     "end_time": "2025-04-12T12:32:38.330763Z",
     "start_time": "2025-04-12T12:32:32.413695Z"
    }
   },
   "cell_type": "code",
   "source": [
    "def minitrain(epochs: int = 5):\n",
    "    o = torch.optim.Adam(test_model.parameters())\n",
    "    for _ in range(epochs):\n",
    "        for xb, yb in k_mnist.train_loader(batch_size=256):\n",
    "            o.zero_grad()\n",
    "            res = test_model(xb.cuda())\n",
    "            nn.functional.cross_entropy(res, yb.cuda()).backward()\n",
    "            o.step()\n",
    "\n",
    "%time minitrain()"
   ],
   "id": "3f1b9f2c970877d5",
   "outputs": [
    {
     "name": "stdout",
     "output_type": "stream",
     "text": [
      "CPU times: user 2min 15s, sys: 40.5 ms, total: 2min 15s\n",
      "Wall time: 5.91 s\n"
     ]
    }
   ],
   "execution_count": 59
  },
  {
   "metadata": {
    "ExecuteTime": {
     "end_time": "2025-04-12T08:48:35.199400Z",
     "start_time": "2025-04-12T08:48:35.186304Z"
    }
   },
   "cell_type": "code",
   "source": [
    "import src.kernels.utils\n",
    "import src.kernels.quadratic\n",
    "import src.kernels\n",
    "\n",
    "importlib.reload(src.kernels.utils)\n",
    "importlib.reload(src.kernels.quadratic)\n",
    "importlib.reload(src.kernels)"
   ],
   "id": "57bcf78af5581305",
   "outputs": [
    {
     "data": {
      "text/plain": [
       "<module 'src.kernels' from '/home/peter/Thesis/src/kernels/__init__.py'>"
      ]
     },
     "execution_count": 107,
     "metadata": {},
     "output_type": "execute_result"
    }
   ],
   "execution_count": 107
  },
  {
   "metadata": {
    "ExecuteTime": {
     "end_time": "2025-04-12T08:53:10.437394Z",
     "start_time": "2025-04-12T08:53:10.424873Z"
    }
   },
   "cell_type": "code",
   "source": [
    "from src.kernels.utils import LearnedCholesky2D, LearnedSpectral2D\n",
    "from src.kernels import QuadraticKernelCholesky2D, QuadraticKernelSpectral2D\n",
    "\n",
    "k1 = LearnedCholesky2D(50, 60, init=\"normal\")\n",
    "k2 = LearnedSpectral2D(50, 60, init=\"normal\")\n",
    "print(k1, k2)\n",
    "q1_3 = QuadraticKernelCholesky2D(50, 60, 3, init=\"normal\")\n",
    "q1_5 = QuadraticKernelCholesky2D(50, 60, 5, init=\"normal\")\n",
    "q1_10 = QuadraticKernelCholesky2D(50, 60, 10, init=\"normal\")\n",
    "q2_3 = QuadraticKernelSpectral2D(50, 60, 3, init=\"normal\")\n",
    "q2_5 = QuadraticKernelSpectral2D(50, 60, 5, init=\"normal\")\n",
    "q2_10 = QuadraticKernelSpectral2D(50, 60, 10, init=\"normal\")\n",
    "print(q1_3, q2_3, q1_5, q2_5)"
   ],
   "id": "9b2dd8c6982332e5",
   "outputs": [
    {
     "name": "stdout",
     "output_type": "stream",
     "text": [
      "LearnedCholesky2D(50, 60) LearnedSpectral2D(50, 60)\n",
      "QuadraticKernelCholesky2D(\n",
      "  50, 60, kernel_size=3\n",
      "  (covs): LearnedCholesky2D(50, 60)\n",
      ") QuadraticKernelSpectral2D(\n",
      "  50, 60, kernel_size=3\n",
      "  (covs): LearnedSpectral2D(50, 60)\n",
      ") QuadraticKernelCholesky2D(\n",
      "  50, 60, kernel_size=5\n",
      "  (covs): LearnedCholesky2D(50, 60)\n",
      ") QuadraticKernelSpectral2D(\n",
      "  50, 60, kernel_size=5\n",
      "  (covs): LearnedSpectral2D(50, 60)\n",
      ")\n"
     ]
    }
   ],
   "execution_count": 120
  },
  {
   "metadata": {
    "ExecuteTime": {
     "end_time": "2025-04-12T08:48:36.188284Z",
     "start_time": "2025-04-12T08:48:36.179762Z"
    }
   },
   "cell_type": "code",
   "source": [
    "print(k1.cholesky().shape)\n",
    "print(k2.inverse_cov().shape)"
   ],
   "id": "f7f1143decafaec7",
   "outputs": [
    {
     "name": "stdout",
     "output_type": "stream",
     "text": [
      "torch.Size([60, 50, 2, 2])\n",
      "torch.Size([60, 50, 2, 2])\n"
     ]
    }
   ],
   "execution_count": 109
  },
  {
   "metadata": {
    "ExecuteTime": {
     "end_time": "2025-04-12T08:48:40.163485Z",
     "start_time": "2025-04-12T08:48:40.154767Z"
    }
   },
   "cell_type": "code",
   "source": [
    "print(q1_3().shape)\n",
    "print(q2_3().shape)\n",
    "print(q1_5().shape)\n",
    "print(q2_5().shape)"
   ],
   "id": "2f1c46309a740eba",
   "outputs": [
    {
     "name": "stdout",
     "output_type": "stream",
     "text": [
      "torch.Size([60, 50, 3, 3])\n",
      "torch.Size([60, 50, 3, 3])\n",
      "torch.Size([60, 50, 5, 5])\n",
      "torch.Size([60, 50, 5, 5])\n"
     ]
    }
   ],
   "execution_count": 110
  },
  {
   "metadata": {
    "ExecuteTime": {
     "end_time": "2025-04-12T08:53:28.897776Z",
     "start_time": "2025-04-12T08:53:25.817865Z"
    }
   },
   "cell_type": "code",
   "source": [
    "q1_3.compile(fullgraph=True)\n",
    "q2_3.compile(fullgraph=True)\n",
    "q1_5.compile(fullgraph=True)\n",
    "q2_5.compile(fullgraph=True)\n",
    "q1_10.compile(fullgraph=True)\n",
    "q2_10.compile(fullgraph=True)\n",
    "print(q1_3().shape)\n",
    "print(q2_3().shape)\n",
    "print(q1_5().shape)\n",
    "print(q2_5().shape)\n",
    "print(q1_10().shape)\n",
    "print(q2_10().shape)"
   ],
   "id": "3de90c081f33bf34",
   "outputs": [
    {
     "name": "stdout",
     "output_type": "stream",
     "text": [
      "torch.Size([60, 50, 3, 3])\n",
      "torch.Size([60, 50, 3, 3])\n",
      "torch.Size([60, 50, 5, 5])\n",
      "torch.Size([60, 50, 5, 5])\n",
      "torch.Size([60, 50, 10, 10])\n",
      "torch.Size([60, 50, 10, 10])\n"
     ]
    },
    {
     "name": "stderr",
     "output_type": "stream",
     "text": [
      "/home/peter/Thesis/.venv/lib/python3.12/site-packages/torch/_inductor/lowering.py:1720: FutureWarning: `torch._prims_common.check` is deprecated and will be removed in the future. Please use `torch._check*` functions instead.\n",
      "  check(\n"
     ]
    }
   ],
   "execution_count": 121
  },
  {
   "metadata": {
    "ExecuteTime": {
     "end_time": "2025-04-12T08:53:38.456465Z",
     "start_time": "2025-04-12T08:53:38.445601Z"
    }
   },
   "cell_type": "code",
   "source": [
    "print(q1_3().shape)\n",
    "print(q2_3().shape)\n",
    "print(q1_5().shape)\n",
    "print(q2_5().shape)\n",
    "print(q1_10().shape)\n",
    "print(q2_10().shape)"
   ],
   "id": "66dd210101851dad",
   "outputs": [
    {
     "name": "stdout",
     "output_type": "stream",
     "text": [
      "torch.Size([60, 50, 3, 3])\n",
      "torch.Size([60, 50, 3, 3])\n",
      "torch.Size([60, 50, 5, 5])\n",
      "torch.Size([60, 50, 5, 5])\n",
      "torch.Size([60, 50, 10, 10])\n",
      "torch.Size([60, 50, 10, 10])\n"
     ]
    }
   ],
   "execution_count": 122
  },
  {
   "metadata": {
    "ExecuteTime": {
     "end_time": "2025-04-12T08:54:46.760927Z",
     "start_time": "2025-04-12T08:53:49.247389Z"
    }
   },
   "cell_type": "code",
   "source": [
    "q1_3.cpu(), q2_3.cpu(), q1_5.cpu(), q2_5.cpu(), q1_10.cpu(), q2_10.cpu()\n",
    "%timeit q1_3()\n",
    "%timeit q2_3()\n",
    "%timeit q1_5()\n",
    "%timeit q2_5()\n",
    "%timeit q1_10()\n",
    "%timeit q2_10()"
   ],
   "id": "2286c20b762d5080",
   "outputs": [
    {
     "name": "stdout",
     "output_type": "stream",
     "text": [
      "826 μs ± 2.56 μs per loop (mean ± std. dev. of 7 runs, 1,000 loops each)\n",
      "117 μs ± 280 ns per loop (mean ± std. dev. of 7 runs, 10,000 loops each)\n",
      "607 μs ± 350 ns per loop (mean ± std. dev. of 7 runs, 1,000 loops each)\n",
      "175 μs ± 256 ns per loop (mean ± std. dev. of 7 runs, 10,000 loops each)\n",
      "1.05 ms ± 315 ns per loop (mean ± std. dev. of 7 runs, 1,000 loops each)\n",
      "168 μs ± 240 ns per loop (mean ± std. dev. of 7 runs, 10,000 loops each)\n"
     ]
    }
   ],
   "execution_count": 123
  },
  {
   "metadata": {
    "ExecuteTime": {
     "end_time": "2025-04-12T08:56:15.949017Z",
     "start_time": "2025-04-12T08:55:40.620678Z"
    }
   },
   "cell_type": "code",
   "source": [
    "q1_3.cuda(), q2_3.cuda(), q1_5.cuda(), q2_5.cuda(), q1_10.cuda(), q2_10.cuda()\n",
    "%timeit q1_3()\n",
    "%timeit q2_3()\n",
    "%timeit q1_5()\n",
    "%timeit q2_5()\n",
    "%timeit q1_10()\n",
    "%timeit q2_10()"
   ],
   "id": "a49448d877fc23a0",
   "outputs": [
    {
     "name": "stdout",
     "output_type": "stream",
     "text": [
      "70.1 μs ± 64.3 ns per loop (mean ± std. dev. of 7 runs, 10,000 loops each)\n",
      "74.8 μs ± 168 ns per loop (mean ± std. dev. of 7 runs, 10,000 loops each)\n",
      "70.3 μs ± 71.1 ns per loop (mean ± std. dev. of 7 runs, 10,000 loops each)\n",
      "74.9 μs ± 143 ns per loop (mean ± std. dev. of 7 runs, 10,000 loops each)\n",
      "69.6 μs ± 75.9 ns per loop (mean ± std. dev. of 7 runs, 10,000 loops each)\n",
      "75.5 μs ± 71.4 ns per loop (mean ± std. dev. of 7 runs, 10,000 loops each)\n"
     ]
    }
   ],
   "execution_count": 126
  },
  {
   "metadata": {
    "ExecuteTime": {
     "end_time": "2025-04-12T08:58:54.910152Z",
     "start_time": "2025-04-12T08:58:54.896041Z"
    }
   },
   "cell_type": "code",
   "source": "q2_5.state_dict()",
   "id": "ae3ec99b3efeee1b",
   "outputs": [
    {
     "data": {
      "text/plain": [
       "OrderedDict([('pos_grid',\n",
       "              tensor([[-2., -2.],\n",
       "                      [-2., -1.],\n",
       "                      [-2.,  0.],\n",
       "                      [-2.,  1.],\n",
       "                      [-2.,  2.],\n",
       "                      [-1., -2.],\n",
       "                      [-1., -1.],\n",
       "                      [-1.,  0.],\n",
       "                      [-1.,  1.],\n",
       "                      [-1.,  2.],\n",
       "                      [ 0., -2.],\n",
       "                      [ 0., -1.],\n",
       "                      [ 0.,  0.],\n",
       "                      [ 0.,  1.],\n",
       "                      [ 0.,  2.],\n",
       "                      [ 1., -2.],\n",
       "                      [ 1., -1.],\n",
       "                      [ 1.,  0.],\n",
       "                      [ 1.,  1.],\n",
       "                      [ 1.,  2.],\n",
       "                      [ 2., -2.],\n",
       "                      [ 2., -1.],\n",
       "                      [ 2.,  0.],\n",
       "                      [ 2.,  1.],\n",
       "                      [ 2.,  2.]], device='cuda:0')),\n",
       "             ('covs.log_stds',\n",
       "              tensor([[[ 0.5216,  1.1183],\n",
       "                       [ 0.8297, -1.2277],\n",
       "                       [-0.8401, -1.1930],\n",
       "                       ...,\n",
       "                       [ 1.6605, -0.0042],\n",
       "                       [-0.4397,  1.0019],\n",
       "                       [-0.9251, -0.9954]],\n",
       "              \n",
       "                      [[ 0.0712,  0.1388],\n",
       "                       [-0.5180,  0.0417],\n",
       "                       [ 0.3516, -1.0317],\n",
       "                       ...,\n",
       "                       [ 0.4622, -0.3875],\n",
       "                       [ 0.0429,  2.0579],\n",
       "                       [ 0.8985, -0.5256]],\n",
       "              \n",
       "                      [[ 0.0625, -0.3464],\n",
       "                       [ 0.9243, -0.0243],\n",
       "                       [-0.7341, -0.9724],\n",
       "                       ...,\n",
       "                       [ 1.8424,  0.6913],\n",
       "                       [ 1.0648,  0.2092],\n",
       "                       [-0.8306, -1.8615]],\n",
       "              \n",
       "                      ...,\n",
       "              \n",
       "                      [[-0.0927,  0.0779],\n",
       "                       [-0.3690, -0.1785],\n",
       "                       [ 1.4325,  1.2428],\n",
       "                       ...,\n",
       "                       [ 0.0897,  0.9514],\n",
       "                       [ 0.4506,  0.0454],\n",
       "                       [-2.1388, -0.9690]],\n",
       "              \n",
       "                      [[-0.3423, -0.3778],\n",
       "                       [ 0.5136, -0.4429],\n",
       "                       [ 0.3636,  0.9208],\n",
       "                       ...,\n",
       "                       [ 1.9049, -0.1732],\n",
       "                       [ 0.4699,  0.3939],\n",
       "                       [-0.1878, -0.2245]],\n",
       "              \n",
       "                      [[-0.2112, -1.5553],\n",
       "                       [ 1.6772,  1.7891],\n",
       "                       [-0.6449,  0.2328],\n",
       "                       ...,\n",
       "                       [-0.0393,  1.5212],\n",
       "                       [-0.8097,  0.3942],\n",
       "                       [-1.5958,  1.6849]]], device='cuda:0')),\n",
       "             ('covs.thetas',\n",
       "              tensor([[ 0.3543,  0.8034, -1.6726,  ...,  0.6333, -0.0189,  1.3802],\n",
       "                      [ 0.3435,  0.1109, -0.8465,  ...,  1.2607,  0.4762, -0.0388],\n",
       "                      [-0.0515,  1.2733,  0.0569,  ...,  0.2756,  0.3114, -1.1415],\n",
       "                      ...,\n",
       "                      [-0.6288, -0.0775, -0.1073,  ...,  0.2486,  0.3032,  0.2135],\n",
       "                      [ 0.7459, -0.7193, -0.4476,  ..., -0.2315, -2.2807, -0.9287],\n",
       "                      [-0.0894, -0.6017, -1.4687,  ...,  0.9216, -0.8128, -0.5022]],\n",
       "                     device='cuda:0'))])"
      ]
     },
     "execution_count": 128,
     "metadata": {},
     "output_type": "execute_result"
    }
   ],
   "execution_count": 128
  }
 ],
 "metadata": {
  "kernelspec": {
   "display_name": "Python 3",
   "language": "python",
   "name": "python3"
  },
  "language_info": {
   "codemirror_mode": {
    "name": "ipython",
    "version": 2
   },
   "file_extension": ".py",
   "mimetype": "text/x-python",
   "name": "python",
   "nbconvert_exporter": "python",
   "pygments_lexer": "ipython2",
   "version": "2.7.6"
  }
 },
 "nbformat": 4,
 "nbformat_minor": 5
}
