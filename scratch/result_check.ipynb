{
 "cells": [
  {
   "cell_type": "code",
   "id": "214dd4f111ebf0b1",
   "metadata": {
    "ExecuteTime": {
     "end_time": "2025-04-02T06:18:22.181272Z",
     "start_time": "2025-04-02T06:18:22.178318Z"
    }
   },
   "source": [
    "from __future__ import annotations\n",
    "\n",
    "from collections.abc import Iterable\n",
    "from itertools import pairwise, chain\n",
    "from typing import Callable\n",
    "\n",
    "import matplotlib.pyplot as plt\n",
    "import numpy as np\n",
    "import seaborn as sns\n",
    "import torch\n",
    "import torchvision\n",
    "import tqdm.auto as tqdm\n",
    "from torch import nn\n",
    "import math\n",
    "from torch.distributions.multivariate_normal import MultivariateNormal\n",
    "\n",
    "%env KERAS_BACKEND=torch\n",
    "\n",
    "import keras\n",
    "from keras import layers\n",
    "import keras_tuner"
   ],
   "outputs": [
    {
     "name": "stdout",
     "output_type": "stream",
     "text": [
      "env: KERAS_BACKEND=torch\n"
     ]
    }
   ],
   "execution_count": 62
  },
  {
   "cell_type": "code",
   "execution_count": 2,
   "id": "89a183c9dd53ac55",
   "metadata": {
    "ExecuteTime": {
     "end_time": "2025-04-02T05:37:17.541799Z",
     "start_time": "2025-04-02T05:37:17.538591Z"
    }
   },
   "outputs": [],
   "source": [
    "# Move to project root\n",
    "from pathlib import Path\n",
    "import os\n",
    "\n",
    "if not Path(\"./src/kernels\").is_dir():\n",
    "    for parent_path in Path.cwd().parents:\n",
    "        if (parent_path / \"src/kernels\").is_dir():\n",
    "            os.chdir(parent_path)\n",
    "            break\n",
    "    else:\n",
    "        raise FileNotFoundError(\"Can't find project root\")\n",
    "\n",
    "assert Path(\"./src/kernels\").is_dir()"
   ]
  },
  {
   "cell_type": "code",
   "id": "initial_id",
   "metadata": {
    "collapsed": true,
    "ExecuteTime": {
     "end_time": "2025-04-02T06:23:55.578671Z",
     "start_time": "2025-04-02T06:23:55.576338Z"
    }
   },
   "source": [
    "from src import kernels, convolutions\n",
    "from src.models import lenet_like\n",
    "from src import load_data"
   ],
   "outputs": [],
   "execution_count": 73
  },
  {
   "cell_type": "code",
   "id": "bd2b7d920b961c6c",
   "metadata": {
    "ExecuteTime": {
     "end_time": "2025-04-02T05:38:58.152236Z",
     "start_time": "2025-04-02T05:38:57.986313Z"
    }
   },
   "source": [
    "tuner = keras_tuner.GridSearch(\n",
    "    hypermodel=lenet_like.lenet_like(img_channels=1, num_classes=10),\n",
    "    objective=\"val_accuracy\",\n",
    "    max_trials=0,\n",
    "    overwrite=False,\n",
    "    directory=\"checkpoints\",\n",
    "    project_name=\"basic_kmnist\",\n",
    ")\n",
    "tuner"
   ],
   "outputs": [
    {
     "name": "stdout",
     "output_type": "stream",
     "text": [
      "Reloading Tuner from checkpoints/basic_kmnist/tuner0.json\n"
     ]
    },
    {
     "data": {
      "text/plain": [
       "<keras_tuner.src.tuners.gridsearch.GridSearch at 0x78f2e09d5730>"
      ]
     },
     "execution_count": 5,
     "metadata": {},
     "output_type": "execute_result"
    }
   ],
   "execution_count": 5
  },
  {
   "metadata": {
    "ExecuteTime": {
     "end_time": "2025-04-02T06:20:32.736886Z",
     "start_time": "2025-04-02T06:20:32.734214Z"
    }
   },
   "cell_type": "code",
   "source": [
    "from typing import NamedTuple\n",
    "\n",
    "\n",
    "class TrialWrapper(NamedTuple):\n",
    "    trial: keras_tuner.engine.trial.Trial\n",
    "    trial_id: str\n",
    "    hyperparameters: keras_tuner.HyperParameters\n",
    "    metrics: dict[str, float]\n",
    "    score: float\n",
    "    best_step: int\n",
    "    loader: ModelLoader = None\n",
    "\n",
    "    @classmethod\n",
    "    def from_trial(cls, trial: keras_tuner.engine.trial.Trial, model_loader: ModelLoader = None):\n",
    "        metrics = {name: hist.get_best_value() for name, hist in trial.metrics.metrics.items()}\n",
    "        return cls(trial, trial.trial_id, trial.hyperparameters, metrics, trial.score, trial.best_step, model_loader)\n",
    "\n",
    "    def load_model(self) -> keras.Model:\n",
    "        assert self.loader and self.trial\n",
    "        return self.loader.tuner.load_model(self.trial)"
   ],
   "id": "928828e55c9ccd30",
   "outputs": [],
   "execution_count": 63
  },
  {
   "metadata": {
    "ExecuteTime": {
     "end_time": "2025-04-02T06:20:57.845521Z",
     "start_time": "2025-04-02T06:20:57.842161Z"
    }
   },
   "cell_type": "code",
   "source": [
    "class ModelLoader:\n",
    "    def __init__(self, project_name: str, hypermodel: Callable[[keras_tuner.HyperParameters], keras.Model],\n",
    "                 tuner_kind='grid'):\n",
    "        if tuner_kind == 'grid':\n",
    "            tuner_cls = keras_tuner.GridSearch\n",
    "        else:\n",
    "            raise ValueError(f\"Unknown {tuner_kind=}\")\n",
    "        self.tuner: keras_tuner.Tuner = tuner_cls(\n",
    "            hypermodel=hypermodel,\n",
    "            objective=\"val_accuracy\",\n",
    "            max_trials=0,\n",
    "            overwrite=False,\n",
    "            directory=\"checkpoints\",\n",
    "            project_name=project_name,\n",
    "        )\n",
    "        self.trials = self.tuner.oracle.get_best_trials(-1)\n",
    "        self.all_params = set()\n",
    "\n",
    "        for trial in self.trials:\n",
    "            self.all_params.update(trial.hyperparameters.values)\n",
    "\n",
    "    @staticmethod\n",
    "    def nonconflicting(params_a: dict, params_b: dict):\n",
    "        for key in set(params_a).intersection(params_b):\n",
    "            if params_a[key] != params_b[key]:\n",
    "                return False\n",
    "        return True\n",
    "\n",
    "    def find(self, params: dict) -> TrialWrapper:\n",
    "        unknown_keys = set(params).difference(self.all_params)\n",
    "        assert not unknown_keys, f\"{unknown_keys=}\"\n",
    "        for trial in self.trials:\n",
    "            if self.nonconflicting(params, trial.hyperparameters.values):\n",
    "                return TrialWrapper.from_trial(trial, self)\n",
    "\n",
    "        raise ValueError(f\"Params {params=} are conflicting or were not tested\")\n",
    "\n"
   ],
   "id": "d77566360f794399",
   "outputs": [],
   "execution_count": 67
  },
  {
   "metadata": {
    "ExecuteTime": {
     "end_time": "2025-04-02T06:20:58.667508Z",
     "start_time": "2025-04-02T06:20:58.633518Z"
    }
   },
   "cell_type": "code",
   "source": "loader = ModelLoader(\"basic_kmnist\", lenet_like.lenet_like(1, 10))",
   "id": "816af5f4d9de46ce",
   "outputs": [
    {
     "name": "stdout",
     "output_type": "stream",
     "text": [
      "Reloading Tuner from checkpoints/basic_kmnist/tuner0.json\n"
     ]
    }
   ],
   "execution_count": 68
  },
  {
   "metadata": {
    "ExecuteTime": {
     "end_time": "2025-04-02T06:25:44.210873Z",
     "start_time": "2025-04-02T06:25:43.936636Z"
    }
   },
   "cell_type": "code",
   "source": [
    "qt = loader.find({'quadratic-pool-kernel': 'quadratic-multi'})\n",
    "print(qt.metrics)\n",
    "qm = qt.load_model()"
   ],
   "id": "b228dcc64742b645",
   "outputs": [
    {
     "name": "stdout",
     "output_type": "stream",
     "text": [
      "{'accuracy': np.float64(0.996492067972819), 'loss': np.float64(0.014133953334142765), 'top3': np.float64(0.9997539718945821), 'val_accuracy': np.float64(0.9600555499394735), 'val_loss': np.float64(0.49338407317797345), 'val_top3': np.float64(0.9908333420753479)}\n"
     ]
    }
   ],
   "execution_count": 78
  },
  {
   "metadata": {
    "ExecuteTime": {
     "end_time": "2025-04-02T06:21:47.932467Z",
     "start_time": "2025-04-02T06:21:47.920432Z"
    }
   },
   "cell_type": "code",
   "source": "qm.summary()",
   "id": "e0a7e972497e079b",
   "outputs": [
    {
     "data": {
      "text/plain": [
       "\u001B[1mModel: \"sequential\"\u001B[0m\n"
      ],
      "text/html": [
       "<pre style=\"white-space:pre;overflow-x:auto;line-height:normal;font-family:Menlo,'DejaVu Sans Mono',consolas,'Courier New',monospace\"><span style=\"font-weight: bold\">Model: \"sequential\"</span>\n",
       "</pre>\n"
      ]
     },
     "metadata": {},
     "output_type": "display_data"
    },
    {
     "data": {
      "text/plain": [
       "┏━━━━━━━━━━━━━━━━━━━━━━━━━━━━━━━━━┳━━━━━━━━━━━━━━━━━━━━━━━━┳━━━━━━━━━━━━━━━┓\n",
       "┃\u001B[1m \u001B[0m\u001B[1mLayer (type)                   \u001B[0m\u001B[1m \u001B[0m┃\u001B[1m \u001B[0m\u001B[1mOutput Shape          \u001B[0m\u001B[1m \u001B[0m┃\u001B[1m \u001B[0m\u001B[1m      Param #\u001B[0m\u001B[1m \u001B[0m┃\n",
       "┡━━━━━━━━━━━━━━━━━━━━━━━━━━━━━━━━━╇━━━━━━━━━━━━━━━━━━━━━━━━╇━━━━━━━━━━━━━━━┩\n",
       "│ reshape (\u001B[38;5;33mTorchModuleWrapper\u001B[0m)    │ (\u001B[38;5;34m512\u001B[0m, \u001B[38;5;34m1\u001B[0m, \u001B[38;5;34m28\u001B[0m, \u001B[38;5;34m28\u001B[0m)       │             \u001B[38;5;34m0\u001B[0m │\n",
       "├─────────────────────────────────┼────────────────────────┼───────────────┤\n",
       "│ conv-1 (\u001B[38;5;33mTorchModuleWrapper\u001B[0m)     │ (\u001B[38;5;34m512\u001B[0m, \u001B[38;5;34m20\u001B[0m, \u001B[38;5;34m24\u001B[0m, \u001B[38;5;34m24\u001B[0m)      │           \u001B[38;5;34m500\u001B[0m │\n",
       "├─────────────────────────────────┼────────────────────────┼───────────────┤\n",
       "│ re_lu (\u001B[38;5;33mReLU\u001B[0m)                    │ (\u001B[38;5;34m512\u001B[0m, \u001B[38;5;34m20\u001B[0m, \u001B[38;5;34m24\u001B[0m, \u001B[38;5;34m24\u001B[0m)      │             \u001B[38;5;34m0\u001B[0m │\n",
       "├─────────────────────────────────┼────────────────────────┼───────────────┤\n",
       "│ quadratic-multi-pool-1          │ (\u001B[38;5;34m512\u001B[0m, \u001B[38;5;34m20\u001B[0m, \u001B[38;5;34m22\u001B[0m, \u001B[38;5;34m22\u001B[0m)      │            \u001B[38;5;34m60\u001B[0m │\n",
       "│ (\u001B[38;5;33mTorchModuleWrapper\u001B[0m)            │                        │               │\n",
       "├─────────────────────────────────┼────────────────────────┼───────────────┤\n",
       "│ conv-2 (\u001B[38;5;33mTorchModuleWrapper\u001B[0m)     │ (\u001B[38;5;34m512\u001B[0m, \u001B[38;5;34m50\u001B[0m, \u001B[38;5;34m18\u001B[0m, \u001B[38;5;34m18\u001B[0m)      │        \u001B[38;5;34m25,000\u001B[0m │\n",
       "├─────────────────────────────────┼────────────────────────┼───────────────┤\n",
       "│ re_lu_1 (\u001B[38;5;33mReLU\u001B[0m)                  │ (\u001B[38;5;34m512\u001B[0m, \u001B[38;5;34m50\u001B[0m, \u001B[38;5;34m18\u001B[0m, \u001B[38;5;34m18\u001B[0m)      │             \u001B[38;5;34m0\u001B[0m │\n",
       "├─────────────────────────────────┼────────────────────────┼───────────────┤\n",
       "│ quadratic-multi-pool-2          │ (\u001B[38;5;34m512\u001B[0m, \u001B[38;5;34m50\u001B[0m, \u001B[38;5;34m16\u001B[0m, \u001B[38;5;34m16\u001B[0m)      │           \u001B[38;5;34m150\u001B[0m │\n",
       "│ (\u001B[38;5;33mTorchModuleWrapper\u001B[0m)            │                        │               │\n",
       "├─────────────────────────────────┼────────────────────────┼───────────────┤\n",
       "│ flatten (\u001B[38;5;33mFlatten\u001B[0m)               │ (\u001B[38;5;34m512\u001B[0m, \u001B[38;5;34m12800\u001B[0m)           │             \u001B[38;5;34m0\u001B[0m │\n",
       "├─────────────────────────────────┼────────────────────────┼───────────────┤\n",
       "│ logit-hidden (\u001B[38;5;33mDense\u001B[0m)            │ (\u001B[38;5;34m512\u001B[0m, \u001B[38;5;34m500\u001B[0m)             │     \u001B[38;5;34m6,400,500\u001B[0m │\n",
       "├─────────────────────────────────┼────────────────────────┼───────────────┤\n",
       "│ re_lu_2 (\u001B[38;5;33mReLU\u001B[0m)                  │ (\u001B[38;5;34m512\u001B[0m, \u001B[38;5;34m500\u001B[0m)             │             \u001B[38;5;34m0\u001B[0m │\n",
       "├─────────────────────────────────┼────────────────────────┼───────────────┤\n",
       "│ logit-predictor (\u001B[38;5;33mDense\u001B[0m)         │ (\u001B[38;5;34m512\u001B[0m, \u001B[38;5;34m10\u001B[0m)              │         \u001B[38;5;34m5,010\u001B[0m │\n",
       "└─────────────────────────────────┴────────────────────────┴───────────────┘\n"
      ],
      "text/html": [
       "<pre style=\"white-space:pre;overflow-x:auto;line-height:normal;font-family:Menlo,'DejaVu Sans Mono',consolas,'Courier New',monospace\">┏━━━━━━━━━━━━━━━━━━━━━━━━━━━━━━━━━┳━━━━━━━━━━━━━━━━━━━━━━━━┳━━━━━━━━━━━━━━━┓\n",
       "┃<span style=\"font-weight: bold\"> Layer (type)                    </span>┃<span style=\"font-weight: bold\"> Output Shape           </span>┃<span style=\"font-weight: bold\">       Param # </span>┃\n",
       "┡━━━━━━━━━━━━━━━━━━━━━━━━━━━━━━━━━╇━━━━━━━━━━━━━━━━━━━━━━━━╇━━━━━━━━━━━━━━━┩\n",
       "│ reshape (<span style=\"color: #0087ff; text-decoration-color: #0087ff\">TorchModuleWrapper</span>)    │ (<span style=\"color: #00af00; text-decoration-color: #00af00\">512</span>, <span style=\"color: #00af00; text-decoration-color: #00af00\">1</span>, <span style=\"color: #00af00; text-decoration-color: #00af00\">28</span>, <span style=\"color: #00af00; text-decoration-color: #00af00\">28</span>)       │             <span style=\"color: #00af00; text-decoration-color: #00af00\">0</span> │\n",
       "├─────────────────────────────────┼────────────────────────┼───────────────┤\n",
       "│ conv-1 (<span style=\"color: #0087ff; text-decoration-color: #0087ff\">TorchModuleWrapper</span>)     │ (<span style=\"color: #00af00; text-decoration-color: #00af00\">512</span>, <span style=\"color: #00af00; text-decoration-color: #00af00\">20</span>, <span style=\"color: #00af00; text-decoration-color: #00af00\">24</span>, <span style=\"color: #00af00; text-decoration-color: #00af00\">24</span>)      │           <span style=\"color: #00af00; text-decoration-color: #00af00\">500</span> │\n",
       "├─────────────────────────────────┼────────────────────────┼───────────────┤\n",
       "│ re_lu (<span style=\"color: #0087ff; text-decoration-color: #0087ff\">ReLU</span>)                    │ (<span style=\"color: #00af00; text-decoration-color: #00af00\">512</span>, <span style=\"color: #00af00; text-decoration-color: #00af00\">20</span>, <span style=\"color: #00af00; text-decoration-color: #00af00\">24</span>, <span style=\"color: #00af00; text-decoration-color: #00af00\">24</span>)      │             <span style=\"color: #00af00; text-decoration-color: #00af00\">0</span> │\n",
       "├─────────────────────────────────┼────────────────────────┼───────────────┤\n",
       "│ quadratic-multi-pool-1          │ (<span style=\"color: #00af00; text-decoration-color: #00af00\">512</span>, <span style=\"color: #00af00; text-decoration-color: #00af00\">20</span>, <span style=\"color: #00af00; text-decoration-color: #00af00\">22</span>, <span style=\"color: #00af00; text-decoration-color: #00af00\">22</span>)      │            <span style=\"color: #00af00; text-decoration-color: #00af00\">60</span> │\n",
       "│ (<span style=\"color: #0087ff; text-decoration-color: #0087ff\">TorchModuleWrapper</span>)            │                        │               │\n",
       "├─────────────────────────────────┼────────────────────────┼───────────────┤\n",
       "│ conv-2 (<span style=\"color: #0087ff; text-decoration-color: #0087ff\">TorchModuleWrapper</span>)     │ (<span style=\"color: #00af00; text-decoration-color: #00af00\">512</span>, <span style=\"color: #00af00; text-decoration-color: #00af00\">50</span>, <span style=\"color: #00af00; text-decoration-color: #00af00\">18</span>, <span style=\"color: #00af00; text-decoration-color: #00af00\">18</span>)      │        <span style=\"color: #00af00; text-decoration-color: #00af00\">25,000</span> │\n",
       "├─────────────────────────────────┼────────────────────────┼───────────────┤\n",
       "│ re_lu_1 (<span style=\"color: #0087ff; text-decoration-color: #0087ff\">ReLU</span>)                  │ (<span style=\"color: #00af00; text-decoration-color: #00af00\">512</span>, <span style=\"color: #00af00; text-decoration-color: #00af00\">50</span>, <span style=\"color: #00af00; text-decoration-color: #00af00\">18</span>, <span style=\"color: #00af00; text-decoration-color: #00af00\">18</span>)      │             <span style=\"color: #00af00; text-decoration-color: #00af00\">0</span> │\n",
       "├─────────────────────────────────┼────────────────────────┼───────────────┤\n",
       "│ quadratic-multi-pool-2          │ (<span style=\"color: #00af00; text-decoration-color: #00af00\">512</span>, <span style=\"color: #00af00; text-decoration-color: #00af00\">50</span>, <span style=\"color: #00af00; text-decoration-color: #00af00\">16</span>, <span style=\"color: #00af00; text-decoration-color: #00af00\">16</span>)      │           <span style=\"color: #00af00; text-decoration-color: #00af00\">150</span> │\n",
       "│ (<span style=\"color: #0087ff; text-decoration-color: #0087ff\">TorchModuleWrapper</span>)            │                        │               │\n",
       "├─────────────────────────────────┼────────────────────────┼───────────────┤\n",
       "│ flatten (<span style=\"color: #0087ff; text-decoration-color: #0087ff\">Flatten</span>)               │ (<span style=\"color: #00af00; text-decoration-color: #00af00\">512</span>, <span style=\"color: #00af00; text-decoration-color: #00af00\">12800</span>)           │             <span style=\"color: #00af00; text-decoration-color: #00af00\">0</span> │\n",
       "├─────────────────────────────────┼────────────────────────┼───────────────┤\n",
       "│ logit-hidden (<span style=\"color: #0087ff; text-decoration-color: #0087ff\">Dense</span>)            │ (<span style=\"color: #00af00; text-decoration-color: #00af00\">512</span>, <span style=\"color: #00af00; text-decoration-color: #00af00\">500</span>)             │     <span style=\"color: #00af00; text-decoration-color: #00af00\">6,400,500</span> │\n",
       "├─────────────────────────────────┼────────────────────────┼───────────────┤\n",
       "│ re_lu_2 (<span style=\"color: #0087ff; text-decoration-color: #0087ff\">ReLU</span>)                  │ (<span style=\"color: #00af00; text-decoration-color: #00af00\">512</span>, <span style=\"color: #00af00; text-decoration-color: #00af00\">500</span>)             │             <span style=\"color: #00af00; text-decoration-color: #00af00\">0</span> │\n",
       "├─────────────────────────────────┼────────────────────────┼───────────────┤\n",
       "│ logit-predictor (<span style=\"color: #0087ff; text-decoration-color: #0087ff\">Dense</span>)         │ (<span style=\"color: #00af00; text-decoration-color: #00af00\">512</span>, <span style=\"color: #00af00; text-decoration-color: #00af00\">10</span>)              │         <span style=\"color: #00af00; text-decoration-color: #00af00\">5,010</span> │\n",
       "└─────────────────────────────────┴────────────────────────┴───────────────┘\n",
       "</pre>\n"
      ]
     },
     "metadata": {},
     "output_type": "display_data"
    },
    {
     "data": {
      "text/plain": [
       "\u001B[1m Total params: \u001B[0m\u001B[38;5;34m6,431,220\u001B[0m (24.53 MB)\n"
      ],
      "text/html": [
       "<pre style=\"white-space:pre;overflow-x:auto;line-height:normal;font-family:Menlo,'DejaVu Sans Mono',consolas,'Courier New',monospace\"><span style=\"font-weight: bold\"> Total params: </span><span style=\"color: #00af00; text-decoration-color: #00af00\">6,431,220</span> (24.53 MB)\n",
       "</pre>\n"
      ]
     },
     "metadata": {},
     "output_type": "display_data"
    },
    {
     "data": {
      "text/plain": [
       "\u001B[1m Trainable params: \u001B[0m\u001B[38;5;34m6,431,220\u001B[0m (24.53 MB)\n"
      ],
      "text/html": [
       "<pre style=\"white-space:pre;overflow-x:auto;line-height:normal;font-family:Menlo,'DejaVu Sans Mono',consolas,'Courier New',monospace\"><span style=\"font-weight: bold\"> Trainable params: </span><span style=\"color: #00af00; text-decoration-color: #00af00\">6,431,220</span> (24.53 MB)\n",
       "</pre>\n"
      ]
     },
     "metadata": {},
     "output_type": "display_data"
    },
    {
     "data": {
      "text/plain": [
       "\u001B[1m Non-trainable params: \u001B[0m\u001B[38;5;34m0\u001B[0m (0.00 B)\n"
      ],
      "text/html": [
       "<pre style=\"white-space:pre;overflow-x:auto;line-height:normal;font-family:Menlo,'DejaVu Sans Mono',consolas,'Courier New',monospace\"><span style=\"font-weight: bold\"> Non-trainable params: </span><span style=\"color: #00af00; text-decoration-color: #00af00\">0</span> (0.00 B)\n",
       "</pre>\n"
      ]
     },
     "metadata": {},
     "output_type": "display_data"
    }
   ],
   "execution_count": 72
  },
  {
   "metadata": {
    "ExecuteTime": {
     "end_time": "2025-04-02T06:24:06.088231Z",
     "start_time": "2025-04-02T06:24:06.015856Z"
    }
   },
   "cell_type": "code",
   "source": [
    "kmn = load_data.k_mnist()\n",
    "kmn"
   ],
   "id": "f7211ebd0976899c",
   "outputs": [
    {
     "data": {
      "text/plain": [
       "Dataset(x_train=(60000, 28, 28), x_test=(10000, 28, 28), y_train=(60000,), y_test=(10000,))"
      ]
     },
     "execution_count": 74,
     "metadata": {},
     "output_type": "execute_result"
    }
   ],
   "execution_count": 74
  },
  {
   "metadata": {
    "ExecuteTime": {
     "end_time": "2025-04-02T06:24:53.340059Z",
     "start_time": "2025-04-02T06:24:52.695456Z"
    }
   },
   "cell_type": "code",
   "source": "qm.evaluate(kmn.x_test, kmn.y_test, batch_size=2 ** 10, return_dict=True)",
   "id": "8953f84eb5ae5e8a",
   "outputs": [
    {
     "name": "stdout",
     "output_type": "stream",
     "text": [
      "\u001B[1m10/10\u001B[0m \u001B[32m━━━━━━━━━━━━━━━━━━━━\u001B[0m\u001B[37m\u001B[0m \u001B[1m1s\u001B[0m 63ms/step - accuracy: 0.9007 - loss: 1.3936 - top3: 0.9703\n"
     ]
    },
    {
     "data": {
      "text/plain": [
       "{'accuracy': 0.9010000228881836,\n",
       " 'loss': 1.4052506685256958,\n",
       " 'top3': 0.9699000120162964}"
      ]
     },
     "execution_count": 76,
     "metadata": {},
     "output_type": "execute_result"
    }
   ],
   "execution_count": 76
  },
  {
   "metadata": {
    "ExecuteTime": {
     "end_time": "2025-04-02T06:26:22.486538Z",
     "start_time": "2025-04-02T06:26:22.183293Z"
    }
   },
   "cell_type": "code",
   "source": [
    "qtiso = loader.find({'quadratic-pool-kernel': 'quadratic-iso'})\n",
    "print(qtiso.metrics)\n",
    "qmiso = qtiso.load_model()"
   ],
   "id": "38e853f0690e1d7b",
   "outputs": [
    {
     "name": "stdout",
     "output_type": "stream",
     "text": [
      "{'accuracy': np.float64(0.9967222213745117), 'loss': np.float64(0.011933539683620134), 'top3': np.float64(0.9997936487197876), 'val_accuracy': np.float64(0.9691296418507894), 'val_loss': np.float64(0.1483689248561859), 'val_top3': np.float64(0.9940184950828552)}\n"
     ]
    },
    {
     "name": "stderr",
     "output_type": "stream",
     "text": [
      "/home/peter/Thesis/.venv/lib/python3.12/site-packages/keras/src/saving/saving_lib.py:757: UserWarning: Skipping variable loading for optimizer 'adam', because it has 2 variables whereas the saved optimizer has 18 variables. \n",
      "  saveable.load_own_variables(weights_store.get(inner_path))\n"
     ]
    }
   ],
   "execution_count": 79
  },
  {
   "metadata": {
    "ExecuteTime": {
     "end_time": "2025-04-02T06:26:43.827118Z",
     "start_time": "2025-04-02T06:26:43.050836Z"
    }
   },
   "cell_type": "code",
   "source": "qmiso.evaluate(kmn.x_test, kmn.y_test, batch_size=2 ** 10, return_dict=True)",
   "id": "b07c073f636f3f0e",
   "outputs": [
    {
     "name": "stdout",
     "output_type": "stream",
     "text": [
      "\u001B[1m10/10\u001B[0m \u001B[32m━━━━━━━━━━━━━━━━━━━━\u001B[0m\u001B[37m\u001B[0m \u001B[1m1s\u001B[0m 70ms/step - accuracy: 0.9267 - loss: 0.3576 - top3: 0.9827\n"
     ]
    },
    {
     "data": {
      "text/plain": [
       "{'accuracy': 0.9254999756813049,\n",
       " 'loss': 0.3601137697696686,\n",
       " 'top3': 0.9805999994277954}"
      ]
     },
     "execution_count": 80,
     "metadata": {},
     "output_type": "execute_result"
    }
   ],
   "execution_count": 80
  }
 ],
 "metadata": {
  "kernelspec": {
   "display_name": "Python 3",
   "language": "python",
   "name": "python3"
  },
  "language_info": {
   "codemirror_mode": {
    "name": "ipython",
    "version": 2
   },
   "file_extension": ".py",
   "mimetype": "text/x-python",
   "name": "python",
   "nbconvert_exporter": "python",
   "pygments_lexer": "ipython2",
   "version": "2.7.6"
  }
 },
 "nbformat": 4,
 "nbformat_minor": 5
}
