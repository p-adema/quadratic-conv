{
 "cells": [
  {
   "cell_type": "code",
   "id": "initial_id",
   "metadata": {
    "collapsed": true,
    "ExecuteTime": {
     "end_time": "2025-05-22T07:09:09.923588Z",
     "start_time": "2025-05-22T07:09:07.943015Z"
    }
   },
   "source": [
    "!uv sync --quiet\n",
    "import torch\n",
    "from pytorch_semifield_conv import SelectSemifield\n",
    "import math\n",
    "import numba\n",
    "from numba import cuda"
   ],
   "outputs": [],
   "execution_count": 1
  },
  {
   "metadata": {
    "ExecuteTime": {
     "end_time": "2025-05-22T07:09:10.316472Z",
     "start_time": "2025-05-22T07:09:10.039909Z"
    }
   },
   "cell_type": "code",
   "source": [
    "from src import load_data\n",
    "k_mnist = load_data.k_mnist()\n",
    "ex_data = k_mnist.x_train[:1024].cuda().repeat((1, 6, 1, 1))"
   ],
   "id": "b35ccf7baa03b630",
   "outputs": [],
   "execution_count": 2
  },
  {
   "metadata": {
    "ExecuteTime": {
     "end_time": "2025-05-22T05:21:45.469908Z",
     "start_time": "2025-05-22T05:21:45.458743Z"
    }
   },
   "cell_type": "code",
   "source": [
    "torch.manual_seed(0)\n",
    "ex_kernel = torch.rand((6, 1, 11, 11), device=\"cuda\")"
   ],
   "id": "efc14571456d5231",
   "outputs": [],
   "execution_count": 3
  },
  {
   "metadata": {
    "ExecuteTime": {
     "end_time": "2025-05-20T17:09:37.390291Z",
     "start_time": "2025-05-20T17:09:37.387412Z"
    }
   },
   "cell_type": "code",
   "source": [
    "op = SelectSemifield.tropical_max().lazy_fixed(thread_block_size=256)\n",
    "op"
   ],
   "id": "eb846e9c04a178a",
   "outputs": [
    {
     "data": {
      "text/plain": [
       "CompiledConvFixedLazy()"
      ]
     },
     "execution_count": 4,
     "metadata": {},
     "output_type": "execute_result"
    }
   ],
   "execution_count": 4
  },
  {
   "metadata": {
    "ExecuteTime": {
     "end_time": "2025-05-20T17:09:52.668010Z",
     "start_time": "2025-05-20T17:09:46.695264Z"
    }
   },
   "cell_type": "code",
   "source": [
    "opc = torch.compile(op, fullgraph=True)\n",
    "opc(ex_data, ex_kernel, groups=6, padding=\"same\", stride=2).shape"
   ],
   "id": "bec78a0b9c721035",
   "outputs": [
    {
     "data": {
      "text/plain": [
       "torch.Size([1024, 6, 14, 14])"
      ]
     },
     "execution_count": 5,
     "metadata": {},
     "output_type": "execute_result"
    }
   ],
   "execution_count": 5
  },
  {
   "metadata": {
    "ExecuteTime": {
     "end_time": "2025-05-20T16:44:53.174973Z",
     "start_time": "2025-05-20T16:44:51.079603Z"
    }
   },
   "cell_type": "code",
   "source": [
    "g_inp = ex_data.clone().requires_grad_(True)\n",
    "g_krn = ex_kernel.clone().requires_grad_(True)\n",
    "g_tangent = torch.randn_like(op(ex_data, ex_kernel, groups=6, padding=\"same\", stride=2))\n",
    "\n",
    "def run_one():\n",
    "    res = op(g_inp, g_krn)\n",
    "    res.backward(g_tangent)\n",
    "    torch.cuda.synchronize()\n",
    "\n",
    "run_one()\n",
    "\n",
    "%timeit run_one()"
   ],
   "id": "99e3bfb10488546f",
   "outputs": [
    {
     "name": "stdout",
     "output_type": "stream",
     "text": [
      "256 μs ± 200 ns per loop (mean ± std. dev. of 7 runs, 1,000 loops each)\n"
     ]
    }
   ],
   "execution_count": 7
  },
  {
   "metadata": {},
   "cell_type": "code",
   "outputs": [],
   "execution_count": null,
   "source": [
    "g_inp = ex_data.clone().requires_grad_(True)\n",
    "g_krn = ex_kernel.clone().requires_grad_(True)\n",
    "g_tangent = torch.randn_like(op(ex_data, ex_kernel, groups=6, padding=\"same\", stride=2))\n",
    "\n",
    "def run_one():\n",
    "    res = opc(g_inp, g_krn)\n",
    "    res.backward(g_tangent)\n",
    "    torch.cuda.synchronize()\n",
    "\n",
    "run_one()\n",
    "\n",
    "%timeit run_one()"
   ],
   "id": "dfe31537003c1457"
  },
  {
   "metadata": {
    "ExecuteTime": {
     "end_time": "2025-05-20T17:02:46.236466Z",
     "start_time": "2025-05-20T17:02:46.095344Z"
    }
   },
   "cell_type": "code",
   "source": [
    "static_inp = torch.arange(5, dtype=torch.float32, device=\"cuda\")\n",
    "static_out = torch.empty((), device=\"cuda\")\n",
    "s = torch.cuda.Stream()\n",
    "s.wait_stream(torch.cuda.current_stream())\n",
    "with torch.cuda.stream(s):\n",
    "    for i in range(3):\n",
    "        a = torch.zeros(5, device=\"cuda\")\n",
    "        a += static_inp\n",
    "        static_out[...] = a[2]\n",
    "        print(torch.cuda.current_stream().stream_id)\n",
    "\n",
    "g = torch.cuda.CUDAGraph()\n",
    "# Sets grads to None before capture, so backward() will create\n",
    "# .grad attributes with allocations from the graph's private pool\n",
    "with torch.cuda.graph(g):\n",
    "    a = torch.zeros(5, device=\"cuda\")\n",
    "    a += static_inp\n",
    "    static_out[...] = a[2]\n",
    "\n",
    "torch.cuda.current_stream().wait_stream(s)"
   ],
   "id": "2ff11d9426ed8cc3",
   "outputs": [
    {
     "name": "stdout",
     "output_type": "stream",
     "text": [
      "195\n",
      "195\n",
      "195\n"
     ]
    }
   ],
   "execution_count": 33
  },
  {
   "metadata": {
    "ExecuteTime": {
     "end_time": "2025-05-20T17:02:12.419147Z",
     "start_time": "2025-05-20T17:02:12.403558Z"
    }
   },
   "cell_type": "code",
   "source": [
    "print(static_out)\n",
    "static_inp[2] = 5\n",
    "g.replay()\n",
    "print(static_out)"
   ],
   "id": "d2c3f9b40984a2f2",
   "outputs": [
    {
     "name": "stdout",
     "output_type": "stream",
     "text": [
      "tensor(2., device='cuda:0')\n",
      "tensor(5., device='cuda:0')\n"
     ]
    }
   ],
   "execution_count": 31
  },
  {
   "metadata": {
    "ExecuteTime": {
     "end_time": "2025-05-20T17:10:12.250324Z",
     "start_time": "2025-05-20T17:10:12.238091Z"
    }
   },
   "cell_type": "code",
   "source": [
    "opg = torch.compile(op, fullgraph=True, backend=\"cudagraphs\")\n",
    "torch.compiler.cudagraph_mark_step_begin()\n",
    "opg(ex_data+1, ex_kernel, groups=6, padding=\"same\", stride=2)\n",
    "torch.compiler.cudagraph_mark_step_begin()\n",
    "opg(ex_data+2, ex_kernel, groups=6, padding=\"same\", stride=2)[0, 0, :3, :3].numpy(force=True)"
   ],
   "id": "f3b2d46b56fa7bd7",
   "outputs": [
    {
     "data": {
      "text/plain": [
       "array([[2.9608638, 2.9926705, 3.3990464],\n",
       "       [2.9608638, 3.2029681, 3.89892  ],\n",
       "       [2.9608638, 3.5723448, 3.9608638]], dtype=float32)"
      ]
     },
     "execution_count": 9,
     "metadata": {},
     "output_type": "execute_result"
    }
   ],
   "execution_count": 9
  },
  {
   "metadata": {},
   "cell_type": "code",
   "source": [
    "#pre-expansion: 508 μs ± 160 ns per loop (mean ± std. dev. of 7 runs, 1,000 loops each)\n",
    "#post-unfloat 256 μs ± 200 ns per loop (mean ± std. dev. of 7 runs, 1,000 loops each)\n",
    "#post-expansion 168 μs ± 123 ns per loop (mean ± std. dev. of 7 runs, 10,000 loops each)"
   ],
   "id": "6c2294ad6373e5c3",
   "outputs": [],
   "execution_count": null
  },
  {
   "metadata": {
    "ExecuteTime": {
     "end_time": "2025-05-22T05:22:42.516380Z",
     "start_time": "2025-05-22T05:22:42.324707Z"
    }
   },
   "cell_type": "code",
   "source": [
    "# noinspection PyArgumentList\n",
    "@cuda.jit(\"void(float32[:], float32[:])\")\n",
    "def copy_test(vals, out):\n",
    "    x = cuda.grid(1)\n",
    "    if x > vals.size:\n",
    "        return\n",
    "\n",
    "    out[x] = vals[x]\n",
    "\n",
    "v = torch.arange(1024 * 6 * 28 * 28, dtype=torch.float32, device=\"cuda\")\n",
    "o = torch.zeros_like(v)\n",
    "copy_test[v.numel() // 32, 32](v, o)\n",
    "print(o)"
   ],
   "id": "684b660f109fe989",
   "outputs": [
    {
     "name": "stdout",
     "output_type": "stream",
     "text": [
      "tensor([0.0000e+00, 1.0000e+00, 2.0000e+00,  ..., 4.8169e+06, 4.8169e+06,\n",
      "        4.8169e+06], device='cuda:0')\n"
     ]
    }
   ],
   "execution_count": 4
  },
  {
   "metadata": {
    "ExecuteTime": {
     "end_time": "2025-05-22T05:24:26.212518Z",
     "start_time": "2025-05-22T05:24:16.337821Z"
    }
   },
   "cell_type": "code",
   "source": [
    "def run_one():\n",
    "    copy_test[v.numel() // 32, 32](v, o)\n",
    "    torch.cuda.synchronize()\n",
    "\n",
    "run_one()\n",
    "%timeit run_one()"
   ],
   "id": "836af0e1c608ba1f",
   "outputs": [
    {
     "name": "stdout",
     "output_type": "stream",
     "text": [
      "121 μs ± 142 ns per loop (mean ± std. dev. of 7 runs, 10,000 loops each)\n"
     ]
    }
   ],
   "execution_count": 10
  },
  {
   "metadata": {
    "ExecuteTime": {
     "end_time": "2025-05-22T05:25:25.167054Z",
     "start_time": "2025-05-22T05:25:25.146060Z"
    }
   },
   "cell_type": "code",
   "source": [
    "# noinspection PyArgumentList\n",
    "@cuda.jit(\"void(float32[:], float32[:])\")\n",
    "def copy_nth(vals, out):\n",
    "    x = cuda.grid(1)\n",
    "    if x > vals.size:\n",
    "        return\n",
    "\n",
    "    # out[7] = 7\n",
    "\n",
    "v = torch.arange(1024 * 6 * 28 * 28, dtype=torch.float32, device=\"cuda\")\n",
    "o = torch.zeros_like(v)\n",
    "copy_nth[v.numel() // 32, 32](v, o)\n",
    "print(o)"
   ],
   "id": "13050d2d5ee59ec",
   "outputs": [
    {
     "name": "stdout",
     "output_type": "stream",
     "text": [
      "tensor([0., 0., 0.,  ..., 0., 0., 0.], device='cuda:0')\n"
     ]
    }
   ],
   "execution_count": 16
  },
  {
   "metadata": {
    "ExecuteTime": {
     "end_time": "2025-05-22T05:25:35.526048Z",
     "start_time": "2025-05-22T05:25:25.673387Z"
    }
   },
   "cell_type": "code",
   "source": [
    "def run_one():\n",
    "    copy_nth[v.numel() // 32, 32](v, o)\n",
    "    torch.cuda.synchronize()\n",
    "\n",
    "run_one()\n",
    "%timeit run_one()"
   ],
   "id": "57d8f0868dc303a1",
   "outputs": [
    {
     "name": "stdout",
     "output_type": "stream",
     "text": [
      "121 μs ± 179 ns per loop (mean ± std. dev. of 7 runs, 10,000 loops each)\n"
     ]
    }
   ],
   "execution_count": 17
  },
  {
   "metadata": {
    "ExecuteTime": {
     "end_time": "2025-05-20T16:04:21.846747Z",
     "start_time": "2025-05-20T16:04:21.595901Z"
    }
   },
   "cell_type": "code",
   "source": [
    "# noinspection PyArgumentList\n",
    "@cuda.jit(\"void(float32[:], float32[:])\")\n",
    "def bwd(vals, out):\n",
    "    x = cuda.grid(1)\n",
    "    if x > vals.size:\n",
    "        return\n",
    "\n",
    "    ox = x % 8\n",
    "    cuda.atomic.add(out, ox, vals[x])\n",
    "\n",
    "v = torch.arange(1024 * 6 * 28 * 28, dtype=torch.float32, device=\"cuda\")\n",
    "o = torch.zeros(8, device=\"cuda\")\n",
    "bwd[v.numel() // 32, 32](v, o)\n",
    "print(o)"
   ],
   "id": "4816f5f3717d05db",
   "outputs": [
    {
     "name": "stdout",
     "output_type": "stream",
     "text": [
      "tensor([1.4501e+12, 1.4501e+12, 1.4501e+12, 1.4501e+12, 1.4501e+12, 1.4501e+12,\n",
      "        1.4501e+12, 1.4501e+12], device='cuda:0')\n"
     ]
    }
   ],
   "execution_count": 2
  },
  {
   "metadata": {
    "ExecuteTime": {
     "end_time": "2025-05-20T16:08:32.374350Z",
     "start_time": "2025-05-20T16:08:32.341071Z"
    }
   },
   "cell_type": "code",
   "source": [
    "EXPAND_SIZE = 1024 * 6\n",
    "# noinspection PyArgumentList\n",
    "@cuda.jit(\"void(float32[:], float32[:, :])\")\n",
    "def bwd_exp(vals, out):\n",
    "    x = cuda.grid(1)\n",
    "    if x > vals.size:\n",
    "        return\n",
    "\n",
    "    ox = x % 8\n",
    "    part = x % EXPAND_SIZE\n",
    "    cuda.atomic.add(out, (ox, part), vals[x])\n",
    "\n",
    "v = torch.arange(1024 * 6 * 28 * 28, dtype=torch.float32, device=\"cuda\")\n",
    "o_exp = torch.zeros((8, EXPAND_SIZE), device=\"cuda\")\n",
    "\n",
    "bwd_exp[v.numel() // 32, 32](v, o_exp)\n",
    "print(o_exp.sum(1))"
   ],
   "id": "fd090459372bc04a",
   "outputs": [
    {
     "name": "stdout",
     "output_type": "stream",
     "text": [
      "tensor([1.4502e+12, 1.4502e+12, 1.4502e+12, 1.4502e+12, 1.4502e+12, 1.4502e+12,\n",
      "        1.4502e+12, 1.4502e+12], device='cuda:0')\n"
     ]
    }
   ],
   "execution_count": 20
  },
  {
   "metadata": {
    "ExecuteTime": {
     "end_time": "2025-05-20T16:05:53.151406Z",
     "start_time": "2025-05-20T16:05:46.881159Z"
    }
   },
   "cell_type": "code",
   "source": [
    "o = torch.zeros(8, device=\"cuda\")\n",
    "def run_one():\n",
    "    bwd[v.numel() // 32, 32](v, o)\n",
    "    torch.cuda.synchronize()\n",
    "\n",
    "run_one()\n",
    "%timeit run_one()"
   ],
   "id": "4f5b28cf12f96e06",
   "outputs": [
    {
     "name": "stdout",
     "output_type": "stream",
     "text": [
      "772 μs ± 168 ns per loop (mean ± std. dev. of 7 runs, 1,000 loops each)\n"
     ]
    }
   ],
   "execution_count": 7
  },
  {
   "metadata": {
    "ExecuteTime": {
     "end_time": "2025-05-20T16:08:45.119123Z",
     "start_time": "2025-05-20T16:08:34.530447Z"
    }
   },
   "cell_type": "code",
   "source": [
    "o_exp = torch.zeros((8, EXPAND_SIZE), device=\"cuda\")\n",
    "def run_one():\n",
    "    bwd_exp[v.numel() // 32, 32](v, o_exp)\n",
    "    o_exp.sum(1)\n",
    "    torch.cuda.synchronize()\n",
    "\n",
    "run_one()\n",
    "%timeit run_one()"
   ],
   "id": "9697d29702706476",
   "outputs": [
    {
     "name": "stdout",
     "output_type": "stream",
     "text": [
      "130 μs ± 161 ns per loop (mean ± std. dev. of 7 runs, 10,000 loops each)\n"
     ]
    }
   ],
   "execution_count": 21
  },
  {
   "metadata": {
    "ExecuteTime": {
     "end_time": "2025-05-22T07:09:19.236037Z",
     "start_time": "2025-05-22T07:09:19.230825Z"
    }
   },
   "cell_type": "code",
   "source": [
    "STRIDE = 2\n",
    "WINDOW_SIZE = 6"
   ],
   "id": "7bd7190e5ffdcf94",
   "outputs": [],
   "execution_count": 3
  },
  {
   "metadata": {
    "ExecuteTime": {
     "end_time": "2025-05-22T07:09:20.461546Z",
     "start_time": "2025-05-22T07:09:20.244528Z"
    }
   },
   "cell_type": "code",
   "source": [
    "# noinspection PyArgumentList\n",
    "@cuda.jit(\"void(float32[:], float32[:])\")\n",
    "def pool_basic(vals, out):\n",
    "    idx = cuda.grid(1)\n",
    "    if idx > out.size:\n",
    "        return\n",
    "\n",
    "    ox = idx\n",
    "\n",
    "    begin_x = ox * STRIDE\n",
    "    acc = numba.float32(-100.0)\n",
    "    for x in range(begin_x, begin_x + WINDOW_SIZE):\n",
    "        if x >= vals.size:\n",
    "            continue\n",
    "        val = vals[x]\n",
    "        val_2 = val + numba.float32(1.0)\n",
    "        if val_2 > acc:\n",
    "            acc = val_2\n",
    "\n",
    "    out[ox] = acc"
   ],
   "id": "b08b84ddfc329571",
   "outputs": [],
   "execution_count": 4
  },
  {
   "metadata": {
    "ExecuteTime": {
     "end_time": "2025-05-20T19:24:47.447358Z",
     "start_time": "2025-05-20T19:24:40.762566Z"
    }
   },
   "cell_type": "code",
   "source": [
    "def run_one():\n",
    "    vec_copy4[2**21 // 32, 32](a, b)\n",
    "    torch.cuda.synchronize()\n",
    "\n",
    "run_one()\n",
    "%timeit run_one()"
   ],
   "id": "84ae48bc50acd68b",
   "outputs": [
    {
     "name": "stdout",
     "output_type": "stream",
     "text": [
      "82.2 μs ± 155 ns per loop (mean ± std. dev. of 7 runs, 10,000 loops each)\n"
     ]
    }
   ],
   "execution_count": 50
  },
  {
   "metadata": {},
   "cell_type": "code",
   "outputs": [],
   "execution_count": null,
   "source": "# 59.7 μs ± 69.9 ns per loop (mean ± std. dev. of 7 runs, 10,000 loops each)",
   "id": "cbbce0d70658b7b5"
  },
  {
   "metadata": {
    "ExecuteTime": {
     "end_time": "2025-05-22T07:25:59.016765Z",
     "start_time": "2025-05-22T07:25:58.954512Z"
    }
   },
   "cell_type": "code",
   "source": [
    "# noinspection PyArgumentList\n",
    "@cuda.jit(\"void(float32[:], float32[:])\")\n",
    "def pool_basic_select(vals, out):\n",
    "    ox = cuda.grid(1)\n",
    "    if ox > out.size:\n",
    "        return\n",
    "\n",
    "\n",
    "    acc = numba.float32(-100.0)\n",
    "\n",
    "    for _ in range(WINDOW_SIZE):\n",
    "        begin_x = ox * STRIDE\n",
    "        for x in range(begin_x, begin_x + WINDOW_SIZE):\n",
    "            val = cuda.selp(x < vals.size, vals[x], numba.float32(-1000))\n",
    "            val_2 = val + numba.float32(1.0)\n",
    "            acc = cuda.selp(val_2 > acc, val_2, acc)\n",
    "\n",
    "    out[ox] = acc\n",
    "\n",
    "IN_SIZE = 21\n",
    "OUT_SIZE = (IN_SIZE - 1 - (WINDOW_SIZE - 1)) // STRIDE + 1\n",
    "\n",
    "torch.manual_seed(0)\n",
    "ex_vals_1d = torch.rand(IN_SIZE, device=\"cuda\")\n",
    "ex_out = torch.empty(OUT_SIZE, device=\"cuda\")\n",
    "print(ex_vals_1d)\n",
    "ex_chec = torch.max_pool1d(ex_vals_1d.unsqueeze(0), WINDOW_SIZE, STRIDE).add(1).squeeze()\n",
    "print(ex_chec)\n",
    "pool_basic_select[(OUT_SIZE*STRIDE + 31) // 32, 32](ex_vals_1d, ex_out)\n",
    "print(ex_out)\n",
    "torch.testing.assert_close(ex_chec, ex_out)"
   ],
   "id": "ea77717a2d634725",
   "outputs": [
    {
     "name": "stdout",
     "output_type": "stream",
     "text": [
      "tensor([0.3990, 0.5167, 0.0249, 0.9401, 0.9459, 0.7967, 0.4150, 0.8203, 0.2290,\n",
      "        0.9096, 0.1183, 0.0752, 0.4092, 0.9601, 0.2093, 0.1940, 0.8909, 0.4387,\n",
      "        0.3570, 0.5454, 0.8299], device='cuda:0')\n",
      "tensor([1.9459, 1.9459, 1.9459, 1.9096, 1.9601, 1.9601, 1.9601, 1.8909],\n",
      "       device='cuda:0')\n",
      "tensor([1.9459, 1.9459, 1.9459, 1.9096, 1.9601, 1.9601, 1.9601, 1.8909],\n",
      "       device='cuda:0')\n"
     ]
    }
   ],
   "execution_count": 36
  },
  {
   "metadata": {
    "ExecuteTime": {
     "end_time": "2025-05-22T07:26:55.450134Z",
     "start_time": "2025-05-22T07:26:55.374420Z"
    }
   },
   "cell_type": "code",
   "source": [
    "BLOCK_SIZE = 64\n",
    "CACHE_SIZE = (BLOCK_SIZE - 1) * STRIDE + WINDOW_SIZE\n",
    "FILL_STEPS = math.ceil(CACHE_SIZE / BLOCK_SIZE)\n",
    "# noinspection PyArgumentList\n",
    "@cuda.jit(\"void(float32[:], float32[:])\")\n",
    "def pool_shmm(inp, out):\n",
    "    ox = cuda.grid(1)\n",
    "\n",
    "    inp_cache = cuda.shared.array(CACHE_SIZE, numba.float32)\n",
    "    acc = numba.float32(-100.0)\n",
    "\n",
    "    cache_pos = cuda.threadIdx.x\n",
    "    block_begin_x = cuda.blockIdx.x * BLOCK_SIZE * STRIDE\n",
    "    for _ in range(FILL_STEPS - 1):\n",
    "        x = block_begin_x + cache_pos\n",
    "        inp_cache[cache_pos] = cuda.selp(x < inp.size, inp[x], numba.float32(-200))\n",
    "\n",
    "        cache_pos += BLOCK_SIZE\n",
    "\n",
    "    if cache_pos < CACHE_SIZE:\n",
    "        x = block_begin_x + cache_pos\n",
    "        inp_cache[cache_pos] = cuda.selp(x < inp.size, inp[x], numba.float32(-200))\n",
    "\n",
    "    cuda.syncthreads()\n",
    "\n",
    "    if ox >= out.shape[-1]:\n",
    "        return\n",
    "\n",
    "    for _ in range(100):\n",
    "        cache_begin_x = cuda.threadIdx.x * STRIDE\n",
    "        for cache_x in range(cache_begin_x, cache_begin_x + WINDOW_SIZE):\n",
    "            val = inp_cache[cache_x]\n",
    "            val_2 = val + numba.float32(1.0)\n",
    "            acc = cuda.selp(val_2 > acc, val_2, acc)\n",
    "\n",
    "    out[ox] = acc\n",
    "\n",
    "IN_SIZE = 134\n",
    "OUT_SIZE = (IN_SIZE - 1 - (WINDOW_SIZE - 1)) // STRIDE + 1\n",
    "\n",
    "torch.manual_seed(0)\n",
    "ex_vals_1d = torch.rand(IN_SIZE, device=\"cuda\")\n",
    "ex_out = torch.zeros(OUT_SIZE, device=\"cuda\")\n",
    "print(ex_vals_1d)\n",
    "ex_chec = torch.max_pool1d(ex_vals_1d.unsqueeze(0), WINDOW_SIZE, STRIDE).add(1).squeeze()\n",
    "print(ex_chec)\n",
    "pool_shmm[(OUT_SIZE + BLOCK_SIZE - 1) // BLOCK_SIZE, BLOCK_SIZE](ex_vals_1d, ex_out)\n",
    "print(ex_out)\n",
    "print(OUT_SIZE)\n",
    "torch.testing.assert_close(ex_chec, ex_out)"
   ],
   "id": "4261bd2f9d3cf50f",
   "outputs": [
    {
     "name": "stdout",
     "output_type": "stream",
     "text": [
      "tensor([0.3990, 0.5167, 0.0249, 0.9401, 0.9459, 0.7967, 0.4150, 0.8203, 0.2290,\n",
      "        0.9096, 0.1183, 0.0752, 0.4092, 0.9601, 0.2093, 0.1940, 0.8909, 0.4387,\n",
      "        0.3570, 0.5454, 0.8299, 0.2099, 0.7684, 0.4290, 0.2117, 0.6606, 0.1654,\n",
      "        0.4250, 0.9927, 0.6964, 0.2472, 0.7028, 0.7494, 0.9303, 0.0494, 0.0750,\n",
      "        0.7223, 0.9478, 0.3647, 0.2215, 0.7784, 0.6391, 0.2077, 0.7045, 0.9609,\n",
      "        0.0594, 0.3358, 0.0616, 0.7030, 0.5642, 0.0102, 0.8551, 0.5187, 0.5017,\n",
      "        0.1144, 0.2751, 0.5339, 0.8582, 0.8465, 0.1845, 0.6360, 0.6799, 0.4408,\n",
      "        0.5010, 0.8097, 0.5962, 0.5514, 0.4169, 0.2961, 0.6828, 0.4728, 0.4230,\n",
      "        0.7024, 0.7056, 0.5943, 0.1731, 0.6248, 0.6187, 0.7183, 0.8779, 0.9462,\n",
      "        0.4853, 0.0058, 0.9289, 0.7312, 0.3061, 0.9718, 0.7474, 0.2582, 0.3683,\n",
      "        0.6239, 0.0971, 0.8172, 0.6601, 0.3544, 0.5687, 0.8948, 0.2423, 0.6391,\n",
      "        0.7883, 0.6621, 0.8817, 0.7484, 0.3815, 0.0312, 0.5583, 0.7475, 0.6970,\n",
      "        0.8021, 0.5907, 0.0841, 0.7754, 0.1627, 0.3869, 0.4244, 0.3798, 0.4583,\n",
      "        0.3499, 0.0698, 0.5725, 0.0853, 0.6387, 0.1090, 0.6436, 0.6654, 0.8367,\n",
      "        0.4116, 0.9467, 0.5064, 0.8398, 0.4391, 0.0843, 0.3593, 0.3943],\n",
      "       device='cuda:0')\n",
      "tensor([1.9459, 1.9459, 1.9459, 1.9096, 1.9601, 1.9601, 1.9601, 1.8909, 1.8909,\n",
      "        1.8299, 1.8299, 1.7684, 1.9927, 1.9927, 1.9927, 1.9303, 1.9478, 1.9478,\n",
      "        1.9478, 1.7784, 1.9609, 1.9609, 1.9609, 1.8551, 1.8551, 1.8551, 1.8582,\n",
      "        1.8582, 1.8582, 1.8465, 1.8097, 1.8097, 1.8097, 1.6828, 1.7056, 1.7056,\n",
      "        1.7056, 1.8779, 1.9462, 1.9462, 1.9462, 1.9718, 1.9718, 1.9718, 1.8172,\n",
      "        1.8172, 1.8948, 1.8948, 1.8948, 1.8817, 1.8817, 1.7484, 1.8021, 1.8021,\n",
      "        1.8021, 1.7754, 1.4583, 1.5725, 1.6387, 1.6436, 1.8367, 1.9467, 1.9467,\n",
      "        1.9467, 1.8398], device='cuda:0')\n",
      "tensor([1.9459, 1.9459, 1.9459, 1.9096, 1.9601, 1.9601, 1.9601, 1.8909, 1.8909,\n",
      "        1.8299, 1.8299, 1.7684, 1.9927, 1.9927, 1.9927, 1.9303, 1.9478, 1.9478,\n",
      "        1.9478, 1.7784, 1.9609, 1.9609, 1.9609, 1.8551, 1.8551, 1.8551, 1.8582,\n",
      "        1.8582, 1.8582, 1.8465, 1.8097, 1.8097, 1.8097, 1.6828, 1.7056, 1.7056,\n",
      "        1.7056, 1.8779, 1.9462, 1.9462, 1.9462, 1.9718, 1.9718, 1.9718, 1.8172,\n",
      "        1.8172, 1.8948, 1.8948, 1.8948, 1.8817, 1.8817, 1.7484, 1.8021, 1.8021,\n",
      "        1.8021, 1.7754, 1.4583, 1.5725, 1.6387, 1.6436, 1.8367, 1.9467, 1.9467,\n",
      "        1.9467, 1.8398], device='cuda:0')\n",
      "65\n"
     ]
    }
   ],
   "execution_count": 40
  },
  {
   "metadata": {},
   "cell_type": "code",
   "outputs": [],
   "execution_count": null,
   "source": "",
   "id": "a4f50b72f1c3e192"
  },
  {
   "metadata": {
    "ExecuteTime": {
     "end_time": "2025-05-20T14:51:47.300320Z",
     "start_time": "2025-05-20T14:51:47.295877Z"
    }
   },
   "cell_type": "code",
   "source": "import numpy as np",
   "id": "cb8683c498518517",
   "outputs": [],
   "execution_count": 61
  },
  {
   "metadata": {
    "ExecuteTime": {
     "end_time": "2025-05-20T15:48:33.681640Z",
     "start_time": "2025-05-20T15:48:33.604414Z"
    }
   },
   "cell_type": "code",
   "source": [
    "FULL_MASK = 0xFFFF\n",
    "CONST_LIST = np.array([1, 2, 3], dtype=np.uint64)\n",
    "# noinspection PyArgumentList\n",
    "@cuda.jit(\"void(float32[:], float32[:])\")\n",
    "def pool_strided(vals, out):\n",
    "    idx = cuda.grid(1)\n",
    "    if idx > out.size * STRIDE:\n",
    "        return\n",
    "\n",
    "    ox, stride_step = divmod(idx, STRIDE)\n",
    "    stride_leader = stride_step == 0\n",
    "    begin_x = ox * STRIDE\n",
    "    acc = numba.float32(-100.0)\n",
    "    for i in range(math.ceil(WINDOW_SIZE / STRIDE)):\n",
    "        step = stride_step + i * STRIDE\n",
    "        window_valid = step < WINDOW_SIZE\n",
    "        x = begin_x + step\n",
    "        x_valid = x < vals.shape[-1]\n",
    "        val = cuda.selp(window_valid and x_valid, vals[x], numba.float32(-1000))\n",
    "        val_2 = val + numba.float32(1.0)\n",
    "        other_val_2 = cuda.shfl_down_sync(FULL_MASK, val_2, 1)\n",
    "\n",
    "        if other_val_2 > val_2:\n",
    "            val_2 = other_val_2\n",
    "\n",
    "        if val_2 > acc:\n",
    "            acc = val_2\n",
    "\n",
    "    if stride_leader:\n",
    "        out[ox] = acc\n",
    "\n",
    "IN_SIZE = 21\n",
    "OUT_SIZE = (IN_SIZE - 1 - (WINDOW_SIZE - 1)) // STRIDE + 1\n",
    "\n",
    "torch.manual_seed(0)\n",
    "ex_vals_1d = torch.rand(IN_SIZE, device=\"cuda\")\n",
    "ex_out = torch.empty(OUT_SIZE, device=\"cuda\")\n",
    "print(ex_vals_1d)\n",
    "ex_chec = torch.max_pool1d(ex_vals_1d.unsqueeze(0), WINDOW_SIZE, STRIDE).add(1).squeeze()\n",
    "print(ex_chec)\n",
    "pool_strided[(OUT_SIZE*STRIDE + 31) // 32, 32](ex_vals_1d, ex_out)\n",
    "print(ex_out)\n",
    "torch.testing.assert_close(ex_chec, ex_out)"
   ],
   "id": "e5fe3ece75491b26",
   "outputs": [
    {
     "name": "stdout",
     "output_type": "stream",
     "text": [
      "tensor([0.3990, 0.5167, 0.0249, 0.9401, 0.9459, 0.7967, 0.4150, 0.8203, 0.2290,\n",
      "        0.9096, 0.1183, 0.0752, 0.4092, 0.9601, 0.2093, 0.1940, 0.8909, 0.4387,\n",
      "        0.3570, 0.5454, 0.8299], device='cuda:0')\n",
      "tensor([1.9459, 1.9459, 1.9459, 1.9096, 1.9601, 1.9601, 1.9601, 1.8909],\n",
      "       device='cuda:0')\n",
      "tensor([1.9459, 1.9459, 1.9459, 1.9096, 1.9601, 1.9601, 1.9601, 1.8909],\n",
      "       device='cuda:0')\n"
     ]
    }
   ],
   "execution_count": 63
  },
  {
   "metadata": {
    "ExecuteTime": {
     "end_time": "2025-05-22T07:27:00.285927Z",
     "start_time": "2025-05-22T07:26:57.705012Z"
    }
   },
   "cell_type": "code",
   "source": [
    "IN_SIZE = 16_000_000\n",
    "OUT_SIZE = (IN_SIZE - 1 - (WINDOW_SIZE - 1)) // STRIDE + 1\n",
    "\n",
    "pool = pool_shmm\n",
    "block_size = 64\n",
    "# n_blocks = (OUT_SIZE + 31) // 32\n",
    "# n_blocks = (OUT_SIZE * STRIDE + 31) // 32\n",
    "n_blocks = (OUT_SIZE + block_size - 1) // block_size\n",
    "\n",
    "torch.manual_seed(0)\n",
    "lg_vals_1d = torch.rand(IN_SIZE, device=\"cuda\")\n",
    "lg_out = torch.empty(OUT_SIZE, device=\"cuda\")\n",
    "check_out = torch.max_pool1d(lg_vals_1d.unsqueeze(0), WINDOW_SIZE, STRIDE).add(1).squeeze()\n",
    "pool[n_blocks, block_size](lg_vals_1d, lg_out)\n",
    "torch.testing.assert_close(check_out, lg_out)\n",
    "\n",
    "def run_one():\n",
    "    pool[n_blocks, block_size](lg_vals_1d, lg_out)\n",
    "    torch.cuda.synchronize()\n",
    "\n",
    "run_one()\n",
    "%timeit run_one()"
   ],
   "id": "d9349d0620e10536",
   "outputs": [
    {
     "name": "stdout",
     "output_type": "stream",
     "text": [
      "316 μs ± 228 ns per loop (mean ± std. dev. of 7 runs, 1,000 loops each)\n"
     ]
    }
   ],
   "execution_count": 41
  },
  {
   "metadata": {},
   "cell_type": "code",
   "outputs": [],
   "execution_count": null,
   "source": [
    "# Basic (+select): 110 μs\n",
    "# shmem 108?\n",
    "\n"
   ],
   "id": "f2803e74231d757"
  }
 ],
 "metadata": {
  "kernelspec": {
   "display_name": "Python 3",
   "language": "python",
   "name": "python3"
  },
  "language_info": {
   "codemirror_mode": {
    "name": "ipython",
    "version": 2
   },
   "file_extension": ".py",
   "mimetype": "text/x-python",
   "name": "python",
   "nbconvert_exporter": "python",
   "pygments_lexer": "ipython2",
   "version": "2.7.6"
  }
 },
 "nbformat": 4,
 "nbformat_minor": 5
}
